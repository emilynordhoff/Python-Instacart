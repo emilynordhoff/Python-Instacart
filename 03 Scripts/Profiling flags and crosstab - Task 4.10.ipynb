{
 "cells": [
  {
   "cell_type": "markdown",
   "id": "f2d1abed",
   "metadata": {},
   "source": [
    "### Contents:\n",
    "    01 Importing libraries and data\n",
    "    02 Data checks\n",
    "        a merge departments df\n",
    "        b derive variables/flags\n",
    "    03 Address PII concerns\n",
    "    04 More variable derivation\n",
    "        a explore region variable\n",
    "    05 Subset customer data\n",
    "        a crosstab() function\n",
    "    06 Create exclusion flag\n",
    "    07 Create flags for order/customer profiling\n",
    "        a age range\n",
    "        b shopping time during the day\n",
    "        c pet flag\n",
    "        d baby flag\n",
    "        e frozen flag\n",
    "        f snacks flag\n",
    "        e common order day\n",
    "        f customer income brackets\n",
    "    08 Export"
   ]
  },
  {
   "cell_type": "markdown",
   "id": "958bfa18",
   "metadata": {},
   "source": [
    "# Task 4.10 - Part 1"
   ]
  },
  {
   "cell_type": "markdown",
   "id": "89c2db67",
   "metadata": {},
   "source": [
    "## 01 Importing libraries and data"
   ]
  },
  {
   "cell_type": "code",
   "execution_count": 1,
   "id": "083dfd0d",
   "metadata": {},
   "outputs": [],
   "source": [
    "import pandas as pd\n",
    "import numpy as np\n",
    "import os\n",
    "import matplotlib.pyplot as plt\n",
    "import seaborn as sns\n",
    "import scipy"
   ]
  },
  {
   "cell_type": "code",
   "execution_count": 2,
   "id": "492aaeea",
   "metadata": {},
   "outputs": [],
   "source": [
    "path = r'/Users/Emily/Documents/CF Data Analysis Program/Immersion 4/Instacart Basket Analysis'"
   ]
  },
  {
   "cell_type": "code",
   "execution_count": 3,
   "id": "7aeba3c9",
   "metadata": {},
   "outputs": [],
   "source": [
    "df = pd.read_pickle(os.path.join(path, '02 Data', 'prepared data', 'df_full.pkl'))"
   ]
  },
  {
   "cell_type": "code",
   "execution_count": 4,
   "id": "8d5a7121",
   "metadata": {},
   "outputs": [],
   "source": [
    "# df = pd.read_pickle(os.path.join(path, '02 Data', 'prepared data', 'df_full_30.pkl'))"
   ]
  },
  {
   "cell_type": "code",
   "execution_count": 5,
   "id": "49b164b2",
   "metadata": {},
   "outputs": [],
   "source": [
    "# df_cust = pd.read_pickle(os.path.join(path, '02 Data', 'prepared data', 'customers_clean.pkl'))"
   ]
  },
  {
   "cell_type": "code",
   "execution_count": 6,
   "id": "7f12016f",
   "metadata": {},
   "outputs": [],
   "source": [
    "departments = pd.read_csv(os.path.join(path, '02 Data', 'prepared data', 'departments_wrangled.csv'), index_col=0)"
   ]
  },
  {
   "cell_type": "markdown",
   "id": "3ce5fbb1",
   "metadata": {},
   "source": [
    "## 02 Data checks & Preparation"
   ]
  },
  {
   "cell_type": "markdown",
   "id": "8ce85749",
   "metadata": {},
   "source": [
    "### Data checks: large df"
   ]
  },
  {
   "cell_type": "code",
   "execution_count": 7,
   "id": "5a40116b",
   "metadata": {
    "scrolled": true
   },
   "outputs": [
    {
     "data": {
      "text/html": [
       "<div>\n",
       "<style scoped>\n",
       "    .dataframe tbody tr th:only-of-type {\n",
       "        vertical-align: middle;\n",
       "    }\n",
       "\n",
       "    .dataframe tbody tr th {\n",
       "        vertical-align: top;\n",
       "    }\n",
       "\n",
       "    .dataframe thead th {\n",
       "        text-align: right;\n",
       "    }\n",
       "</style>\n",
       "<table border=\"1\" class=\"dataframe\">\n",
       "  <thead>\n",
       "    <tr style=\"text-align: right;\">\n",
       "      <th></th>\n",
       "      <th>order_id</th>\n",
       "      <th>user_id</th>\n",
       "      <th>order_number</th>\n",
       "      <th>order_day_of_week</th>\n",
       "      <th>order_hour_of_day</th>\n",
       "      <th>days_since_prior_order</th>\n",
       "      <th>product_id</th>\n",
       "      <th>add_to_cart_order</th>\n",
       "      <th>reordered</th>\n",
       "      <th>product_name</th>\n",
       "      <th>...</th>\n",
       "      <th>gender</th>\n",
       "      <th>state</th>\n",
       "      <th>age</th>\n",
       "      <th>date_joined</th>\n",
       "      <th>n_dependants</th>\n",
       "      <th>fam_status</th>\n",
       "      <th>income</th>\n",
       "      <th>price_range</th>\n",
       "      <th>max_order</th>\n",
       "      <th>loyalty_flag</th>\n",
       "    </tr>\n",
       "  </thead>\n",
       "  <tbody>\n",
       "    <tr>\n",
       "      <th>0</th>\n",
       "      <td>2539329</td>\n",
       "      <td>1</td>\n",
       "      <td>1</td>\n",
       "      <td>2</td>\n",
       "      <td>8</td>\n",
       "      <td>NaN</td>\n",
       "      <td>196</td>\n",
       "      <td>1</td>\n",
       "      <td>0</td>\n",
       "      <td>Soda</td>\n",
       "      <td>...</td>\n",
       "      <td>Female</td>\n",
       "      <td>Alabama</td>\n",
       "      <td>31</td>\n",
       "      <td>2/17/2019</td>\n",
       "      <td>3</td>\n",
       "      <td>married</td>\n",
       "      <td>40423</td>\n",
       "      <td>mid</td>\n",
       "      <td>10</td>\n",
       "      <td>new</td>\n",
       "    </tr>\n",
       "    <tr>\n",
       "      <th>1</th>\n",
       "      <td>2398795</td>\n",
       "      <td>1</td>\n",
       "      <td>2</td>\n",
       "      <td>3</td>\n",
       "      <td>7</td>\n",
       "      <td>15.0</td>\n",
       "      <td>196</td>\n",
       "      <td>1</td>\n",
       "      <td>1</td>\n",
       "      <td>Soda</td>\n",
       "      <td>...</td>\n",
       "      <td>Female</td>\n",
       "      <td>Alabama</td>\n",
       "      <td>31</td>\n",
       "      <td>2/17/2019</td>\n",
       "      <td>3</td>\n",
       "      <td>married</td>\n",
       "      <td>40423</td>\n",
       "      <td>mid</td>\n",
       "      <td>10</td>\n",
       "      <td>new</td>\n",
       "    </tr>\n",
       "    <tr>\n",
       "      <th>2</th>\n",
       "      <td>473747</td>\n",
       "      <td>1</td>\n",
       "      <td>3</td>\n",
       "      <td>3</td>\n",
       "      <td>12</td>\n",
       "      <td>21.0</td>\n",
       "      <td>196</td>\n",
       "      <td>1</td>\n",
       "      <td>1</td>\n",
       "      <td>Soda</td>\n",
       "      <td>...</td>\n",
       "      <td>Female</td>\n",
       "      <td>Alabama</td>\n",
       "      <td>31</td>\n",
       "      <td>2/17/2019</td>\n",
       "      <td>3</td>\n",
       "      <td>married</td>\n",
       "      <td>40423</td>\n",
       "      <td>mid</td>\n",
       "      <td>10</td>\n",
       "      <td>new</td>\n",
       "    </tr>\n",
       "    <tr>\n",
       "      <th>3</th>\n",
       "      <td>2254736</td>\n",
       "      <td>1</td>\n",
       "      <td>4</td>\n",
       "      <td>4</td>\n",
       "      <td>7</td>\n",
       "      <td>29.0</td>\n",
       "      <td>196</td>\n",
       "      <td>1</td>\n",
       "      <td>1</td>\n",
       "      <td>Soda</td>\n",
       "      <td>...</td>\n",
       "      <td>Female</td>\n",
       "      <td>Alabama</td>\n",
       "      <td>31</td>\n",
       "      <td>2/17/2019</td>\n",
       "      <td>3</td>\n",
       "      <td>married</td>\n",
       "      <td>40423</td>\n",
       "      <td>mid</td>\n",
       "      <td>10</td>\n",
       "      <td>new</td>\n",
       "    </tr>\n",
       "    <tr>\n",
       "      <th>4</th>\n",
       "      <td>431534</td>\n",
       "      <td>1</td>\n",
       "      <td>5</td>\n",
       "      <td>4</td>\n",
       "      <td>15</td>\n",
       "      <td>28.0</td>\n",
       "      <td>196</td>\n",
       "      <td>1</td>\n",
       "      <td>1</td>\n",
       "      <td>Soda</td>\n",
       "      <td>...</td>\n",
       "      <td>Female</td>\n",
       "      <td>Alabama</td>\n",
       "      <td>31</td>\n",
       "      <td>2/17/2019</td>\n",
       "      <td>3</td>\n",
       "      <td>married</td>\n",
       "      <td>40423</td>\n",
       "      <td>mid</td>\n",
       "      <td>10</td>\n",
       "      <td>new</td>\n",
       "    </tr>\n",
       "  </tbody>\n",
       "</table>\n",
       "<p>5 rows × 26 columns</p>\n",
       "</div>"
      ],
      "text/plain": [
       "   order_id  user_id  order_number  order_day_of_week  order_hour_of_day  \\\n",
       "0   2539329        1             1                  2                  8   \n",
       "1   2398795        1             2                  3                  7   \n",
       "2    473747        1             3                  3                 12   \n",
       "3   2254736        1             4                  4                  7   \n",
       "4    431534        1             5                  4                 15   \n",
       "\n",
       "   days_since_prior_order  product_id  add_to_cart_order  reordered  \\\n",
       "0                     NaN         196                  1          0   \n",
       "1                    15.0         196                  1          1   \n",
       "2                    21.0         196                  1          1   \n",
       "3                    29.0         196                  1          1   \n",
       "4                    28.0         196                  1          1   \n",
       "\n",
       "  product_name  ...  gender    state  age date_joined n_dependants fam_status  \\\n",
       "0         Soda  ...  Female  Alabama   31   2/17/2019            3    married   \n",
       "1         Soda  ...  Female  Alabama   31   2/17/2019            3    married   \n",
       "2         Soda  ...  Female  Alabama   31   2/17/2019            3    married   \n",
       "3         Soda  ...  Female  Alabama   31   2/17/2019            3    married   \n",
       "4         Soda  ...  Female  Alabama   31   2/17/2019            3    married   \n",
       "\n",
       "  income price_range  max_order loyalty_flag  \n",
       "0  40423         mid         10          new  \n",
       "1  40423         mid         10          new  \n",
       "2  40423         mid         10          new  \n",
       "3  40423         mid         10          new  \n",
       "4  40423         mid         10          new  \n",
       "\n",
       "[5 rows x 26 columns]"
      ]
     },
     "execution_count": 7,
     "metadata": {},
     "output_type": "execute_result"
    }
   ],
   "source": [
    "df.head()"
   ]
  },
  {
   "cell_type": "code",
   "execution_count": 8,
   "id": "e2a996f3",
   "metadata": {},
   "outputs": [
    {
     "name": "stdout",
     "output_type": "stream",
     "text": [
      "<class 'pandas.core.frame.DataFrame'>\n",
      "Int64Index: 32434212 entries, 0 to 32434211\n",
      "Data columns (total 26 columns):\n",
      " #   Column                  Dtype   \n",
      "---  ------                  -----   \n",
      " 0   order_id                int32   \n",
      " 1   user_id                 int32   \n",
      " 2   order_number            int8    \n",
      " 3   order_day_of_week       int8    \n",
      " 4   order_hour_of_day       int8    \n",
      " 5   days_since_prior_order  float16 \n",
      " 6   product_id              int32   \n",
      " 7   add_to_cart_order       uint8   \n",
      " 8   reordered               int8    \n",
      " 9   product_name            object  \n",
      " 10  aisle_id                int16   \n",
      " 11  department_id           int8    \n",
      " 12  prices                  float32 \n",
      " 13  _merge                  category\n",
      " 14  first_name              object  \n",
      " 15  last_name               object  \n",
      " 16  gender                  object  \n",
      " 17  state                   object  \n",
      " 18  age                     int8    \n",
      " 19  date_joined             object  \n",
      " 20  n_dependants            int8    \n",
      " 21  fam_status              object  \n",
      " 22  income                  int32   \n",
      " 23  price_range             object  \n",
      " 24  max_order               int8    \n",
      " 25  loyalty_flag            object  \n",
      "dtypes: category(1), float16(1), float32(1), int16(1), int32(4), int8(8), object(9), uint8(1)\n",
      "memory usage: 3.4+ GB\n"
     ]
    }
   ],
   "source": [
    "df.info()"
   ]
  },
  {
   "cell_type": "code",
   "execution_count": 9,
   "id": "ec4b27a8",
   "metadata": {},
   "outputs": [
    {
     "data": {
      "text/plain": [
       "(32434212, 26)"
      ]
     },
     "execution_count": 9,
     "metadata": {},
     "output_type": "execute_result"
    }
   ],
   "source": [
    "df.shape"
   ]
  },
  {
   "cell_type": "markdown",
   "id": "02cd92ed",
   "metadata": {},
   "source": [
    "### Data Checks: departments df"
   ]
  },
  {
   "cell_type": "code",
   "execution_count": 10,
   "id": "426359b9",
   "metadata": {},
   "outputs": [
    {
     "data": {
      "text/html": [
       "<div>\n",
       "<style scoped>\n",
       "    .dataframe tbody tr th:only-of-type {\n",
       "        vertical-align: middle;\n",
       "    }\n",
       "\n",
       "    .dataframe tbody tr th {\n",
       "        vertical-align: top;\n",
       "    }\n",
       "\n",
       "    .dataframe thead th {\n",
       "        text-align: right;\n",
       "    }\n",
       "</style>\n",
       "<table border=\"1\" class=\"dataframe\">\n",
       "  <thead>\n",
       "    <tr style=\"text-align: right;\">\n",
       "      <th></th>\n",
       "      <th>department</th>\n",
       "    </tr>\n",
       "  </thead>\n",
       "  <tbody>\n",
       "    <tr>\n",
       "      <th>1</th>\n",
       "      <td>frozen</td>\n",
       "    </tr>\n",
       "    <tr>\n",
       "      <th>2</th>\n",
       "      <td>other</td>\n",
       "    </tr>\n",
       "    <tr>\n",
       "      <th>3</th>\n",
       "      <td>bakery</td>\n",
       "    </tr>\n",
       "    <tr>\n",
       "      <th>4</th>\n",
       "      <td>produce</td>\n",
       "    </tr>\n",
       "    <tr>\n",
       "      <th>5</th>\n",
       "      <td>alcohol</td>\n",
       "    </tr>\n",
       "  </tbody>\n",
       "</table>\n",
       "</div>"
      ],
      "text/plain": [
       "  department\n",
       "1     frozen\n",
       "2      other\n",
       "3     bakery\n",
       "4    produce\n",
       "5    alcohol"
      ]
     },
     "execution_count": 10,
     "metadata": {},
     "output_type": "execute_result"
    }
   ],
   "source": [
    "departments.head()"
   ]
  },
  {
   "cell_type": "markdown",
   "id": "ec1c219c",
   "metadata": {},
   "source": [
    "### a) Merge the two together"
   ]
  },
  {
   "cell_type": "code",
   "execution_count": 11,
   "id": "ec33272e",
   "metadata": {},
   "outputs": [
    {
     "name": "stdout",
     "output_type": "stream",
     "text": [
      "CPU times: user 11 s, sys: 12.6 s, total: 23.6 s\n",
      "Wall time: 33.5 s\n"
     ]
    }
   ],
   "source": [
    "%%time\n",
    "# merge the department names into the big data file\n",
    "df = df.merge(departments, how='inner', left_on='department_id', right_index=True)"
   ]
  },
  {
   "cell_type": "code",
   "execution_count": 12,
   "id": "a05615d8",
   "metadata": {
    "scrolled": true
   },
   "outputs": [
    {
     "data": {
      "text/html": [
       "<div>\n",
       "<style scoped>\n",
       "    .dataframe tbody tr th:only-of-type {\n",
       "        vertical-align: middle;\n",
       "    }\n",
       "\n",
       "    .dataframe tbody tr th {\n",
       "        vertical-align: top;\n",
       "    }\n",
       "\n",
       "    .dataframe thead th {\n",
       "        text-align: right;\n",
       "    }\n",
       "</style>\n",
       "<table border=\"1\" class=\"dataframe\">\n",
       "  <thead>\n",
       "    <tr style=\"text-align: right;\">\n",
       "      <th></th>\n",
       "      <th>product_id</th>\n",
       "      <th>department_id</th>\n",
       "      <th>department</th>\n",
       "    </tr>\n",
       "  </thead>\n",
       "  <tbody>\n",
       "    <tr>\n",
       "      <th>0</th>\n",
       "      <td>196</td>\n",
       "      <td>7</td>\n",
       "      <td>beverages</td>\n",
       "    </tr>\n",
       "    <tr>\n",
       "      <th>1</th>\n",
       "      <td>196</td>\n",
       "      <td>7</td>\n",
       "      <td>beverages</td>\n",
       "    </tr>\n",
       "    <tr>\n",
       "      <th>2</th>\n",
       "      <td>196</td>\n",
       "      <td>7</td>\n",
       "      <td>beverages</td>\n",
       "    </tr>\n",
       "    <tr>\n",
       "      <th>3</th>\n",
       "      <td>196</td>\n",
       "      <td>7</td>\n",
       "      <td>beverages</td>\n",
       "    </tr>\n",
       "    <tr>\n",
       "      <th>4</th>\n",
       "      <td>196</td>\n",
       "      <td>7</td>\n",
       "      <td>beverages</td>\n",
       "    </tr>\n",
       "  </tbody>\n",
       "</table>\n",
       "</div>"
      ],
      "text/plain": [
       "   product_id  department_id department\n",
       "0         196              7  beverages\n",
       "1         196              7  beverages\n",
       "2         196              7  beverages\n",
       "3         196              7  beverages\n",
       "4         196              7  beverages"
      ]
     },
     "execution_count": 12,
     "metadata": {},
     "output_type": "execute_result"
    }
   ],
   "source": [
    "df[['product_id', 'department_id', 'department']].head()"
   ]
  },
  {
   "cell_type": "markdown",
   "id": "2b36e1d4",
   "metadata": {},
   "source": [
    "### b) Add flags from previous tasks & a few new ones"
   ]
  },
  {
   "cell_type": "code",
   "execution_count": 13,
   "id": "d23d7945",
   "metadata": {},
   "outputs": [],
   "source": [
    "# create a column that lists the average price per product per user\n",
    "df['avg_prod_price'] = df.groupby('user_id')['prices'].transform('mean')"
   ]
  },
  {
   "cell_type": "code",
   "execution_count": 14,
   "id": "bdf78e81",
   "metadata": {},
   "outputs": [],
   "source": [
    "# create a column that lists the cost of the whole order by taking the sum of the prices in each order\n",
    "df['ord_cost'] = df.groupby('order_id')['prices'].transform('sum')"
   ]
  },
  {
   "cell_type": "code",
   "execution_count": 15,
   "id": "a541d320",
   "metadata": {},
   "outputs": [],
   "source": [
    "# create a column that lists the number of products in each order\n",
    "df['num_prod_in_order'] = df.groupby('order_id')['add_to_cart_order'].transform('max')"
   ]
  },
  {
   "cell_type": "code",
   "execution_count": 16,
   "id": "fea90b3e",
   "metadata": {},
   "outputs": [
    {
     "name": "stdout",
     "output_type": "stream",
     "text": [
      "CPU times: user 15.8 s, sys: 16.3 s, total: 32.1 s\n",
      "Wall time: 40.1 s\n"
     ]
    }
   ],
   "source": [
    "%%time\n",
    "# create a column that lists the average order cost for each customer\n",
    "a = df.groupby(['user_id','order_number'])['prices'].sum().to_frame()\n",
    "b = a.groupby('user_id')['prices'].mean().rename('avg_order_cost')\n",
    "df = df.merge(b, how='left', on='user_id')"
   ]
  },
  {
   "cell_type": "code",
   "execution_count": 17,
   "id": "d52d4996",
   "metadata": {},
   "outputs": [
    {
     "name": "stdout",
     "output_type": "stream",
     "text": [
      "CPU times: user 17.2 s, sys: 19 s, total: 36.2 s\n",
      "Wall time: 49.1 s\n"
     ]
    }
   ],
   "source": [
    "%%time\n",
    "# create a column that lists the median days in between each order\n",
    "a = df.groupby(['user_id','order_number'])['days_since_prior_order'].min().to_frame()\n",
    "b = a.groupby('user_id')['days_since_prior_order'].median().rename('median_days_between')\n",
    "df = df.merge(b, how='left', on='user_id')"
   ]
  },
  {
   "cell_type": "code",
   "execution_count": 18,
   "id": "aee4be21",
   "metadata": {},
   "outputs": [
    {
     "data": {
      "text/plain": [
       "avg_prod_price         float32\n",
       "avg_order_cost         float32\n",
       "ord_cost               float32\n",
       "median_days_between    float16\n",
       "num_prod_in_order        uint8\n",
       "dtype: object"
      ]
     },
     "execution_count": 18,
     "metadata": {},
     "output_type": "execute_result"
    }
   ],
   "source": [
    "# check data types of new columns\n",
    "df[['avg_prod_price', 'avg_order_cost', 'ord_cost', 'median_days_between', 'num_prod_in_order']].dtypes"
   ]
  },
  {
   "cell_type": "code",
   "execution_count": 19,
   "id": "b5b59da5",
   "metadata": {},
   "outputs": [],
   "source": [
    "# down sample data types of new columns\n",
    "df['avg_prod_price'] = df['avg_prod_price'].astype('float16')\n",
    "df['avg_order_cost'] = df['avg_order_cost'].astype('float16')\n",
    "df['ord_cost'] = df['ord_cost'].astype('float16')"
   ]
  },
  {
   "cell_type": "code",
   "execution_count": 20,
   "id": "58f4d0e4",
   "metadata": {},
   "outputs": [
    {
     "data": {
      "text/html": [
       "<div>\n",
       "<style scoped>\n",
       "    .dataframe tbody tr th:only-of-type {\n",
       "        vertical-align: middle;\n",
       "    }\n",
       "\n",
       "    .dataframe tbody tr th {\n",
       "        vertical-align: top;\n",
       "    }\n",
       "\n",
       "    .dataframe thead th {\n",
       "        text-align: right;\n",
       "    }\n",
       "</style>\n",
       "<table border=\"1\" class=\"dataframe\">\n",
       "  <thead>\n",
       "    <tr style=\"text-align: right;\">\n",
       "      <th></th>\n",
       "      <th>order_id</th>\n",
       "      <th>user_id</th>\n",
       "      <th>prices</th>\n",
       "      <th>avg_prod_price</th>\n",
       "      <th>num_prod_in_order</th>\n",
       "      <th>ord_cost</th>\n",
       "      <th>avg_order_cost</th>\n",
       "      <th>max_order</th>\n",
       "      <th>days_since_prior_order</th>\n",
       "      <th>median_days_between</th>\n",
       "    </tr>\n",
       "  </thead>\n",
       "  <tbody>\n",
       "    <tr>\n",
       "      <th>18752189</th>\n",
       "      <td>5762</td>\n",
       "      <td>53457</td>\n",
       "      <td>2.0</td>\n",
       "      <td>7.023438</td>\n",
       "      <td>6</td>\n",
       "      <td>27.00000</td>\n",
       "      <td>39.59375</td>\n",
       "      <td>11</td>\n",
       "      <td>30.0</td>\n",
       "      <td>11.0</td>\n",
       "    </tr>\n",
       "    <tr>\n",
       "      <th>31025864</th>\n",
       "      <td>5762</td>\n",
       "      <td>53457</td>\n",
       "      <td>2.3</td>\n",
       "      <td>7.023438</td>\n",
       "      <td>6</td>\n",
       "      <td>27.00000</td>\n",
       "      <td>39.59375</td>\n",
       "      <td>11</td>\n",
       "      <td>30.0</td>\n",
       "      <td>11.0</td>\n",
       "    </tr>\n",
       "    <tr>\n",
       "      <th>24588146</th>\n",
       "      <td>5762</td>\n",
       "      <td>53457</td>\n",
       "      <td>3.4</td>\n",
       "      <td>7.023438</td>\n",
       "      <td>6</td>\n",
       "      <td>27.00000</td>\n",
       "      <td>39.59375</td>\n",
       "      <td>11</td>\n",
       "      <td>30.0</td>\n",
       "      <td>11.0</td>\n",
       "    </tr>\n",
       "    <tr>\n",
       "      <th>18752173</th>\n",
       "      <td>5762</td>\n",
       "      <td>53457</td>\n",
       "      <td>3.2</td>\n",
       "      <td>7.023438</td>\n",
       "      <td>6</td>\n",
       "      <td>27.00000</td>\n",
       "      <td>39.59375</td>\n",
       "      <td>11</td>\n",
       "      <td>30.0</td>\n",
       "      <td>11.0</td>\n",
       "    </tr>\n",
       "    <tr>\n",
       "      <th>18752167</th>\n",
       "      <td>5762</td>\n",
       "      <td>53457</td>\n",
       "      <td>6.3</td>\n",
       "      <td>7.023438</td>\n",
       "      <td>6</td>\n",
       "      <td>27.00000</td>\n",
       "      <td>39.59375</td>\n",
       "      <td>11</td>\n",
       "      <td>30.0</td>\n",
       "      <td>11.0</td>\n",
       "    </tr>\n",
       "    <tr>\n",
       "      <th>...</th>\n",
       "      <td>...</td>\n",
       "      <td>...</td>\n",
       "      <td>...</td>\n",
       "      <td>...</td>\n",
       "      <td>...</td>\n",
       "      <td>...</td>\n",
       "      <td>...</td>\n",
       "      <td>...</td>\n",
       "      <td>...</td>\n",
       "      <td>...</td>\n",
       "    </tr>\n",
       "    <tr>\n",
       "      <th>18752183</th>\n",
       "      <td>3394170</td>\n",
       "      <td>53457</td>\n",
       "      <td>1.2</td>\n",
       "      <td>7.023438</td>\n",
       "      <td>7</td>\n",
       "      <td>50.59375</td>\n",
       "      <td>39.59375</td>\n",
       "      <td>11</td>\n",
       "      <td>30.0</td>\n",
       "      <td>11.0</td>\n",
       "    </tr>\n",
       "    <tr>\n",
       "      <th>30054754</th>\n",
       "      <td>3394170</td>\n",
       "      <td>53457</td>\n",
       "      <td>8.1</td>\n",
       "      <td>7.023438</td>\n",
       "      <td>7</td>\n",
       "      <td>50.59375</td>\n",
       "      <td>39.59375</td>\n",
       "      <td>11</td>\n",
       "      <td>30.0</td>\n",
       "      <td>11.0</td>\n",
       "    </tr>\n",
       "    <tr>\n",
       "      <th>18752166</th>\n",
       "      <td>3394170</td>\n",
       "      <td>53457</td>\n",
       "      <td>6.3</td>\n",
       "      <td>7.023438</td>\n",
       "      <td>7</td>\n",
       "      <td>50.59375</td>\n",
       "      <td>39.59375</td>\n",
       "      <td>11</td>\n",
       "      <td>30.0</td>\n",
       "      <td>11.0</td>\n",
       "    </tr>\n",
       "    <tr>\n",
       "      <th>28767423</th>\n",
       "      <td>3394170</td>\n",
       "      <td>53457</td>\n",
       "      <td>4.6</td>\n",
       "      <td>7.023438</td>\n",
       "      <td>7</td>\n",
       "      <td>50.59375</td>\n",
       "      <td>39.59375</td>\n",
       "      <td>11</td>\n",
       "      <td>30.0</td>\n",
       "      <td>11.0</td>\n",
       "    </tr>\n",
       "    <tr>\n",
       "      <th>18752188</th>\n",
       "      <td>3394170</td>\n",
       "      <td>53457</td>\n",
       "      <td>14.6</td>\n",
       "      <td>7.023438</td>\n",
       "      <td>7</td>\n",
       "      <td>50.59375</td>\n",
       "      <td>39.59375</td>\n",
       "      <td>11</td>\n",
       "      <td>30.0</td>\n",
       "      <td>11.0</td>\n",
       "    </tr>\n",
       "  </tbody>\n",
       "</table>\n",
       "<p>62 rows × 10 columns</p>\n",
       "</div>"
      ],
      "text/plain": [
       "          order_id  user_id  prices  avg_prod_price  num_prod_in_order  \\\n",
       "18752189      5762    53457     2.0        7.023438                  6   \n",
       "31025864      5762    53457     2.3        7.023438                  6   \n",
       "24588146      5762    53457     3.4        7.023438                  6   \n",
       "18752173      5762    53457     3.2        7.023438                  6   \n",
       "18752167      5762    53457     6.3        7.023438                  6   \n",
       "...            ...      ...     ...             ...                ...   \n",
       "18752183   3394170    53457     1.2        7.023438                  7   \n",
       "30054754   3394170    53457     8.1        7.023438                  7   \n",
       "18752166   3394170    53457     6.3        7.023438                  7   \n",
       "28767423   3394170    53457     4.6        7.023438                  7   \n",
       "18752188   3394170    53457    14.6        7.023438                  7   \n",
       "\n",
       "          ord_cost  avg_order_cost  max_order  days_since_prior_order  \\\n",
       "18752189  27.00000        39.59375         11                    30.0   \n",
       "31025864  27.00000        39.59375         11                    30.0   \n",
       "24588146  27.00000        39.59375         11                    30.0   \n",
       "18752173  27.00000        39.59375         11                    30.0   \n",
       "18752167  27.00000        39.59375         11                    30.0   \n",
       "...            ...             ...        ...                     ...   \n",
       "18752183  50.59375        39.59375         11                    30.0   \n",
       "30054754  50.59375        39.59375         11                    30.0   \n",
       "18752166  50.59375        39.59375         11                    30.0   \n",
       "28767423  50.59375        39.59375         11                    30.0   \n",
       "18752188  50.59375        39.59375         11                    30.0   \n",
       "\n",
       "          median_days_between  \n",
       "18752189                 11.0  \n",
       "31025864                 11.0  \n",
       "24588146                 11.0  \n",
       "18752173                 11.0  \n",
       "18752167                 11.0  \n",
       "...                       ...  \n",
       "18752183                 11.0  \n",
       "30054754                 11.0  \n",
       "18752166                 11.0  \n",
       "28767423                 11.0  \n",
       "18752188                 11.0  \n",
       "\n",
       "[62 rows x 10 columns]"
      ]
     },
     "execution_count": 20,
     "metadata": {},
     "output_type": "execute_result"
    }
   ],
   "source": [
    "# make sure all the new columns look good and make sense (with a random user_id)\n",
    "df[['order_id', 'user_id', 'prices', 'avg_prod_price',\n",
    "    'num_prod_in_order', 'ord_cost', 'avg_order_cost', 'max_order',\n",
    "    'days_since_prior_order', 'median_days_between']].loc[df['user_id'] == 53457].sort_values(by='order_id')"
   ]
  },
  {
   "cell_type": "markdown",
   "id": "1882aac9",
   "metadata": {},
   "source": [
    "## Part 1"
   ]
  },
  {
   "cell_type": "markdown",
   "id": "640d7ae8",
   "metadata": {},
   "source": [
    "### 03 Step 2 - Address PII concerns"
   ]
  },
  {
   "cell_type": "markdown",
   "id": "d750d131",
   "metadata": {},
   "source": [
    "There's no reason to have the customers' names connected with this data.\n",
    "Their demographics and a unique id will be enough to glean insights.\n",
    "Might as well drop department_id, merge, aisle_id at the same time to save RAM."
   ]
  },
  {
   "cell_type": "code",
   "execution_count": 21,
   "id": "523202fd",
   "metadata": {},
   "outputs": [],
   "source": [
    "df2 = df.drop(columns=['first_name', 'last_name', 'department_id', '_merge', 'aisle_id']) "
   ]
  },
  {
   "cell_type": "markdown",
   "id": "c51f57fb",
   "metadata": {},
   "source": [
    "### 04 Step 3 - flag regions"
   ]
  },
  {
   "cell_type": "code",
   "execution_count": 22,
   "id": "2967628a",
   "metadata": {},
   "outputs": [],
   "source": [
    "# create series for each region with all appropriate states\n",
    "northeast = ['Maine', 'New Hampshire', 'Vermont', 'Massachusetts', 'Rhode Island', \n",
    "             'Connecticut', 'New York', 'Pennsylvania', 'New Jersey']\n",
    "midwest = ['Wisconsin', 'Michigan', 'Illinois', 'Indiana', 'Ohio',\n",
    "          'North Dakota', 'South Dakota', 'Nebraska', 'Kansas',\n",
    "          'Minnesota', 'Iowa', 'Missouri']\n",
    "south = ['Delaware', 'Maryland', 'District of Columbia', 'Virginia', 'West Virginia',\n",
    "         'North Carolina', 'South Carolina', 'Georgia', 'Florida', 'Kentucky', 'Tennessee',\n",
    "         'Mississippi', 'Alabama', 'Oklahoma', 'Texas', 'Arkansas', 'Louisiana']\n",
    "west = ['Idaho', 'Montana', 'Wyoming', 'Nevada', 'Utah', 'Colorado', 'Arizona',\n",
    "        'New Mexico', 'Alaska', 'Washington', 'Oregon', 'California', 'Hawaii']"
   ]
  },
  {
   "cell_type": "code",
   "execution_count": 23,
   "id": "d5d388c8",
   "metadata": {},
   "outputs": [],
   "source": [
    "# create a new region column identifying \n",
    "df2.loc[df2['state'].isin(northeast), 'region'] = 'northeast'"
   ]
  },
  {
   "cell_type": "code",
   "execution_count": 24,
   "id": "de133723",
   "metadata": {},
   "outputs": [],
   "source": [
    "df2.loc[df2['state'].isin(midwest), 'region'] = 'midwest'"
   ]
  },
  {
   "cell_type": "code",
   "execution_count": 25,
   "id": "0e8830fd",
   "metadata": {},
   "outputs": [],
   "source": [
    "df2.loc[df2['state'].isin(south), 'region'] = 'south'"
   ]
  },
  {
   "cell_type": "code",
   "execution_count": 26,
   "id": "4448edac",
   "metadata": {},
   "outputs": [],
   "source": [
    "df2.loc[df2['state'].isin(west), 'region'] = 'west'"
   ]
  },
  {
   "cell_type": "code",
   "execution_count": 27,
   "id": "b12832ad",
   "metadata": {},
   "outputs": [
    {
     "data": {
      "text/plain": [
       "south        10801610\n",
       "west          8300445\n",
       "midwest       7603810\n",
       "northeast     5728347\n",
       "Name: region, dtype: int64"
      ]
     },
     "execution_count": 27,
     "metadata": {},
     "output_type": "execute_result"
    }
   ],
   "source": [
    "# make sure all records were allocated to a region\n",
    "df2['region'].value_counts(dropna=False)"
   ]
  },
  {
   "cell_type": "markdown",
   "id": "2cd93d85",
   "metadata": {},
   "source": [
    "#### a) explore new region variable"
   ]
  },
  {
   "cell_type": "code",
   "execution_count": 28,
   "id": "ad2b558f",
   "metadata": {},
   "outputs": [
    {
     "data": {
      "text/html": [
       "<div>\n",
       "<style scoped>\n",
       "    .dataframe tbody tr th:only-of-type {\n",
       "        vertical-align: middle;\n",
       "    }\n",
       "\n",
       "    .dataframe tbody tr th {\n",
       "        vertical-align: top;\n",
       "    }\n",
       "\n",
       "    .dataframe thead th {\n",
       "        text-align: right;\n",
       "    }\n",
       "</style>\n",
       "<table border=\"1\" class=\"dataframe\">\n",
       "  <thead>\n",
       "    <tr style=\"text-align: right;\">\n",
       "      <th></th>\n",
       "      <th>user_id</th>\n",
       "    </tr>\n",
       "    <tr>\n",
       "      <th>region</th>\n",
       "      <th></th>\n",
       "    </tr>\n",
       "  </thead>\n",
       "  <tbody>\n",
       "    <tr>\n",
       "      <th>south</th>\n",
       "      <td>68737</td>\n",
       "    </tr>\n",
       "    <tr>\n",
       "      <th>west</th>\n",
       "      <td>52565</td>\n",
       "    </tr>\n",
       "    <tr>\n",
       "      <th>midwest</th>\n",
       "      <td>48519</td>\n",
       "    </tr>\n",
       "    <tr>\n",
       "      <th>northeast</th>\n",
       "      <td>36388</td>\n",
       "    </tr>\n",
       "  </tbody>\n",
       "</table>\n",
       "</div>"
      ],
      "text/plain": [
       "           user_id\n",
       "region            \n",
       "south        68737\n",
       "west         52565\n",
       "midwest      48519\n",
       "northeast    36388"
      ]
     },
     "execution_count": 28,
     "metadata": {},
     "output_type": "execute_result"
    }
   ],
   "source": [
    "# there are more users in the south\n",
    "df2[['region', 'user_id']].groupby('region').agg({'user_id': pd.Series.nunique,}).sort_values(by='user_id',\n",
    "                                                                                              ascending=False)"
   ]
  },
  {
   "cell_type": "code",
   "execution_count": 29,
   "id": "da072b87",
   "metadata": {},
   "outputs": [
    {
     "data": {
      "text/html": [
       "<div>\n",
       "<style scoped>\n",
       "    .dataframe tbody tr th:only-of-type {\n",
       "        vertical-align: middle;\n",
       "    }\n",
       "\n",
       "    .dataframe tbody tr th {\n",
       "        vertical-align: top;\n",
       "    }\n",
       "\n",
       "    .dataframe thead th {\n",
       "        text-align: right;\n",
       "    }\n",
       "</style>\n",
       "<table border=\"1\" class=\"dataframe\">\n",
       "  <thead>\n",
       "    <tr style=\"text-align: right;\">\n",
       "      <th></th>\n",
       "      <th>state</th>\n",
       "    </tr>\n",
       "    <tr>\n",
       "      <th>region</th>\n",
       "      <th></th>\n",
       "    </tr>\n",
       "  </thead>\n",
       "  <tbody>\n",
       "    <tr>\n",
       "      <th>south</th>\n",
       "      <td>17</td>\n",
       "    </tr>\n",
       "    <tr>\n",
       "      <th>west</th>\n",
       "      <td>13</td>\n",
       "    </tr>\n",
       "    <tr>\n",
       "      <th>midwest</th>\n",
       "      <td>12</td>\n",
       "    </tr>\n",
       "    <tr>\n",
       "      <th>northeast</th>\n",
       "      <td>9</td>\n",
       "    </tr>\n",
       "  </tbody>\n",
       "</table>\n",
       "</div>"
      ],
      "text/plain": [
       "           state\n",
       "region          \n",
       "south         17\n",
       "west          13\n",
       "midwest       12\n",
       "northeast      9"
      ]
     },
     "execution_count": 29,
     "metadata": {},
     "output_type": "execute_result"
    }
   ],
   "source": [
    "# there are more states in the south\n",
    "# and each state has essentially the same number of people\n",
    "# this was seen in the consistency checks for the customer data set\n",
    "df2[['region', 'state']].groupby('region').agg({'state': pd.Series.nunique,}).sort_values(by='state',\n",
    "                                                                                          ascending=False)"
   ]
  },
  {
   "cell_type": "code",
   "execution_count": 30,
   "id": "a9a21eff",
   "metadata": {},
   "outputs": [
    {
     "data": {
      "text/html": [
       "<div>\n",
       "<style scoped>\n",
       "    .dataframe tbody tr th:only-of-type {\n",
       "        vertical-align: middle;\n",
       "    }\n",
       "\n",
       "    .dataframe tbody tr th {\n",
       "        vertical-align: top;\n",
       "    }\n",
       "\n",
       "    .dataframe thead th {\n",
       "        text-align: right;\n",
       "    }\n",
       "</style>\n",
       "<table border=\"1\" class=\"dataframe\">\n",
       "  <thead>\n",
       "    <tr style=\"text-align: right;\">\n",
       "      <th></th>\n",
       "      <th>prices</th>\n",
       "    </tr>\n",
       "    <tr>\n",
       "      <th>region</th>\n",
       "      <th></th>\n",
       "    </tr>\n",
       "  </thead>\n",
       "  <tbody>\n",
       "    <tr>\n",
       "      <th>south</th>\n",
       "      <td>84234000.0</td>\n",
       "    </tr>\n",
       "    <tr>\n",
       "      <th>west</th>\n",
       "      <td>64693172.0</td>\n",
       "    </tr>\n",
       "    <tr>\n",
       "      <th>midwest</th>\n",
       "      <td>59277424.0</td>\n",
       "    </tr>\n",
       "    <tr>\n",
       "      <th>northeast</th>\n",
       "      <td>44602964.0</td>\n",
       "    </tr>\n",
       "  </tbody>\n",
       "</table>\n",
       "</div>"
      ],
      "text/plain": [
       "               prices\n",
       "region               \n",
       "south      84234000.0\n",
       "west       64693172.0\n",
       "midwest    59277424.0\n",
       "northeast  44602964.0"
      ]
     },
     "execution_count": 30,
     "metadata": {},
     "output_type": "execute_result"
    }
   ],
   "source": [
    "# there has been more money spent in the south\n",
    "df2[['prices', 'region']].groupby(['region']).agg('sum').sort_values(by='prices', ascending=False)"
   ]
  },
  {
   "cell_type": "code",
   "execution_count": 31,
   "id": "8360f884",
   "metadata": {},
   "outputs": [
    {
     "data": {
      "text/html": [
       "<div>\n",
       "<style scoped>\n",
       "    .dataframe tbody tr th:only-of-type {\n",
       "        vertical-align: middle;\n",
       "    }\n",
       "\n",
       "    .dataframe tbody tr th {\n",
       "        vertical-align: top;\n",
       "    }\n",
       "\n",
       "    .dataframe thead th {\n",
       "        text-align: right;\n",
       "    }\n",
       "</style>\n",
       "<table border=\"1\" class=\"dataframe\">\n",
       "  <thead>\n",
       "    <tr style=\"text-align: right;\">\n",
       "      <th></th>\n",
       "      <th>product_id</th>\n",
       "    </tr>\n",
       "    <tr>\n",
       "      <th>region</th>\n",
       "      <th></th>\n",
       "    </tr>\n",
       "  </thead>\n",
       "  <tbody>\n",
       "    <tr>\n",
       "      <th>south</th>\n",
       "      <td>10801610</td>\n",
       "    </tr>\n",
       "    <tr>\n",
       "      <th>west</th>\n",
       "      <td>8300445</td>\n",
       "    </tr>\n",
       "    <tr>\n",
       "      <th>midwest</th>\n",
       "      <td>7603810</td>\n",
       "    </tr>\n",
       "    <tr>\n",
       "      <th>northeast</th>\n",
       "      <td>5728347</td>\n",
       "    </tr>\n",
       "  </tbody>\n",
       "</table>\n",
       "</div>"
      ],
      "text/plain": [
       "           product_id\n",
       "region               \n",
       "south        10801610\n",
       "west          8300445\n",
       "midwest       7603810\n",
       "northeast     5728347"
      ]
     },
     "execution_count": 31,
     "metadata": {},
     "output_type": "execute_result"
    }
   ],
   "source": [
    "# there have been more products purchased in the south\n",
    "df2[['region', 'product_id']].groupby(['region']).agg('count').sort_values(by='product_id', ascending=False)"
   ]
  },
  {
   "cell_type": "code",
   "execution_count": 32,
   "id": "3c19601f",
   "metadata": {
    "scrolled": false
   },
   "outputs": [
    {
     "data": {
      "text/html": [
       "<div>\n",
       "<style scoped>\n",
       "    .dataframe tbody tr th:only-of-type {\n",
       "        vertical-align: middle;\n",
       "    }\n",
       "\n",
       "    .dataframe tbody tr th {\n",
       "        vertical-align: top;\n",
       "    }\n",
       "\n",
       "    .dataframe thead th {\n",
       "        text-align: right;\n",
       "    }\n",
       "</style>\n",
       "<table border=\"1\" class=\"dataframe\">\n",
       "  <thead>\n",
       "    <tr style=\"text-align: right;\">\n",
       "      <th></th>\n",
       "      <th>prices_sum</th>\n",
       "      <th>user_count</th>\n",
       "      <th>order_count</th>\n",
       "    </tr>\n",
       "    <tr>\n",
       "      <th>region</th>\n",
       "      <th></th>\n",
       "      <th></th>\n",
       "      <th></th>\n",
       "    </tr>\n",
       "  </thead>\n",
       "  <tbody>\n",
       "    <tr>\n",
       "      <th>midwest</th>\n",
       "      <td>59277424.0</td>\n",
       "      <td>48519</td>\n",
       "      <td>754324</td>\n",
       "    </tr>\n",
       "    <tr>\n",
       "      <th>northeast</th>\n",
       "      <td>44602964.0</td>\n",
       "      <td>36388</td>\n",
       "      <td>567185</td>\n",
       "    </tr>\n",
       "    <tr>\n",
       "      <th>south</th>\n",
       "      <td>84234000.0</td>\n",
       "      <td>68737</td>\n",
       "      <td>1071631</td>\n",
       "    </tr>\n",
       "    <tr>\n",
       "      <th>west</th>\n",
       "      <td>64693172.0</td>\n",
       "      <td>52565</td>\n",
       "      <td>821721</td>\n",
       "    </tr>\n",
       "  </tbody>\n",
       "</table>\n",
       "</div>"
      ],
      "text/plain": [
       "           prices_sum  user_count  order_count\n",
       "region                                        \n",
       "midwest    59277424.0       48519       754324\n",
       "northeast  44602964.0       36388       567185\n",
       "south      84234000.0       68737      1071631\n",
       "west       64693172.0       52565       821721"
      ]
     },
     "execution_count": 32,
     "metadata": {},
     "output_type": "execute_result"
    }
   ],
   "source": [
    "# create a new df that summarizes data by region\n",
    "# rename the columns so that it nothing gets confused\n",
    "df_region = df2[['prices', 'region', 'user_id', 'order_id']].groupby(['region']).agg(\n",
    "    {'prices':'sum', 'user_id': pd.Series.nunique, 'order_id': pd.Series.nunique})\n",
    "df_region = df_region.rename(columns={'prices':'prices_sum', 'user_id': 'user_count', 'order_id': 'order_count'})\n",
    "df_region"
   ]
  },
  {
   "cell_type": "code",
   "execution_count": 33,
   "id": "ef3fa325",
   "metadata": {},
   "outputs": [],
   "source": [
    "# create calculated columns based on the aggregated data\n",
    "df_region['price_per_order'] = df_region['prices_sum']/df_region['order_count']\n",
    "df_region['price_per_user'] = df_region['prices_sum']/df_region['user_count']\n",
    "df_region['order_per_user'] = df_region['order_count']/df_region['user_count']"
   ]
  },
  {
   "cell_type": "code",
   "execution_count": 34,
   "id": "0c2e1140",
   "metadata": {},
   "outputs": [
    {
     "data": {
      "text/html": [
       "<div>\n",
       "<style scoped>\n",
       "    .dataframe tbody tr th:only-of-type {\n",
       "        vertical-align: middle;\n",
       "    }\n",
       "\n",
       "    .dataframe tbody tr th {\n",
       "        vertical-align: top;\n",
       "    }\n",
       "\n",
       "    .dataframe thead th {\n",
       "        text-align: right;\n",
       "    }\n",
       "</style>\n",
       "<table border=\"1\" class=\"dataframe\">\n",
       "  <thead>\n",
       "    <tr style=\"text-align: right;\">\n",
       "      <th></th>\n",
       "      <th>prices_sum</th>\n",
       "      <th>user_count</th>\n",
       "      <th>order_count</th>\n",
       "      <th>price_per_order</th>\n",
       "      <th>price_per_user</th>\n",
       "      <th>order_per_user</th>\n",
       "    </tr>\n",
       "    <tr>\n",
       "      <th>region</th>\n",
       "      <th></th>\n",
       "      <th></th>\n",
       "      <th></th>\n",
       "      <th></th>\n",
       "      <th></th>\n",
       "      <th></th>\n",
       "    </tr>\n",
       "  </thead>\n",
       "  <tbody>\n",
       "    <tr>\n",
       "      <th>west</th>\n",
       "      <td>64693172.0</td>\n",
       "      <td>52565</td>\n",
       "      <td>821721</td>\n",
       "      <td>78.728878</td>\n",
       "      <td>1230.727138</td>\n",
       "      <td>15.632474</td>\n",
       "    </tr>\n",
       "    <tr>\n",
       "      <th>northeast</th>\n",
       "      <td>44602964.0</td>\n",
       "      <td>36388</td>\n",
       "      <td>567185</td>\n",
       "      <td>78.639181</td>\n",
       "      <td>1225.760251</td>\n",
       "      <td>15.587144</td>\n",
       "    </tr>\n",
       "    <tr>\n",
       "      <th>south</th>\n",
       "      <td>84234000.0</td>\n",
       "      <td>68737</td>\n",
       "      <td>1071631</td>\n",
       "      <td>78.603549</td>\n",
       "      <td>1225.453540</td>\n",
       "      <td>15.590308</td>\n",
       "    </tr>\n",
       "    <tr>\n",
       "      <th>midwest</th>\n",
       "      <td>59277424.0</td>\n",
       "      <td>48519</td>\n",
       "      <td>754324</td>\n",
       "      <td>78.583505</td>\n",
       "      <td>1221.736309</td>\n",
       "      <td>15.546982</td>\n",
       "    </tr>\n",
       "  </tbody>\n",
       "</table>\n",
       "</div>"
      ],
      "text/plain": [
       "           prices_sum  user_count  order_count  price_per_order  \\\n",
       "region                                                            \n",
       "west       64693172.0       52565       821721        78.728878   \n",
       "northeast  44602964.0       36388       567185        78.639181   \n",
       "south      84234000.0       68737      1071631        78.603549   \n",
       "midwest    59277424.0       48519       754324        78.583505   \n",
       "\n",
       "           price_per_user  order_per_user  \n",
       "region                                     \n",
       "west          1230.727138       15.632474  \n",
       "northeast     1225.760251       15.587144  \n",
       "south         1225.453540       15.590308  \n",
       "midwest       1221.736309       15.546982  "
      ]
     },
     "execution_count": 34,
     "metadata": {},
     "output_type": "execute_result"
    }
   ],
   "source": [
    "df_region.sort_values(by='price_per_user', ascending=False)"
   ]
  },
  {
   "cell_type": "markdown",
   "id": "657b4716",
   "metadata": {},
   "source": [
    "### 05 Subset customer data"
   ]
  },
  {
   "cell_type": "code",
   "execution_count": 35,
   "id": "6646ee5a",
   "metadata": {},
   "outputs": [
    {
     "data": {
      "text/plain": [
       "(206209, 28)"
      ]
     },
     "execution_count": 35,
     "metadata": {},
     "output_type": "execute_result"
    }
   ],
   "source": [
    "# create a df that just lists customers\n",
    "customers = df2.drop_duplicates(subset=['user_id'])\n",
    "customers.shape"
   ]
  },
  {
   "cell_type": "markdown",
   "id": "39e8a5be",
   "metadata": {},
   "source": [
    "#### a) crosstab function"
   ]
  },
  {
   "cell_type": "code",
   "execution_count": 36,
   "id": "dfd12e82",
   "metadata": {},
   "outputs": [
    {
     "data": {
      "text/html": [
       "<div>\n",
       "<style scoped>\n",
       "    .dataframe tbody tr th:only-of-type {\n",
       "        vertical-align: middle;\n",
       "    }\n",
       "\n",
       "    .dataframe tbody tr th {\n",
       "        vertical-align: top;\n",
       "    }\n",
       "\n",
       "    .dataframe thead th {\n",
       "        text-align: right;\n",
       "    }\n",
       "</style>\n",
       "<table border=\"1\" class=\"dataframe\">\n",
       "  <thead>\n",
       "    <tr style=\"text-align: right;\">\n",
       "      <th>loyalty_flag</th>\n",
       "      <th>loyal</th>\n",
       "      <th>new</th>\n",
       "      <th>regular</th>\n",
       "    </tr>\n",
       "    <tr>\n",
       "      <th>region</th>\n",
       "      <th></th>\n",
       "      <th></th>\n",
       "      <th></th>\n",
       "    </tr>\n",
       "  </thead>\n",
       "  <tbody>\n",
       "    <tr>\n",
       "      <th>midwest</th>\n",
       "      <td>3991</td>\n",
       "      <td>26333</td>\n",
       "      <td>18195</td>\n",
       "    </tr>\n",
       "    <tr>\n",
       "      <th>northeast</th>\n",
       "      <td>3027</td>\n",
       "      <td>19869</td>\n",
       "      <td>13492</td>\n",
       "    </tr>\n",
       "    <tr>\n",
       "      <th>south</th>\n",
       "      <td>5637</td>\n",
       "      <td>37491</td>\n",
       "      <td>25609</td>\n",
       "    </tr>\n",
       "    <tr>\n",
       "      <th>west</th>\n",
       "      <td>4362</td>\n",
       "      <td>28635</td>\n",
       "      <td>19568</td>\n",
       "    </tr>\n",
       "  </tbody>\n",
       "</table>\n",
       "</div>"
      ],
      "text/plain": [
       "loyalty_flag  loyal    new  regular\n",
       "region                             \n",
       "midwest        3991  26333    18195\n",
       "northeast      3027  19869    13492\n",
       "south          5637  37491    25609\n",
       "west           4362  28635    19568"
      ]
     },
     "execution_count": 36,
     "metadata": {},
     "output_type": "execute_result"
    }
   ],
   "source": [
    "# use crosstab to see if there are more loyal customers in different regions\n",
    "cross = pd.crosstab(customers['region'], customers['loyalty_flag'], dropna=False).sort_index()\n",
    "cross"
   ]
  },
  {
   "cell_type": "code",
   "execution_count": 37,
   "id": "ee5f7c0b",
   "metadata": {},
   "outputs": [
    {
     "name": "stdout",
     "output_type": "stream",
     "text": [
      "midwest:  8.23 %\n",
      "northeast:  8.32 %\n",
      "south:  8.2 %\n",
      "west:  8.3 %\n"
     ]
    }
   ],
   "source": [
    "# Percentage of loyal customers in the regions\n",
    "print('midwest: ', round(cross.iloc[0,0]/cross.iloc[0].sum()*100, 2), '%')\n",
    "print('northeast: ', round(cross.iloc[1,0]/cross.iloc[1].sum()*100, 2), '%')\n",
    "print('south: ', round(cross.iloc[2,0]/cross.iloc[2].sum()*100, 2), '%')\n",
    "print('west: ', round(cross.iloc[3,0]/cross.iloc[3].sum()*100, 2), '%')"
   ]
  },
  {
   "cell_type": "markdown",
   "id": "1608a2fa",
   "metadata": {},
   "source": [
    "The south has more customers, more orders, and more products purchased, but not a higher percentage of loyal customers. Loyal is defined by more than 40 orders in the year sampled."
   ]
  },
  {
   "cell_type": "markdown",
   "id": "8fb59db6",
   "metadata": {},
   "source": [
    "### 06 Step 4 - Create an exclusion flag for low-activity customers"
   ]
  },
  {
   "cell_type": "code",
   "execution_count": 38,
   "id": "cc1f11c3",
   "metadata": {},
   "outputs": [],
   "source": [
    "# to keep size down, I'm using a binary for this exclusion flag instead of a string\n",
    "df2.loc[df2['max_order'] < 5, 'exclusion'] = 1"
   ]
  },
  {
   "cell_type": "code",
   "execution_count": 39,
   "id": "c2608c39",
   "metadata": {},
   "outputs": [],
   "source": [
    "df2.loc[df2['max_order'] >= 5, 'exclusion'] = 0"
   ]
  },
  {
   "cell_type": "code",
   "execution_count": 40,
   "id": "986ed55d",
   "metadata": {},
   "outputs": [
    {
     "data": {
      "text/plain": [
       "0.0    30992664\n",
       "1.0     1441548\n",
       "Name: exclusion, dtype: int64"
      ]
     },
     "execution_count": 40,
     "metadata": {},
     "output_type": "execute_result"
    }
   ],
   "source": [
    "# check to see that all records were allocated\n",
    "df2['exclusion'].value_counts(dropna=False)"
   ]
  },
  {
   "cell_type": "code",
   "execution_count": 41,
   "id": "5921eb61",
   "metadata": {},
   "outputs": [],
   "source": [
    "# adjust data type for efficiency\n",
    "df2['exclusion'] = df2['exclusion'].astype('int8')"
   ]
  },
  {
   "cell_type": "markdown",
   "id": "cfe14be9",
   "metadata": {},
   "source": [
    "### 07 Step 5 - Create profiling variables to find insights"
   ]
  },
  {
   "cell_type": "code",
   "execution_count": 42,
   "id": "7d4f3605",
   "metadata": {},
   "outputs": [
    {
     "data": {
      "text/plain": [
       "(3214861, 29)"
      ]
     },
     "execution_count": 42,
     "metadata": {},
     "output_type": "execute_result"
    }
   ],
   "source": [
    "# create a df that just lists orders (and only the necessary columns)\n",
    "orders = df2.drop_duplicates(subset='order_id')\n",
    "orders.shape"
   ]
  },
  {
   "cell_type": "code",
   "execution_count": 43,
   "id": "0d8ac845",
   "metadata": {},
   "outputs": [
    {
     "data": {
      "text/plain": [
       "(206209, 29)"
      ]
     },
     "execution_count": 43,
     "metadata": {},
     "output_type": "execute_result"
    }
   ],
   "source": [
    "# create a df that just lists customers\n",
    "customers = df2.drop_duplicates(subset=['user_id'])\n",
    "customers.shape"
   ]
  },
  {
   "cell_type": "markdown",
   "id": "dbe18e18",
   "metadata": {},
   "source": [
    "#### a) Age ranges for customer"
   ]
  },
  {
   "cell_type": "code",
   "execution_count": 44,
   "id": "8bd58e87",
   "metadata": {},
   "outputs": [],
   "source": [
    "# Divide up the ages of customers into 4 ranges: under 35, between 35 and 50, between 50 and 65, and 65+\n",
    "# and create new column with the info\n",
    "df2.loc[df2['age'] < 35, 'age_range'] = 1"
   ]
  },
  {
   "cell_type": "code",
   "execution_count": 45,
   "id": "279ebfb4",
   "metadata": {},
   "outputs": [],
   "source": [
    "df2.loc[(df2['age'] >= 35) & (df2['age'] < 50), 'age_range'] = 2"
   ]
  },
  {
   "cell_type": "code",
   "execution_count": 46,
   "id": "458e4569",
   "metadata": {},
   "outputs": [],
   "source": [
    "df2.loc[(df2['age'] >= 50) & (df2['age'] < 65), 'age_range'] = 3"
   ]
  },
  {
   "cell_type": "code",
   "execution_count": 47,
   "id": "c038adaf",
   "metadata": {},
   "outputs": [],
   "source": [
    "df2.loc[df2['age'] >= 65, 'age_range'] = 4"
   ]
  },
  {
   "cell_type": "code",
   "execution_count": 48,
   "id": "c5188886",
   "metadata": {},
   "outputs": [],
   "source": [
    "df2['age_range'] = df2['age_range'].astype('int8')"
   ]
  },
  {
   "cell_type": "markdown",
   "id": "3dabdce6",
   "metadata": {},
   "source": [
    "#### b) Shopping time for order"
   ]
  },
  {
   "cell_type": "code",
   "execution_count": 49,
   "id": "c3fc1ad3",
   "metadata": {},
   "outputs": [
    {
     "data": {
      "text/plain": [
       "<AxesSubplot:>"
      ]
     },
     "execution_count": 49,
     "metadata": {},
     "output_type": "execute_result"
    },
    {
     "data": {
      "image/png": "[encoded data removed]",
      "text/plain": [
       "<Figure size 432x288 with 1 Axes>"
      ]
     },
     "metadata": {
      "needs_background": "light"
     },
     "output_type": "display_data"
    }
   ],
   "source": [
    "orders['order_hour_of_day'].value_counts().sort_values().plot.bar()"
   ]
  },
  {
   "cell_type": "code",
   "execution_count": 50,
   "id": "d200523e",
   "metadata": {},
   "outputs": [],
   "source": [
    "# create a list of value for a order busyness flag. I divided the 24 hours into 3 levels of busyness\n",
    "x = []\n",
    "for value in df2['order_hour_of_day']:\n",
    "    if value <= 6 or value >= 23:\n",
    "        x.append(3) # 3 for least busiest\n",
    "    elif value >= 9 and value < 17:\n",
    "        x.append(1) # 1 for most busy\n",
    "    elif value < 9 and value > 6:\n",
    "        x.append(2) # 2 for medium busy\n",
    "    elif value >=17 and value < 23:\n",
    "        x.append(2) # 2 for medium busy\n",
    "    else:\n",
    "        x.append(np.nan)"
   ]
  },
  {
   "cell_type": "code",
   "execution_count": 51,
   "id": "c07dd681",
   "metadata": {},
   "outputs": [],
   "source": [
    "# set the new column and set the data type\n",
    "df2['hour_range'] = x\n",
    "df2['hour_range'] = df2['hour_range'].astype('int8')"
   ]
  },
  {
   "cell_type": "markdown",
   "id": "3327f155",
   "metadata": {},
   "source": [
    "#### c) Pet flag for customer"
   ]
  },
  {
   "cell_type": "code",
   "execution_count": 52,
   "id": "df272910",
   "metadata": {},
   "outputs": [],
   "source": [
    "# first, identify all the products purchased from the pet department\n",
    "df2['pet_stuff'] = [1 if x == 'pets' else 0 for x in df2['department']]"
   ]
  },
  {
   "cell_type": "code",
   "execution_count": 53,
   "id": "06717386",
   "metadata": {},
   "outputs": [],
   "source": [
    "# then, apply it across the whole customer's orders\n",
    "df2['pet_stuff'] = df2.groupby(['user_id'])['pet_stuff'].transform('max')"
   ]
  },
  {
   "cell_type": "code",
   "execution_count": 54,
   "id": "7d9fa284",
   "metadata": {},
   "outputs": [],
   "source": [
    "# and down sample the data type\n",
    "df2['pet_stuff'] = df2['pet_stuff'].astype('int8')"
   ]
  },
  {
   "cell_type": "markdown",
   "id": "fa377cdc",
   "metadata": {},
   "source": [
    "#### d) Baby flag for customer"
   ]
  },
  {
   "cell_type": "code",
   "execution_count": 55,
   "id": "f3f7ef4c",
   "metadata": {},
   "outputs": [],
   "source": [
    "# first, identify all the products purchased from the pet department\n",
    "df2['baby_stuff'] = [1 if x == 'babies' else 0 for x in df2['department']]"
   ]
  },
  {
   "cell_type": "code",
   "execution_count": 56,
   "id": "045d1ce1",
   "metadata": {},
   "outputs": [],
   "source": [
    "# then, apply it across the whole customer's orders\n",
    "df2['baby_stuff'] = df2.groupby(['user_id'])['baby_stuff'].transform('max')"
   ]
  },
  {
   "cell_type": "code",
   "execution_count": 57,
   "id": "a543a100",
   "metadata": {},
   "outputs": [],
   "source": [
    "# and down sample the data type\n",
    "df2['baby_stuff'] = df2['baby_stuff'].astype('int8')"
   ]
  },
  {
   "cell_type": "markdown",
   "id": "8f135698",
   "metadata": {},
   "source": [
    "#### e) Frozen flag for order"
   ]
  },
  {
   "cell_type": "code",
   "execution_count": 58,
   "id": "f3f0706a",
   "metadata": {},
   "outputs": [],
   "source": [
    "# first, identify all the products purchased from the pet department\n",
    "df2['frozen_stuff'] = [1 if x == 'frozen' else 0 for x in df2['department']]"
   ]
  },
  {
   "cell_type": "code",
   "execution_count": 59,
   "id": "9f6a573a",
   "metadata": {},
   "outputs": [],
   "source": [
    "# then, apply it across the whole customer's orders\n",
    "df2['frozen_stuff'] = df2.groupby(['order_id'])['frozen_stuff'].transform('max')"
   ]
  },
  {
   "cell_type": "code",
   "execution_count": 60,
   "id": "6a234ee6",
   "metadata": {},
   "outputs": [],
   "source": [
    "# and down sample the data type\n",
    "df2['frozen_stuff'] = df2['frozen_stuff'].astype('int8')"
   ]
  },
  {
   "cell_type": "markdown",
   "id": "2134a5c9",
   "metadata": {},
   "source": [
    "#### f) Snacks flag for order"
   ]
  },
  {
   "cell_type": "code",
   "execution_count": 61,
   "id": "de4a6781",
   "metadata": {},
   "outputs": [],
   "source": [
    "# first, identify all the products purchased from the pet department\n",
    "df2['snacks'] = [1 if x == 'snacks' else 0 for x in df2['department']]"
   ]
  },
  {
   "cell_type": "code",
   "execution_count": 62,
   "id": "c278d099",
   "metadata": {},
   "outputs": [],
   "source": [
    "# then, apply it just across the individual order\n",
    "df2['snacks'] = df2.groupby(['order_id'])['snacks'].transform('max')"
   ]
  },
  {
   "cell_type": "code",
   "execution_count": 63,
   "id": "36f40720",
   "metadata": {},
   "outputs": [],
   "source": [
    "# and down sample the data type\n",
    "df2['snacks'] = df2['snacks'].astype('int8')"
   ]
  },
  {
   "cell_type": "markdown",
   "id": "8c2d5145",
   "metadata": {},
   "source": [
    "#### f) Order_day_of_week mode for customer"
   ]
  },
  {
   "cell_type": "code",
   "execution_count": 64,
   "id": "84ae3c59",
   "metadata": {},
   "outputs": [
    {
     "name": "stdout",
     "output_type": "stream",
     "text": [
      "CPU times: user 35.9 s, sys: 8.97 s, total: 44.8 s\n",
      "Wall time: 51 s\n"
     ]
    }
   ],
   "source": [
    "%%time\n",
    "# create a column that list the most common day of the week for ordering\n",
    "a = (orders.groupby('user_id')['order_day_of_week']\n",
    "     .agg(lambda x: pd.Series.mode(x)[0]).rename('common_order_day').to_frame())\n",
    "df2 = df2.merge(a, how='left', left_on='user_id', right_index=True)"
   ]
  },
  {
   "cell_type": "markdown",
   "id": "4b4d7a58",
   "metadata": {},
   "source": [
    "#### g) Income brackets for customer"
   ]
  },
  {
   "cell_type": "code",
   "execution_count": 65,
   "id": "98d88be4",
   "metadata": {},
   "outputs": [
    {
     "data": {
      "text/plain": [
       "<AxesSubplot:ylabel='Frequency'>"
      ]
     },
     "execution_count": 65,
     "metadata": {},
     "output_type": "execute_result"
    },
    {
     "data": {
      "image/png": "[encoded data removed]",
      "text/plain": [
       "<Figure size 432x288 with 1 Axes>"
      ]
     },
     "metadata": {
      "needs_background": "light"
     },
     "output_type": "display_data"
    }
   ],
   "source": [
    "# vizualize the distribution of income for all customers\n",
    "customers['income'].plot.hist(bins=100)"
   ]
  },
  {
   "cell_type": "code",
   "execution_count": 66,
   "id": "e6e5d9c6",
   "metadata": {},
   "outputs": [
    {
     "data": {
      "text/plain": [
       "count    206209.000000\n",
       "mean      94632.852548\n",
       "std       42473.786988\n",
       "min       25903.000000\n",
       "25%       59874.000000\n",
       "50%       93547.000000\n",
       "75%      124244.000000\n",
       "max      593901.000000\n",
       "Name: income, dtype: float64"
      ]
     },
     "execution_count": 66,
     "metadata": {},
     "output_type": "execute_result"
    }
   ],
   "source": [
    "# find the descriptive stats for the variable\n",
    "customers['income'].describe()"
   ]
  },
  {
   "cell_type": "code",
   "execution_count": 67,
   "id": "2c88d316",
   "metadata": {},
   "outputs": [],
   "source": [
    "# create income groupings based on quartiles\n",
    "x = []\n",
    "for value in df2['income']:\n",
    "    if value < 60000:\n",
    "        x.append(1) # income group #1 \n",
    "    elif value >= 60000 and value < 94000:\n",
    "        x.append(2) # income group #2\n",
    "    elif value >= 94000 and value < 124000:\n",
    "        x.append(3) # income group #3\n",
    "    elif value >= 124000:\n",
    "        x.append(4) # income group #4\n",
    "    else:\n",
    "        x.append(np.nan)"
   ]
  },
  {
   "cell_type": "code",
   "execution_count": 68,
   "id": "11b72513",
   "metadata": {},
   "outputs": [],
   "source": [
    "df2['income_range'] = x"
   ]
  },
  {
   "cell_type": "code",
   "execution_count": 69,
   "id": "e555f2a2",
   "metadata": {},
   "outputs": [],
   "source": [
    "df2['income_range'] = df2['income_range'].astype('int8')"
   ]
  },
  {
   "cell_type": "markdown",
   "id": "95992e94",
   "metadata": {},
   "source": [
    "## 08 Export to set up for next notebook"
   ]
  },
  {
   "cell_type": "code",
   "execution_count": 70,
   "id": "9349472b",
   "metadata": {},
   "outputs": [
    {
     "data": {
      "text/plain": [
       "(32434212, 37)"
      ]
     },
     "execution_count": 70,
     "metadata": {},
     "output_type": "execute_result"
    }
   ],
   "source": [
    "# whoa, that's a lot of columns\n",
    "df2.shape"
   ]
  },
  {
   "cell_type": "code",
   "execution_count": 71,
   "id": "30882e24",
   "metadata": {},
   "outputs": [
    {
     "name": "stdout",
     "output_type": "stream",
     "text": [
      "CPU times: user 12.2 s, sys: 13.8 s, total: 26 s\n",
      "Wall time: 38.2 s\n"
     ]
    }
   ],
   "source": [
    "%%time\n",
    "df2.to_pickle(os.path.join(path, '02 Data', 'prepared data', 'df_410.pkl'))"
   ]
  },
  {
   "cell_type": "code",
   "execution_count": 72,
   "id": "a140c0b4",
   "metadata": {},
   "outputs": [],
   "source": [
    "df_region.to_csv(os.path.join(path, '02 Data', 'prepared data', 'df_410_region.csv'))"
   ]
  }
 ],
 "metadata": {
  "kernelspec": {
   "display_name": "Python 3 (ipykernel)",
   "language": "python",
   "name": "python3"
  },
  "language_info": {
   "codemirror_mode": {
    "name": "ipython",
    "version": 3
   },
   "file_extension": ".py",
   "mimetype": "text/x-python",
   "name": "python",
   "nbconvert_exporter": "python",
   "pygments_lexer": "ipython3",
   "version": "3.9.12"
  },
  "varInspector": {
   "cols": {
    "lenName": 16,
    "lenType": 16,
    "lenVar": 40
   },
   "kernels_config": {
    "python": {
     "delete_cmd_postfix": "",
     "delete_cmd_prefix": "del ",
     "library": "var_list.py",
     "varRefreshCmd": "print(var_dic_list())"
    },
    "r": {
     "delete_cmd_postfix": ") ",
     "delete_cmd_prefix": "rm(",
     "library": "var_list.r",
     "varRefreshCmd": "cat(var_dic_list()) "
    }
   },
   "position": {
    "height": "258.852px",
    "left": "952px",
    "right": "20px",
    "top": "120px",
    "width": "308px"
   },
   "types_to_exclude": [
    "module",
    "function",
    "builtin_function_or_method",
    "instance",
    "_Feature"
   ],
   "window_display": false
  }
 },
 "nbformat": 4,
 "nbformat_minor": 5
}
