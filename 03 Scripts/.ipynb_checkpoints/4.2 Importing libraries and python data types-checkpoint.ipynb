{
 "cells": [
  {
   "cell_type": "markdown",
   "id": "66c9b4da",
   "metadata": {},
   "source": [
    "# 01 Importing Libraries"
   ]
  },
  {
   "cell_type": "code",
   "execution_count": 1,
   "id": "c70d9df2",
   "metadata": {},
   "outputs": [],
   "source": [
    "# import libraries\n",
    "import pandas as pd\n",
    "import numpy as np\n",
    "import os"
   ]
  },
  {
   "cell_type": "markdown",
   "id": "c03f9d90",
   "metadata": {},
   "source": [
    "# 02 Working with python data types"
   ]
  },
  {
   "cell_type": "code",
   "execution_count": 10,
   "id": "e2d1ed60",
   "metadata": {},
   "outputs": [],
   "source": [
    "x = 137\n",
    "y = 25\n",
    "z = 13.7"
   ]
  },
  {
   "cell_type": "code",
   "execution_count": 12,
   "id": "ee67dc05",
   "metadata": {},
   "outputs": [
    {
     "data": {
      "text/plain": [
       "100"
      ]
     },
     "execution_count": 12,
     "metadata": {},
     "output_type": "execute_result"
    }
   ],
   "source": [
    "x - 37"
   ]
  },
  {
   "cell_type": "code",
   "execution_count": 13,
   "id": "e5459783",
   "metadata": {},
   "outputs": [
    {
     "data": {
      "text/plain": [
       "100"
      ]
     },
     "execution_count": 13,
     "metadata": {},
     "output_type": "execute_result"
    }
   ],
   "source": [
    "y * 4"
   ]
  },
  {
   "cell_type": "code",
   "execution_count": 15,
   "id": "254f2361",
   "metadata": {},
   "outputs": [
    {
     "data": {
      "text/plain": [
       "100.0"
      ]
     },
     "execution_count": 15,
     "metadata": {},
     "output_type": "execute_result"
    }
   ],
   "source": [
    "z + 86.3"
   ]
  },
  {
   "cell_type": "code",
   "execution_count": 16,
   "id": "3152b699",
   "metadata": {},
   "outputs": [],
   "source": [
    "a = 2.9"
   ]
  },
  {
   "cell_type": "code",
   "execution_count": 17,
   "id": "82f6cbc6",
   "metadata": {},
   "outputs": [
    {
     "data": {
      "text/plain": [
       "4.724137931034483"
      ]
     },
     "execution_count": 17,
     "metadata": {},
     "output_type": "execute_result"
    }
   ],
   "source": [
    "z / a"
   ]
  },
  {
   "cell_type": "code",
   "execution_count": 24,
   "id": "745f4c47",
   "metadata": {},
   "outputs": [],
   "source": [
    "b = 'a'\n",
    "c = 'p'\n",
    "d = 'l'\n",
    "e = 's'\n",
    "f = 'n'\n",
    "g = 't'"
   ]
  },
  {
   "cell_type": "code",
   "execution_count": 26,
   "id": "301c3256",
   "metadata": {},
   "outputs": [
    {
     "data": {
      "text/plain": [
       "'plants'"
      ]
     },
     "execution_count": 26,
     "metadata": {},
     "output_type": "execute_result"
    }
   ],
   "source": [
    "b = c + d + b + f + g + e\n",
    "b"
   ]
  },
  {
   "cell_type": "code",
   "execution_count": 29,
   "id": "841be593",
   "metadata": {},
   "outputs": [],
   "source": [
    "c = 'I love'\n",
    "d = 'running'\n",
    "e = 'But the'\n",
    "f = 'and'\n",
    "g = 'aren\\'t'"
   ]
  },
  {
   "cell_type": "code",
   "execution_count": 31,
   "id": "3567dd33",
   "metadata": {},
   "outputs": [
    {
     "data": {
      "text/plain": [
       "'I love running and plants.'"
      ]
     },
     "execution_count": 31,
     "metadata": {},
     "output_type": "execute_result"
    }
   ],
   "source": [
    "c + ' ' + d + ' ' + f + ' ' + b + '.'"
   ]
  },
  {
   "cell_type": "code",
   "execution_count": 33,
   "id": "ac31e810",
   "metadata": {},
   "outputs": [
    {
     "data": {
      "text/plain": [
       "\"But the plants aren't running.\""
      ]
     },
     "execution_count": 33,
     "metadata": {},
     "output_type": "execute_result"
    }
   ],
   "source": [
    "e + ' ' + b + ' ' + g + ' ' + d + '.'"
   ]
  },
  {
   "cell_type": "code",
   "execution_count": 34,
   "id": "1d3cd181",
   "metadata": {},
   "outputs": [
    {
     "data": {
      "text/plain": [
       "'Alexander HamiltonAlexander HamiltonAlexander HamiltonAlexander HamiltonAlexander HamiltonAlexander HamiltonAlexander HamiltonAlexander HamiltonAlexander HamiltonAlexander HamiltonAlexander HamiltonAlexander HamiltonAlexander HamiltonAlexander HamiltonAlexander HamiltonAlexander HamiltonAlexander HamiltonAlexander HamiltonAlexander HamiltonAlexander HamiltonAlexander HamiltonAlexander HamiltonAlexander HamiltonAlexander HamiltonAlexander HamiltonAlexander HamiltonAlexander HamiltonAlexander HamiltonAlexander HamiltonAlexander HamiltonAlexander HamiltonAlexander HamiltonAlexander HamiltonAlexander HamiltonAlexander HamiltonAlexander HamiltonAlexander HamiltonAlexander HamiltonAlexander HamiltonAlexander HamiltonAlexander HamiltonAlexander HamiltonAlexander HamiltonAlexander HamiltonAlexander HamiltonAlexander HamiltonAlexander HamiltonAlexander HamiltonAlexander HamiltonAlexander HamiltonAlexander HamiltonAlexander HamiltonAlexander HamiltonAlexander HamiltonAlexander HamiltonAlexander HamiltonAlexander HamiltonAlexander HamiltonAlexander HamiltonAlexander HamiltonAlexander HamiltonAlexander HamiltonAlexander HamiltonAlexander HamiltonAlexander HamiltonAlexander HamiltonAlexander HamiltonAlexander HamiltonAlexander HamiltonAlexander HamiltonAlexander HamiltonAlexander HamiltonAlexander HamiltonAlexander HamiltonAlexander HamiltonAlexander HamiltonAlexander HamiltonAlexander HamiltonAlexander HamiltonAlexander HamiltonAlexander HamiltonAlexander HamiltonAlexander HamiltonAlexander HamiltonAlexander HamiltonAlexander HamiltonAlexander HamiltonAlexander HamiltonAlexander HamiltonAlexander HamiltonAlexander HamiltonAlexander HamiltonAlexander HamiltonAlexander HamiltonAlexander HamiltonAlexander HamiltonAlexander HamiltonAlexander HamiltonAlexander HamiltonAlexander Hamilton'"
      ]
     },
     "execution_count": 34,
     "metadata": {},
     "output_type": "execute_result"
    }
   ],
   "source": [
    "'Alexander Hamilton' * 100"
   ]
  },
  {
   "cell_type": "code",
   "execution_count": null,
   "id": "caa46817",
   "metadata": {},
   "outputs": [],
   "source": []
  }
 ],
 "metadata": {
  "kernelspec": {
   "display_name": "Python 3 (ipykernel)",
   "language": "python",
   "name": "python3"
  },
  "language_info": {
   "codemirror_mode": {
    "name": "ipython",
    "version": 3
   },
   "file_extension": ".py",
   "mimetype": "text/x-python",
   "name": "python",
   "nbconvert_exporter": "python",
   "pygments_lexer": "ipython3",
   "version": "3.9.12"
  }
 },
 "nbformat": 4,
 "nbformat_minor": 5
}
