{
 "cells": [
  {
   "cell_type": "markdown",
   "id": "6f5643f5",
   "metadata": {},
   "source": [
    "### Contents:\n",
    "    01 Importing libraries and data\n",
    "    02 Data checks and subset\n",
    "    03 Visualizations\n",
    "        a Q1 busiest times for orders\n",
    "        b Q2 time when most money is spent\n",
    "        c Q3 price range breakdown\n",
    "        e Q4 popular departments and products\n",
    "        f Q5 customer profiling and ordering habits\n",
    "            01 loyalty flag\n",
    "            02 loyalty vs. days between\n",
    "            03 loyalty vs. region\n",
    "            04 loyalty vs. income bracket\n",
    "            05 loyalty vs. frozen stuff\n",
    "            06 loyalty vs. common order day\n",
    "            07 common order day vs. income\n",
    "            08 pets and babies\n",
    "            09 time of day vs. snacks/frozen\n",
    "            10 state vs. snacks\n",
    "            11 state total spend vs. average order\n",
    "            12 income vs age range            \n",
    "    04 Export figures"
   ]
  },
  {
   "cell_type": "markdown",
   "id": "958bfa18",
   "metadata": {},
   "source": [
    "# Task 4.10 - Part 2"
   ]
  },
  {
   "cell_type": "markdown",
   "id": "89c2db67",
   "metadata": {},
   "source": [
    "## 01 Importing libraries and data"
   ]
  },
  {
   "cell_type": "code",
   "execution_count": 1,
   "id": "083dfd0d",
   "metadata": {},
   "outputs": [],
   "source": [
    "import pandas as pd\n",
    "import numpy as np\n",
    "import os\n",
    "import matplotlib.pyplot as plt\n",
    "import seaborn as sns\n",
    "import scipy"
   ]
  },
  {
   "cell_type": "code",
   "execution_count": 2,
   "id": "492aaeea",
   "metadata": {},
   "outputs": [],
   "source": [
    "path = r'/Users/Emily/Documents/CF Data Analysis Program/Immersion 4/Instacart Basket Analysis'"
   ]
  },
  {
   "cell_type": "code",
   "execution_count": 3,
   "id": "8d5a7121",
   "metadata": {},
   "outputs": [],
   "source": [
    "df = pd.read_pickle(os.path.join(path, '02 Data', 'prepared data', 'df_410.pkl'))"
   ]
  },
  {
   "cell_type": "code",
   "execution_count": 4,
   "id": "7ea77099",
   "metadata": {},
   "outputs": [],
   "source": [
    "# df_region = pd.read_pickle(os.path.join(path, '02 Data', 'prepared data', 'df_410_region.pkl'))"
   ]
  },
  {
   "cell_type": "markdown",
   "id": "3ce5fbb1",
   "metadata": {},
   "source": [
    "## 02 Data checks & Preparation"
   ]
  },
  {
   "cell_type": "markdown",
   "id": "8ce85749",
   "metadata": {},
   "source": [
    "### Data checks"
   ]
  },
  {
   "cell_type": "code",
   "execution_count": 5,
   "id": "5a40116b",
   "metadata": {
    "scrolled": true
   },
   "outputs": [
    {
     "data": {
      "text/html": [
       "<div>\n",
       "<style scoped>\n",
       "    .dataframe tbody tr th:only-of-type {\n",
       "        vertical-align: middle;\n",
       "    }\n",
       "\n",
       "    .dataframe tbody tr th {\n",
       "        vertical-align: top;\n",
       "    }\n",
       "\n",
       "    .dataframe thead th {\n",
       "        text-align: right;\n",
       "    }\n",
       "</style>\n",
       "<table border=\"1\" class=\"dataframe\">\n",
       "  <thead>\n",
       "    <tr style=\"text-align: right;\">\n",
       "      <th></th>\n",
       "      <th>order_id</th>\n",
       "      <th>user_id</th>\n",
       "      <th>order_number</th>\n",
       "      <th>order_day_of_week</th>\n",
       "      <th>order_hour_of_day</th>\n",
       "      <th>days_since_prior_order</th>\n",
       "      <th>product_id</th>\n",
       "      <th>add_to_cart_order</th>\n",
       "      <th>reordered</th>\n",
       "      <th>product_name</th>\n",
       "      <th>...</th>\n",
       "      <th>region</th>\n",
       "      <th>exclusion</th>\n",
       "      <th>age_range</th>\n",
       "      <th>hour_range</th>\n",
       "      <th>pet_stuff</th>\n",
       "      <th>baby_stuff</th>\n",
       "      <th>frozen_stuff</th>\n",
       "      <th>snacks</th>\n",
       "      <th>common_order_day</th>\n",
       "      <th>income_range</th>\n",
       "    </tr>\n",
       "  </thead>\n",
       "  <tbody>\n",
       "    <tr>\n",
       "      <th>0</th>\n",
       "      <td>2539329</td>\n",
       "      <td>1</td>\n",
       "      <td>1</td>\n",
       "      <td>2</td>\n",
       "      <td>8</td>\n",
       "      <td>NaN</td>\n",
       "      <td>196</td>\n",
       "      <td>1</td>\n",
       "      <td>0</td>\n",
       "      <td>Soda</td>\n",
       "      <td>...</td>\n",
       "      <td>south</td>\n",
       "      <td>0</td>\n",
       "      <td>1</td>\n",
       "      <td>2</td>\n",
       "      <td>0</td>\n",
       "      <td>0</td>\n",
       "      <td>0</td>\n",
       "      <td>1</td>\n",
       "      <td>1</td>\n",
       "      <td>1</td>\n",
       "    </tr>\n",
       "    <tr>\n",
       "      <th>1</th>\n",
       "      <td>2398795</td>\n",
       "      <td>1</td>\n",
       "      <td>2</td>\n",
       "      <td>3</td>\n",
       "      <td>7</td>\n",
       "      <td>15.0</td>\n",
       "      <td>196</td>\n",
       "      <td>1</td>\n",
       "      <td>1</td>\n",
       "      <td>Soda</td>\n",
       "      <td>...</td>\n",
       "      <td>south</td>\n",
       "      <td>0</td>\n",
       "      <td>1</td>\n",
       "      <td>2</td>\n",
       "      <td>0</td>\n",
       "      <td>0</td>\n",
       "      <td>0</td>\n",
       "      <td>1</td>\n",
       "      <td>1</td>\n",
       "      <td>1</td>\n",
       "    </tr>\n",
       "    <tr>\n",
       "      <th>2</th>\n",
       "      <td>473747</td>\n",
       "      <td>1</td>\n",
       "      <td>3</td>\n",
       "      <td>3</td>\n",
       "      <td>12</td>\n",
       "      <td>21.0</td>\n",
       "      <td>196</td>\n",
       "      <td>1</td>\n",
       "      <td>1</td>\n",
       "      <td>Soda</td>\n",
       "      <td>...</td>\n",
       "      <td>south</td>\n",
       "      <td>0</td>\n",
       "      <td>1</td>\n",
       "      <td>1</td>\n",
       "      <td>0</td>\n",
       "      <td>0</td>\n",
       "      <td>0</td>\n",
       "      <td>1</td>\n",
       "      <td>1</td>\n",
       "      <td>1</td>\n",
       "    </tr>\n",
       "    <tr>\n",
       "      <th>3</th>\n",
       "      <td>2254736</td>\n",
       "      <td>1</td>\n",
       "      <td>4</td>\n",
       "      <td>4</td>\n",
       "      <td>7</td>\n",
       "      <td>29.0</td>\n",
       "      <td>196</td>\n",
       "      <td>1</td>\n",
       "      <td>1</td>\n",
       "      <td>Soda</td>\n",
       "      <td>...</td>\n",
       "      <td>south</td>\n",
       "      <td>0</td>\n",
       "      <td>1</td>\n",
       "      <td>2</td>\n",
       "      <td>0</td>\n",
       "      <td>0</td>\n",
       "      <td>0</td>\n",
       "      <td>1</td>\n",
       "      <td>1</td>\n",
       "      <td>1</td>\n",
       "    </tr>\n",
       "    <tr>\n",
       "      <th>4</th>\n",
       "      <td>431534</td>\n",
       "      <td>1</td>\n",
       "      <td>5</td>\n",
       "      <td>4</td>\n",
       "      <td>15</td>\n",
       "      <td>28.0</td>\n",
       "      <td>196</td>\n",
       "      <td>1</td>\n",
       "      <td>1</td>\n",
       "      <td>Soda</td>\n",
       "      <td>...</td>\n",
       "      <td>south</td>\n",
       "      <td>0</td>\n",
       "      <td>1</td>\n",
       "      <td>1</td>\n",
       "      <td>0</td>\n",
       "      <td>0</td>\n",
       "      <td>0</td>\n",
       "      <td>1</td>\n",
       "      <td>1</td>\n",
       "      <td>1</td>\n",
       "    </tr>\n",
       "  </tbody>\n",
       "</table>\n",
       "<p>5 rows × 37 columns</p>\n",
       "</div>"
      ],
      "text/plain": [
       "   order_id  user_id  order_number  order_day_of_week  order_hour_of_day  \\\n",
       "0   2539329        1             1                  2                  8   \n",
       "1   2398795        1             2                  3                  7   \n",
       "2    473747        1             3                  3                 12   \n",
       "3   2254736        1             4                  4                  7   \n",
       "4    431534        1             5                  4                 15   \n",
       "\n",
       "   days_since_prior_order  product_id  add_to_cart_order  reordered  \\\n",
       "0                     NaN         196                  1          0   \n",
       "1                    15.0         196                  1          1   \n",
       "2                    21.0         196                  1          1   \n",
       "3                    29.0         196                  1          1   \n",
       "4                    28.0         196                  1          1   \n",
       "\n",
       "  product_name  ...  region exclusion age_range  hour_range pet_stuff  \\\n",
       "0         Soda  ...   south         0         1           2         0   \n",
       "1         Soda  ...   south         0         1           2         0   \n",
       "2         Soda  ...   south         0         1           1         0   \n",
       "3         Soda  ...   south         0         1           2         0   \n",
       "4         Soda  ...   south         0         1           1         0   \n",
       "\n",
       "   baby_stuff frozen_stuff  snacks common_order_day  income_range  \n",
       "0           0            0       1                1             1  \n",
       "1           0            0       1                1             1  \n",
       "2           0            0       1                1             1  \n",
       "3           0            0       1                1             1  \n",
       "4           0            0       1                1             1  \n",
       "\n",
       "[5 rows x 37 columns]"
      ]
     },
     "execution_count": 5,
     "metadata": {},
     "output_type": "execute_result"
    }
   ],
   "source": [
    "df.head()"
   ]
  },
  {
   "cell_type": "code",
   "execution_count": 6,
   "id": "e2a996f3",
   "metadata": {},
   "outputs": [
    {
     "name": "stdout",
     "output_type": "stream",
     "text": [
      "<class 'pandas.core.frame.DataFrame'>\n",
      "Int64Index: 32434212 entries, 0 to 32434211\n",
      "Data columns (total 37 columns):\n",
      " #   Column                  Dtype  \n",
      "---  ------                  -----  \n",
      " 0   order_id                int32  \n",
      " 1   user_id                 int32  \n",
      " 2   order_number            int8   \n",
      " 3   order_day_of_week       int8   \n",
      " 4   order_hour_of_day       int8   \n",
      " 5   days_since_prior_order  float16\n",
      " 6   product_id              int32  \n",
      " 7   add_to_cart_order       uint8  \n",
      " 8   reordered               int8   \n",
      " 9   product_name            object \n",
      " 10  prices                  float32\n",
      " 11  gender                  object \n",
      " 12  state                   object \n",
      " 13  age                     int8   \n",
      " 14  date_joined             object \n",
      " 15  n_dependants            int8   \n",
      " 16  fam_status              object \n",
      " 17  income                  int32  \n",
      " 18  price_range             object \n",
      " 19  max_order               int8   \n",
      " 20  loyalty_flag            object \n",
      " 21  department              object \n",
      " 22  avg_prod_price          float16\n",
      " 23  ord_cost                float16\n",
      " 24  num_prod_in_order       uint8  \n",
      " 25  avg_order_cost          float16\n",
      " 26  median_days_between     float16\n",
      " 27  region                  object \n",
      " 28  exclusion               int8   \n",
      " 29  age_range               int8   \n",
      " 30  hour_range              int8   \n",
      " 31  pet_stuff               int8   \n",
      " 32  baby_stuff              int8   \n",
      " 33  frozen_stuff            int8   \n",
      " 34  snacks                  int8   \n",
      " 35  common_order_day        int8   \n",
      " 36  income_range            int8   \n",
      "dtypes: float16(5), float32(1), int32(4), int8(16), object(9), uint8(2)\n",
      "memory usage: 3.9+ GB\n"
     ]
    }
   ],
   "source": [
    "df.info()"
   ]
  },
  {
   "cell_type": "code",
   "execution_count": 7,
   "id": "ec4b27a8",
   "metadata": {},
   "outputs": [
    {
     "data": {
      "text/plain": [
       "(32434212, 37)"
      ]
     },
     "execution_count": 7,
     "metadata": {},
     "output_type": "execute_result"
    }
   ],
   "source": [
    "df.shape"
   ]
  },
  {
   "cell_type": "markdown",
   "id": "aba987de",
   "metadata": {},
   "source": [
    "### Excluding low-activity customers from analysis"
   ]
  },
  {
   "cell_type": "code",
   "execution_count": 8,
   "id": "273baef9",
   "metadata": {},
   "outputs": [
    {
     "data": {
      "text/plain": [
       "0    0.955555\n",
       "1    0.044445\n",
       "Name: exclusion, dtype: float64"
      ]
     },
     "execution_count": 8,
     "metadata": {},
     "output_type": "execute_result"
    }
   ],
   "source": [
    "# less than 5% of the customers have made less than 5 orders.\n",
    "df['exclusion'].value_counts(normalize=True)"
   ]
  },
  {
   "cell_type": "code",
   "execution_count": 9,
   "id": "5a80ebd9",
   "metadata": {
    "scrolled": true
   },
   "outputs": [
    {
     "data": {
      "text/plain": [
       "(30992664, 37)"
      ]
     },
     "execution_count": 9,
     "metadata": {},
     "output_type": "execute_result"
    }
   ],
   "source": [
    "# we'll exclude them\n",
    "df = df[df['exclusion'] == 0]\n",
    "df.shape"
   ]
  },
  {
   "cell_type": "markdown",
   "id": "c07352a3",
   "metadata": {},
   "source": [
    "## 03 Visualizations for report - Key questions"
   ]
  },
  {
   "cell_type": "code",
   "execution_count": 10,
   "id": "b6d4dbf0",
   "metadata": {},
   "outputs": [
    {
     "data": {
      "text/plain": [
       "(3064545, 37)"
      ]
     },
     "execution_count": 10,
     "metadata": {},
     "output_type": "execute_result"
    }
   ],
   "source": [
    "# create a df that just lists orders (and only the necessary columns)\n",
    "orders = df.drop_duplicates(subset='order_id')\n",
    "orders.shape"
   ]
  },
  {
   "cell_type": "code",
   "execution_count": 11,
   "id": "5d212e48",
   "metadata": {},
   "outputs": [
    {
     "data": {
      "text/plain": [
       "(162633, 37)"
      ]
     },
     "execution_count": 11,
     "metadata": {},
     "output_type": "execute_result"
    }
   ],
   "source": [
    "# create a df that just lists customers\n",
    "customers = df.drop_duplicates(subset=['user_id'])\n",
    "customers.shape"
   ]
  },
  {
   "cell_type": "markdown",
   "id": "7d3f9131",
   "metadata": {},
   "source": [
    "### a) 1. The sales team needs to know what the busiest days of the week and hours of the day are (i.e., the days and times with the most orders) in order to schedule ads at times when there are fewer orders."
   ]
  },
  {
   "cell_type": "code",
   "execution_count": 12,
   "id": "17d23bad",
   "metadata": {},
   "outputs": [],
   "source": [
    "# map the meaning of days 0-6 to days Sat-Fri\n",
    "days = pd.DataFrame(data={'days':['Sat', 'Sun', 'Mon', 'Tue', 'Wed', 'Thu', 'Fri']})"
   ]
  },
  {
   "cell_type": "code",
   "execution_count": 13,
   "id": "1ea0635f",
   "metadata": {
    "scrolled": false
   },
   "outputs": [
    {
     "data": {
      "text/plain": [
       "Text(0.5, 1.0, 'Days of the week when orders are placed')"
      ]
     },
     "execution_count": 13,
     "metadata": {},
     "output_type": "execute_result"
    },
    {
     "data": {
      "image/png": "[encoded data removed]",
      "text/plain": [
       "<Figure size 432x288 with 1 Axes>"
      ]
     },
     "metadata": {
      "needs_background": "light"
     },
     "output_type": "display_data"
    }
   ],
   "source": [
    "# Orders placed on each day of the week\n",
    "data = orders['order_day_of_week'].value_counts().sort_index(ascending=False).to_frame()\n",
    "data = data.merge(days, how='inner', left_index=True, right_index=True).set_index('days')\n",
    "bar_dow = data.plot.barh(color = sns.color_palette(\"muted\")[2], \n",
    "                         legend=None)\n",
    "plt.xlabel('Number of orders placed')\n",
    "plt.ylabel('')\n",
    "plt.title('Days of the week when orders are placed')"
   ]
  },
  {
   "cell_type": "code",
   "execution_count": 14,
   "id": "c49ee06c",
   "metadata": {},
   "outputs": [
    {
     "data": {
      "image/png": "[encoded data removed]",
      "text/plain": [
       "<Figure size 432x288 with 1 Axes>"
      ]
     },
     "metadata": {
      "needs_background": "light"
     },
     "output_type": "display_data"
    }
   ],
   "source": [
    "# orders placed during the hours of the day\n",
    "data = orders['order_hour_of_day'].value_counts().sort_index()\n",
    "bar_orders_hour = data.plot.bar(ylabel='Number of orders placed', color = sns.color_palette(\"muted\")[2],\n",
    "                                xlabel='Hour of the day, starting at midnight', \n",
    "                                title='Hour of the day when orders are placed')"
   ]
  },
  {
   "cell_type": "markdown",
   "id": "8cab6182",
   "metadata": {},
   "source": [
    "### b) 2. They also want to know whether there are particular times of the day when people spend the most money, as this might inform the type of products they advertise at these times."
   ]
  },
  {
   "cell_type": "code",
   "execution_count": 15,
   "id": "32f3c016",
   "metadata": {},
   "outputs": [
    {
     "name": "stderr",
     "output_type": "stream",
     "text": [
      "/var/folders/k5/g_rc3lgx7x9d6wvbtl981b340000gn/T/ipykernel_2457/1275836485.py:2: SettingWithCopyWarning: \n",
      "A value is trying to be set on a copy of a slice from a DataFrame.\n",
      "Try using .loc[row_indexer,col_indexer] = value instead\n",
      "\n",
      "See the caveats in the documentation: https://pandas.pydata.org/pandas-docs/stable/user_guide/indexing.html#returning-a-view-versus-a-copy\n",
      "  orders['ord_cost'] = orders['ord_cost'].astype('float32')\n"
     ]
    }
   ],
   "source": [
    "# need to allow for larger numbers\n",
    "orders['ord_cost'] = orders['ord_cost'].astype('float32')"
   ]
  },
  {
   "cell_type": "code",
   "execution_count": 76,
   "id": "a0ddb4cc",
   "metadata": {},
   "outputs": [
    {
     "data": {
      "image/png": "[encoded data removed]",
      "text/plain": [
       "<Figure size 432x288 with 1 Axes>"
      ]
     },
     "metadata": {
      "needs_background": "light"
     },
     "output_type": "display_data"
    }
   ],
   "source": [
    "# total money by hour of day\n",
    "data = orders.groupby(['order_hour_of_day'])['ord_cost'].sum()\n",
    "bar_cost_hours = data.plot.bar(ylabel='Total $ spent per hour (in tens of millions)',\n",
    "                               color = sns.color_palette(\"muted\")[4], \n",
    "                               title='Total spent per hour of the day')"
   ]
  },
  {
   "cell_type": "code",
   "execution_count": 17,
   "id": "f0461d7d",
   "metadata": {},
   "outputs": [
    {
     "data": {
      "text/plain": [
       "<AxesSubplot:xlabel='order_hour_of_day', ylabel='Number of products purchased'>"
      ]
     },
     "execution_count": 17,
     "metadata": {},
     "output_type": "execute_result"
    },
    {
     "data": {
      "image/png": "[encoded data removed]",
      "text/plain": [
       "<Figure size 432x288 with 1 Axes>"
      ]
     },
     "metadata": {
      "needs_background": "light"
     },
     "output_type": "display_data"
    }
   ],
   "source": [
    "# total number of products purchased by hour of day\n",
    "# Pretty much the same graph\n",
    "# not going to use in final report\n",
    "df.groupby(['order_hour_of_day'])['product_id'].count().plot.bar(ylabel='Number of products purchased')"
   ]
  },
  {
   "cell_type": "markdown",
   "id": "22313e21",
   "metadata": {},
   "source": [
    "### c) 3. Instacart has a lot of products with different price tags. Marketing and sales want to use simpler price range groupings to help direct their efforts."
   ]
  },
  {
   "cell_type": "code",
   "execution_count": 18,
   "id": "c8c378db",
   "metadata": {},
   "outputs": [
    {
     "data": {
      "text/plain": [
       "Text(0.5, 1.0, 'Histogram: Prices of products purchased')"
      ]
     },
     "execution_count": 18,
     "metadata": {},
     "output_type": "execute_result"
    },
    {
     "data": {
      "image/png": "[encoded data removed]",
      "text/plain": [
       "<Figure size 432x288 with 1 Axes>"
      ]
     },
     "metadata": {
      "needs_background": "light"
     },
     "output_type": "display_data"
    }
   ],
   "source": [
    "hist_prices = df['prices'].plot.hist(bins=50, color = sns.color_palette(\"muted\")[3])\n",
    "plt.xlabel('Price per product')\n",
    "plt.ylabel('Frequency of products purchased')\n",
    "plt.title('Histogram: Prices of products purchased')"
   ]
  },
  {
   "cell_type": "code",
   "execution_count": 79,
   "id": "f6050840",
   "metadata": {},
   "outputs": [
    {
     "data": {
      "text/html": [
       "<div>\n",
       "<style scoped>\n",
       "    .dataframe tbody tr th:only-of-type {\n",
       "        vertical-align: middle;\n",
       "    }\n",
       "\n",
       "    .dataframe tbody tr th {\n",
       "        vertical-align: top;\n",
       "    }\n",
       "\n",
       "    .dataframe thead th {\n",
       "        text-align: right;\n",
       "    }\n",
       "</style>\n",
       "<table border=\"1\" class=\"dataframe\">\n",
       "  <thead>\n",
       "    <tr style=\"text-align: right;\">\n",
       "      <th></th>\n",
       "      <th>product_id</th>\n",
       "    </tr>\n",
       "    <tr>\n",
       "      <th>price_range</th>\n",
       "      <th></th>\n",
       "    </tr>\n",
       "  </thead>\n",
       "  <tbody>\n",
       "    <tr>\n",
       "      <th>high</th>\n",
       "      <td>546</td>\n",
       "    </tr>\n",
       "    <tr>\n",
       "      <th>low</th>\n",
       "      <td>16281</td>\n",
       "    </tr>\n",
       "    <tr>\n",
       "      <th>mid</th>\n",
       "      <td>32816</td>\n",
       "    </tr>\n",
       "  </tbody>\n",
       "</table>\n",
       "</div>"
      ],
      "text/plain": [
       "             product_id\n",
       "price_range            \n",
       "high                546\n",
       "low               16281\n",
       "mid               32816"
      ]
     },
     "execution_count": 79,
     "metadata": {},
     "output_type": "execute_result"
    },
    {
     "data": {
      "image/png": "[encoded data removed]",
      "text/plain": [
       "<Figure size 432x288 with 1 Axes>"
      ]
     },
     "metadata": {},
     "output_type": "display_data"
    }
   ],
   "source": [
    "# items priced over $15 are 'high', $5 and under are 'low', and in between are 'mid'\n",
    "# most items fall in the 'mid' range\n",
    "# all products available\n",
    "data = df[['price_range', 'product_id']].groupby(['price_range']).nunique().sort_index()\n",
    "\n",
    "#data['product_id']\n",
    "#plt.pie(data['product_id'])\n",
    "pie_price_1 = data['product_id'].plot.pie(autopct=('%1.0f%%'), \n",
    "                                          colors = sns.color_palette(\"muted\")[1:4],\n",
    "                                          wedgeprops = { 'linewidth' : 2, 'edgecolor' : 'white' }, \n",
    "                                          legend=None, ylabel='', title='Price ranges of products available', \n",
    "                                          labels=['Over $15', 'Under $5', 'Between \\$5 and \\$15'])\n",
    "data"
   ]
  },
  {
   "cell_type": "code",
   "execution_count": 80,
   "id": "b8380a22",
   "metadata": {},
   "outputs": [
    {
     "data": {
      "image/png": "[encoded data removed]",
      "text/plain": [
       "<Figure size 432x288 with 1 Axes>"
      ]
     },
     "metadata": {},
     "output_type": "display_data"
    }
   ],
   "source": [
    "# all products actually purchased\n",
    "data = df[['price_range', 'product_id']].groupby(['price_range']).count().sort_index()\n",
    "pie_price_2 = data['product_id'].plot.pie(autopct=('%1.0f%%'), \n",
    "                                          colors = sns.color_palette(\"muted\")[1:4],\n",
    "                                          wedgeprops = { 'linewidth' : 2, 'edgecolor' : 'white' }, \n",
    "                                          legend=None, ylabel='', title='Price ranges of products purchased', \n",
    "                                          labels=['Over $15', 'Under $5', 'Between \\$5 and \\$15'])"
   ]
  },
  {
   "cell_type": "markdown",
   "id": "3d2e15b9",
   "metadata": {},
   "source": [
    "### d) 4. Are there certain types of products that are more popular than others? The marketing and sales teams want to know which departments have the highest frequency of product orders."
   ]
  },
  {
   "cell_type": "code",
   "execution_count": 21,
   "id": "40e8511f",
   "metadata": {},
   "outputs": [
    {
     "data": {
      "text/plain": [
       "Text(0.5, 0, 'Number of products')"
      ]
     },
     "execution_count": 21,
     "metadata": {},
     "output_type": "execute_result"
    },
    {
     "data": {
      "image/png": "[encoded data removed]",
      "text/plain": [
       "<Figure size 432x288 with 1 Axes>"
      ]
     },
     "metadata": {
      "needs_background": "light"
     },
     "output_type": "display_data"
    }
   ],
   "source": [
    "# The personal care department has the highest number of products available\n",
    "data = (df[['department', 'product_id']].groupby(['department'])\n",
    "        .nunique().sort_values(by='product_id')).tail(10)\n",
    "bar_products_1 = data.plot.barh(color = sns.color_palette(\"muted\")[0], legend=None)\n",
    "plt.title('Number of products available in top-10 departments')\n",
    "plt.ylabel('')\n",
    "plt.xlabel('Number of products')"
   ]
  },
  {
   "cell_type": "code",
   "execution_count": 22,
   "id": "150927bd",
   "metadata": {
    "scrolled": true
   },
   "outputs": [
    {
     "data": {
      "text/plain": [
       "Text(0.5, 1.0, 'Number of products sold in top-10 departments')"
      ]
     },
     "execution_count": 22,
     "metadata": {},
     "output_type": "execute_result"
    },
    {
     "data": {
      "image/png": "[encoded data removed]",
      "text/plain": [
       "<Figure size 432x288 with 1 Axes>"
      ]
     },
     "metadata": {
      "needs_background": "light"
     },
     "output_type": "display_data"
    }
   ],
   "source": [
    "# The most number of products are purchased from the produce department\n",
    "data = df['department'].value_counts().sort_values().tail(10)\n",
    "bar_products_2 = data.plot.barh(color = sns.color_palette(\"muted\")[3], legend=None)\n",
    "plt.xlabel('Number of products sold (in millions)')\n",
    "plt.title('Number of products sold in top-10 departments')"
   ]
  },
  {
   "cell_type": "markdown",
   "id": "7bfe9a70",
   "metadata": {},
   "source": [
    "### e) 5. The marketing and sales teams are particularly interested in the different types of customers in their system and how their ordering behaviors differ."
   ]
  },
  {
   "cell_type": "markdown",
   "id": "8b4e277c",
   "metadata": {},
   "source": [
    "'Ordering habits' can be defined in a number of ways. Some examples:\n",
    " > - common order day\n",
    " > - days in between orders\n",
    " > - average order cost\n",
    " > - total number of orders\n",
    " > - total spent"
   ]
  },
  {
   "cell_type": "markdown",
   "id": "7dd4b230",
   "metadata": {},
   "source": [
    "#### 01) loyalty flag break down"
   ]
  },
  {
   "cell_type": "code",
   "execution_count": 23,
   "id": "54a09dc6",
   "metadata": {},
   "outputs": [
    {
     "data": {
      "image/png": "[encoded data removed]",
      "text/plain": [
       "<Figure size 432x288 with 1 Axes>"
      ]
     },
     "metadata": {},
     "output_type": "display_data"
    }
   ],
   "source": [
    "# division of customers by loyalty flag\n",
    "data = customers['loyalty_flag'].value_counts().sort_index()\n",
    "pie_loyalty_customers = data.plot.pie(autopct=('%1.0f%%'), colors = sns.color_palette(\"muted\")[1:4],\n",
    "                                      wedgeprops={'linewidth': 2, 'edgecolor': 'white'},\n",
    "                                      legend=None, ylabel='', title='Division of customers by loyalty', \n",
    "                                      labels =['Over 40 orders', 'Less than 10 orders', 'Between 10 and 40 orders'])"
   ]
  },
  {
   "cell_type": "code",
   "execution_count": 24,
   "id": "16252710",
   "metadata": {},
   "outputs": [
    {
     "data": {
      "image/png": "[encoded data removed]",
      "text/plain": [
       "<Figure size 432x288 with 1 Axes>"
      ]
     },
     "metadata": {},
     "output_type": "display_data"
    }
   ],
   "source": [
    "# division of orders by loyalty flag\n",
    "data = orders['loyalty_flag'].value_counts().sort_index()\n",
    "pie_loyalty_orders = data.plot.pie(autopct=('%1.0f%%'), colors = sns.color_palette(\"muted\")[1:4],\n",
    "                                      wedgeprops={'linewidth': 2, 'edgecolor': 'white'},\n",
    "                                      legend=None, ylabel='', title='Division of orders by customer loyalty', \n",
    "                                      labels =['Over 40 orders', 'Less than 10 orders', 'Between 10 and 40 orders'])"
   ]
  },
  {
   "cell_type": "markdown",
   "id": "477cd73b",
   "metadata": {},
   "source": [
    "#### 02) Loyalty_flag vs. median_days_between"
   ]
  },
  {
   "cell_type": "code",
   "execution_count": 25,
   "id": "35a4fd0c",
   "metadata": {},
   "outputs": [
    {
     "data": {
      "text/plain": [
       "Text(0.5, 1.0, 'Histogram: Median days between orders for customers')"
      ]
     },
     "execution_count": 25,
     "metadata": {},
     "output_type": "execute_result"
    },
    {
     "data": {
      "image/png": "[encoded data removed]",
      "text/plain": [
       "<Figure size 432x288 with 1 Axes>"
      ]
     },
     "metadata": {
      "needs_background": "light"
     },
     "output_type": "display_data"
    }
   ],
   "source": [
    "# visualize frequency of median_day_between for all customers\n",
    "# highest frequency is ordering every 7 days.\n",
    "# max of this variable is 30, so there's a collection at 30 that's likely artificial\n",
    "hist_median_days = customers['median_days_between'].plot.hist(bins=31, color=sns.color_palette(\"muted\")[3])\n",
    "plt.xlabel('Median days in between orders')\n",
    "plt.ylabel('Count of customers')\n",
    "plt.title('Histogram: Median days between orders for customers')"
   ]
  },
  {
   "cell_type": "code",
   "execution_count": 26,
   "id": "97e6a598",
   "metadata": {},
   "outputs": [
    {
     "data": {
      "text/html": [
       "<div>\n",
       "<style scoped>\n",
       "    .dataframe tbody tr th:only-of-type {\n",
       "        vertical-align: middle;\n",
       "    }\n",
       "\n",
       "    .dataframe tbody tr th {\n",
       "        vertical-align: top;\n",
       "    }\n",
       "\n",
       "    .dataframe thead tr th {\n",
       "        text-align: left;\n",
       "    }\n",
       "\n",
       "    .dataframe thead tr:last-of-type th {\n",
       "        text-align: right;\n",
       "    }\n",
       "</style>\n",
       "<table border=\"1\" class=\"dataframe\">\n",
       "  <thead>\n",
       "    <tr>\n",
       "      <th></th>\n",
       "      <th colspan=\"3\" halign=\"left\">median_days_between</th>\n",
       "    </tr>\n",
       "    <tr>\n",
       "      <th></th>\n",
       "      <th>min</th>\n",
       "      <th>max</th>\n",
       "      <th>mean</th>\n",
       "    </tr>\n",
       "    <tr>\n",
       "      <th>loyalty_flag</th>\n",
       "      <th></th>\n",
       "      <th></th>\n",
       "      <th></th>\n",
       "    </tr>\n",
       "  </thead>\n",
       "  <tbody>\n",
       "    <tr>\n",
       "      <th>loyal</th>\n",
       "      <td>0.0</td>\n",
       "      <td>9.5</td>\n",
       "      <td>4.871094</td>\n",
       "    </tr>\n",
       "    <tr>\n",
       "      <th>new</th>\n",
       "      <td>0.0</td>\n",
       "      <td>30.0</td>\n",
       "      <td>17.718750</td>\n",
       "    </tr>\n",
       "    <tr>\n",
       "      <th>regular</th>\n",
       "      <td>0.0</td>\n",
       "      <td>30.0</td>\n",
       "      <td>10.156250</td>\n",
       "    </tr>\n",
       "  </tbody>\n",
       "</table>\n",
       "</div>"
      ],
      "text/plain": [
       "             median_days_between                 \n",
       "                             min   max       mean\n",
       "loyalty_flag                                     \n",
       "loyal                        0.0   9.5   4.871094\n",
       "new                          0.0  30.0  17.718750\n",
       "regular                      0.0  30.0  10.156250"
      ]
     },
     "execution_count": 26,
     "metadata": {},
     "output_type": "execute_result"
    }
   ],
   "source": [
    "# min, max, mean of median_days_between orders based on loyalty_flag\n",
    "# the group with the most orders has the lowest mean, group with the least orders has the highest mean\n",
    "df.groupby(['loyalty_flag']).agg({'median_days_between': ['min', 'max', 'mean']})"
   ]
  },
  {
   "cell_type": "code",
   "execution_count": 27,
   "id": "e3593966",
   "metadata": {
    "scrolled": true
   },
   "outputs": [
    {
     "data": {
      "text/html": [
       "<div>\n",
       "<style scoped>\n",
       "    .dataframe tbody tr th:only-of-type {\n",
       "        vertical-align: middle;\n",
       "    }\n",
       "\n",
       "    .dataframe tbody tr th {\n",
       "        vertical-align: top;\n",
       "    }\n",
       "\n",
       "    .dataframe thead th {\n",
       "        text-align: right;\n",
       "    }\n",
       "</style>\n",
       "<table border=\"1\" class=\"dataframe\">\n",
       "  <thead>\n",
       "    <tr style=\"text-align: right;\">\n",
       "      <th>loyalty_flag</th>\n",
       "      <th>median_days_between</th>\n",
       "      <th>loyal</th>\n",
       "      <th>new</th>\n",
       "      <th>regular</th>\n",
       "    </tr>\n",
       "  </thead>\n",
       "  <tbody>\n",
       "    <tr>\n",
       "      <th>0</th>\n",
       "      <td>0.0</td>\n",
       "      <td>0.11</td>\n",
       "      <td>0.04</td>\n",
       "      <td>0.02</td>\n",
       "    </tr>\n",
       "    <tr>\n",
       "      <th>1</th>\n",
       "      <td>0.5</td>\n",
       "      <td>0.01</td>\n",
       "      <td>0.02</td>\n",
       "      <td>0.00</td>\n",
       "    </tr>\n",
       "    <tr>\n",
       "      <th>2</th>\n",
       "      <td>1.0</td>\n",
       "      <td>1.38</td>\n",
       "      <td>0.16</td>\n",
       "      <td>0.11</td>\n",
       "    </tr>\n",
       "    <tr>\n",
       "      <th>3</th>\n",
       "      <td>1.5</td>\n",
       "      <td>0.10</td>\n",
       "      <td>0.07</td>\n",
       "      <td>0.04</td>\n",
       "    </tr>\n",
       "    <tr>\n",
       "      <th>4</th>\n",
       "      <td>2.0</td>\n",
       "      <td>5.42</td>\n",
       "      <td>0.35</td>\n",
       "      <td>0.53</td>\n",
       "    </tr>\n",
       "  </tbody>\n",
       "</table>\n",
       "</div>"
      ],
      "text/plain": [
       "loyalty_flag  median_days_between  loyal   new  regular\n",
       "0                             0.0   0.11  0.04     0.02\n",
       "1                             0.5   0.01  0.02     0.00\n",
       "2                             1.0   1.38  0.16     0.11\n",
       "3                             1.5   0.10  0.07     0.04\n",
       "4                             2.0   5.42  0.35     0.53"
      ]
     },
     "execution_count": 27,
     "metadata": {},
     "output_type": "execute_result"
    }
   ],
   "source": [
    "# crosstab median_days_between with loyalty flag\n",
    "# reset index so that you can use 'median_days_between'\n",
    "x1 = (pd.crosstab(customers['median_days_between'], customers['loyalty_flag'])\n",
    "      .apply(lambda r: round(r/r.sum()*100,2), axis=0).reset_index())\n",
    "x1.head()"
   ]
  },
  {
   "cell_type": "code",
   "execution_count": 28,
   "id": "082a6be2",
   "metadata": {},
   "outputs": [
    {
     "data": {
      "text/plain": [
       "Text(0.5, 1.0, 'Median days between orders for Loyal customers')"
      ]
     },
     "execution_count": 28,
     "metadata": {},
     "output_type": "execute_result"
    },
    {
     "data": {
      "image/png": "[encoded data removed]",
      "text/plain": [
       "<Figure size 432x288 with 1 Axes>"
      ]
     },
     "metadata": {},
     "output_type": "display_data"
    }
   ],
   "source": [
    "a = x1.loc[x1['median_days_between'] <= 7, 'loyal'].sum()\n",
    "b = x1.loc[x1['median_days_between'] > 7, 'loyal'].sum()\n",
    "pie_days_loyal = plt.figure()\n",
    "plt.pie([a,b], autopct=('%1.f%%'), wedgeprops={'linewidth': 2, 'edgecolor': 'white'},\n",
    "                         colors = sns.color_palette(\"muted\"), labels=['within 7 days', 'more than 7 days'])\n",
    "plt.ylabel('')\n",
    "plt.title('Median days between orders for Loyal customers')"
   ]
  },
  {
   "cell_type": "code",
   "execution_count": 29,
   "id": "a2b3f20c",
   "metadata": {},
   "outputs": [
    {
     "data": {
      "text/plain": [
       "Text(0.5, 1.0, 'Median days between orders for Regular customers')"
      ]
     },
     "execution_count": 29,
     "metadata": {},
     "output_type": "execute_result"
    },
    {
     "data": {
      "image/png": "[encoded data removed]",
      "text/plain": [
       "<Figure size 432x288 with 1 Axes>"
      ]
     },
     "metadata": {},
     "output_type": "display_data"
    }
   ],
   "source": [
    "a = x1.loc[x1['median_days_between'] <= 7, 'regular'].sum()\n",
    "b = x1.loc[x1['median_days_between'] > 7, 'regular'].sum()\n",
    "pie_days_regular = plt.figure()\n",
    "plt.pie([a,b], autopct=('%1.f%%'), wedgeprops={'linewidth': 2, 'edgecolor': 'white'},\n",
    "                           colors = sns.color_palette(\"muted\"), labels=['within 7 days', 'more than 7 days'])\n",
    "plt.ylabel('')\n",
    "plt.title('Median days between orders for Regular customers')"
   ]
  },
  {
   "cell_type": "code",
   "execution_count": 30,
   "id": "7f92ed3b",
   "metadata": {},
   "outputs": [
    {
     "data": {
      "text/plain": [
       "Text(0.5, 1.0, 'Median days between orders for New customers')"
      ]
     },
     "execution_count": 30,
     "metadata": {},
     "output_type": "execute_result"
    },
    {
     "data": {
      "image/png": "[encoded data removed]",
      "text/plain": [
       "<Figure size 432x288 with 1 Axes>"
      ]
     },
     "metadata": {},
     "output_type": "display_data"
    }
   ],
   "source": [
    "a = x1.loc[x1['median_days_between'] <= 7, 'new'].sum()\n",
    "b = x1.loc[x1['median_days_between'] > 7, 'new'].sum()\n",
    "pie_days_new = plt.figure()\n",
    "plt.pie([a,b], autopct=('%1.f%%'), wedgeprops={'linewidth': 2, 'edgecolor': 'white'},\n",
    "                           colors = sns.color_palette(\"muted\"), labels=['within 7 days', 'more than 7 days'])\n",
    "plt.ylabel('')\n",
    "plt.title('Median days between orders for New customers')"
   ]
  },
  {
   "cell_type": "markdown",
   "id": "0408e254",
   "metadata": {},
   "source": [
    "#### 03) loyalty_flag vs. region"
   ]
  },
  {
   "cell_type": "code",
   "execution_count": 31,
   "id": "fea16ea1",
   "metadata": {},
   "outputs": [
    {
     "data": {
      "text/html": [
       "<div>\n",
       "<style scoped>\n",
       "    .dataframe tbody tr th:only-of-type {\n",
       "        vertical-align: middle;\n",
       "    }\n",
       "\n",
       "    .dataframe tbody tr th {\n",
       "        vertical-align: top;\n",
       "    }\n",
       "\n",
       "    .dataframe thead th {\n",
       "        text-align: right;\n",
       "    }\n",
       "</style>\n",
       "<table border=\"1\" class=\"dataframe\">\n",
       "  <thead>\n",
       "    <tr style=\"text-align: right;\">\n",
       "      <th>region</th>\n",
       "      <th>midwest</th>\n",
       "      <th>northeast</th>\n",
       "      <th>south</th>\n",
       "      <th>west</th>\n",
       "    </tr>\n",
       "    <tr>\n",
       "      <th>loyalty_flag</th>\n",
       "      <th></th>\n",
       "      <th></th>\n",
       "      <th></th>\n",
       "      <th></th>\n",
       "    </tr>\n",
       "  </thead>\n",
       "  <tbody>\n",
       "    <tr>\n",
       "      <th>loyal</th>\n",
       "      <td>10.40</td>\n",
       "      <td>10.59</td>\n",
       "      <td>10.40</td>\n",
       "      <td>10.52</td>\n",
       "    </tr>\n",
       "    <tr>\n",
       "      <th>new</th>\n",
       "      <td>42.19</td>\n",
       "      <td>42.20</td>\n",
       "      <td>42.34</td>\n",
       "      <td>42.31</td>\n",
       "    </tr>\n",
       "    <tr>\n",
       "      <th>regular</th>\n",
       "      <td>47.41</td>\n",
       "      <td>47.21</td>\n",
       "      <td>47.25</td>\n",
       "      <td>47.17</td>\n",
       "    </tr>\n",
       "  </tbody>\n",
       "</table>\n",
       "</div>"
      ],
      "text/plain": [
       "region        midwest  northeast  south   west\n",
       "loyalty_flag                                  \n",
       "loyal           10.40      10.59  10.40  10.52\n",
       "new             42.19      42.20  42.34  42.31\n",
       "regular         47.41      47.21  47.25  47.17"
      ]
     },
     "execution_count": 31,
     "metadata": {},
     "output_type": "execute_result"
    }
   ],
   "source": [
    "# nothing that stands out here\n",
    "pd.crosstab(customers['loyalty_flag'], customers['region']).apply(lambda r: round(r/r.sum()*100,2), axis=0)"
   ]
  },
  {
   "cell_type": "markdown",
   "id": "fc3cfb91",
   "metadata": {},
   "source": [
    "#### 04) Income bracket vs. loyalty flag"
   ]
  },
  {
   "cell_type": "code",
   "execution_count": 32,
   "id": "7524156d",
   "metadata": {},
   "outputs": [
    {
     "data": {
      "text/html": [
       "<div>\n",
       "<style scoped>\n",
       "    .dataframe tbody tr th:only-of-type {\n",
       "        vertical-align: middle;\n",
       "    }\n",
       "\n",
       "    .dataframe tbody tr th {\n",
       "        vertical-align: top;\n",
       "    }\n",
       "\n",
       "    .dataframe thead th {\n",
       "        text-align: right;\n",
       "    }\n",
       "</style>\n",
       "<table border=\"1\" class=\"dataframe\">\n",
       "  <thead>\n",
       "    <tr style=\"text-align: right;\">\n",
       "      <th>income_range</th>\n",
       "      <th>1</th>\n",
       "      <th>2</th>\n",
       "      <th>3</th>\n",
       "      <th>4</th>\n",
       "    </tr>\n",
       "    <tr>\n",
       "      <th>loyalty_flag</th>\n",
       "      <th></th>\n",
       "      <th></th>\n",
       "      <th></th>\n",
       "      <th></th>\n",
       "    </tr>\n",
       "  </thead>\n",
       "  <tbody>\n",
       "    <tr>\n",
       "      <th>loyal</th>\n",
       "      <td>20.56</td>\n",
       "      <td>27.33</td>\n",
       "      <td>25.49</td>\n",
       "      <td>26.63</td>\n",
       "    </tr>\n",
       "    <tr>\n",
       "      <th>new</th>\n",
       "      <td>25.96</td>\n",
       "      <td>25.14</td>\n",
       "      <td>24.07</td>\n",
       "      <td>24.83</td>\n",
       "    </tr>\n",
       "    <tr>\n",
       "      <th>regular</th>\n",
       "      <td>22.71</td>\n",
       "      <td>26.04</td>\n",
       "      <td>25.11</td>\n",
       "      <td>26.13</td>\n",
       "    </tr>\n",
       "  </tbody>\n",
       "</table>\n",
       "</div>"
      ],
      "text/plain": [
       "income_range      1      2      3      4\n",
       "loyalty_flag                            \n",
       "loyal         20.56  27.33  25.49  26.63\n",
       "new           25.96  25.14  24.07  24.83\n",
       "regular       22.71  26.04  25.11  26.13"
      ]
     },
     "execution_count": 32,
     "metadata": {},
     "output_type": "execute_result"
    }
   ],
   "source": [
    "# remember this doesn't include customers with less than 5 orders\n",
    "# for loyal customers, highest percentage in high income bracket, lowest for lowest bracket\n",
    "pd.crosstab(customers['loyalty_flag'], customers['income_range']).apply(lambda r: round(r/r.sum()*100,2), axis=1)"
   ]
  },
  {
   "cell_type": "markdown",
   "id": "b5e8c7a4",
   "metadata": {},
   "source": [
    "#### 05) loyalty flag vs. frozen stuff"
   ]
  },
  {
   "cell_type": "code",
   "execution_count": 33,
   "id": "2713590d",
   "metadata": {},
   "outputs": [
    {
     "data": {
      "text/html": [
       "<div>\n",
       "<style scoped>\n",
       "    .dataframe tbody tr th:only-of-type {\n",
       "        vertical-align: middle;\n",
       "    }\n",
       "\n",
       "    .dataframe tbody tr th {\n",
       "        vertical-align: top;\n",
       "    }\n",
       "\n",
       "    .dataframe thead th {\n",
       "        text-align: right;\n",
       "    }\n",
       "</style>\n",
       "<table border=\"1\" class=\"dataframe\">\n",
       "  <thead>\n",
       "    <tr style=\"text-align: right;\">\n",
       "      <th>loyalty_flag</th>\n",
       "      <th>loyal</th>\n",
       "      <th>new</th>\n",
       "      <th>regular</th>\n",
       "    </tr>\n",
       "    <tr>\n",
       "      <th>frozen_stuff</th>\n",
       "      <th></th>\n",
       "      <th></th>\n",
       "      <th></th>\n",
       "    </tr>\n",
       "  </thead>\n",
       "  <tbody>\n",
       "    <tr>\n",
       "      <th>0</th>\n",
       "      <td>66.4</td>\n",
       "      <td>61.68</td>\n",
       "      <td>61.79</td>\n",
       "    </tr>\n",
       "    <tr>\n",
       "      <th>1</th>\n",
       "      <td>33.6</td>\n",
       "      <td>38.32</td>\n",
       "      <td>38.21</td>\n",
       "    </tr>\n",
       "  </tbody>\n",
       "</table>\n",
       "</div>"
      ],
      "text/plain": [
       "loyalty_flag  loyal    new  regular\n",
       "frozen_stuff                       \n",
       "0              66.4  61.68    61.79\n",
       "1              33.6  38.32    38.21"
      ]
     },
     "execution_count": 33,
     "metadata": {},
     "output_type": "execute_result"
    }
   ],
   "source": [
    "# loyal customers by less frozen stuff\n",
    "round(pd.crosstab(orders['frozen_stuff'], orders['loyalty_flag'], normalize='columns')*100, 2)"
   ]
  },
  {
   "cell_type": "markdown",
   "id": "e54801e2",
   "metadata": {},
   "source": [
    "#### 06) Common order day vs. loyalty_flag"
   ]
  },
  {
   "cell_type": "code",
   "execution_count": 34,
   "id": "287f0091",
   "metadata": {},
   "outputs": [],
   "source": [
    "# map the meaning of days 0-6 to days Sat-Fri\n",
    "days = pd.DataFrame(data={'days':['Sat', 'Sun', 'Mon', 'Tue', 'Wed', 'Thu', 'Fri']})"
   ]
  },
  {
   "cell_type": "code",
   "execution_count": 35,
   "id": "eea360cf",
   "metadata": {},
   "outputs": [
    {
     "data": {
      "text/plain": [
       "Text(0.5, 1.0, 'Histogram: Frequency of most common order days')"
      ]
     },
     "execution_count": 35,
     "metadata": {},
     "output_type": "execute_result"
    },
    {
     "data": {
      "image/png": "[encoded data removed]",
      "text/plain": [
       "<Figure size 432x288 with 1 Axes>"
      ]
     },
     "metadata": {
      "needs_background": "light"
     },
     "output_type": "display_data"
    }
   ],
   "source": [
    "hist_common_day = customers['common_order_day'].plot.hist(bins=7, color = sns.color_palette(\"muted\")[3])\n",
    "plt.xlabel('Days of the week')\n",
    "plt.ylabel('Count of customers')\n",
    "plt.title('Histogram: Frequency of most common order days')"
   ]
  },
  {
   "cell_type": "code",
   "execution_count": 36,
   "id": "d008350c",
   "metadata": {},
   "outputs": [
    {
     "data": {
      "text/html": [
       "<div>\n",
       "<style scoped>\n",
       "    .dataframe tbody tr th:only-of-type {\n",
       "        vertical-align: middle;\n",
       "    }\n",
       "\n",
       "    .dataframe tbody tr th {\n",
       "        vertical-align: top;\n",
       "    }\n",
       "\n",
       "    .dataframe thead th {\n",
       "        text-align: right;\n",
       "    }\n",
       "</style>\n",
       "<table border=\"1\" class=\"dataframe\">\n",
       "  <thead>\n",
       "    <tr style=\"text-align: right;\">\n",
       "      <th></th>\n",
       "      <th>loyal</th>\n",
       "      <th>new</th>\n",
       "      <th>regular</th>\n",
       "    </tr>\n",
       "    <tr>\n",
       "      <th>days</th>\n",
       "      <th></th>\n",
       "      <th></th>\n",
       "      <th></th>\n",
       "    </tr>\n",
       "  </thead>\n",
       "  <tbody>\n",
       "    <tr>\n",
       "      <th>Fri</th>\n",
       "      <td>10.61</td>\n",
       "      <td>9.96</td>\n",
       "      <td>11.51</td>\n",
       "    </tr>\n",
       "    <tr>\n",
       "      <th>Thu</th>\n",
       "      <td>11.05</td>\n",
       "      <td>8.50</td>\n",
       "      <td>9.04</td>\n",
       "    </tr>\n",
       "    <tr>\n",
       "      <th>Wed</th>\n",
       "      <td>8.24</td>\n",
       "      <td>8.05</td>\n",
       "      <td>7.72</td>\n",
       "    </tr>\n",
       "    <tr>\n",
       "      <th>Tue</th>\n",
       "      <td>8.81</td>\n",
       "      <td>9.64</td>\n",
       "      <td>8.99</td>\n",
       "    </tr>\n",
       "    <tr>\n",
       "      <th>Mon</th>\n",
       "      <td>10.79</td>\n",
       "      <td>12.44</td>\n",
       "      <td>11.29</td>\n",
       "    </tr>\n",
       "    <tr>\n",
       "      <th>Sun</th>\n",
       "      <td>25.78</td>\n",
       "      <td>20.77</td>\n",
       "      <td>21.98</td>\n",
       "    </tr>\n",
       "    <tr>\n",
       "      <th>Sat</th>\n",
       "      <td>24.72</td>\n",
       "      <td>30.63</td>\n",
       "      <td>29.46</td>\n",
       "    </tr>\n",
       "  </tbody>\n",
       "</table>\n",
       "</div>"
      ],
      "text/plain": [
       "      loyal    new  regular\n",
       "days                       \n",
       "Fri   10.61   9.96    11.51\n",
       "Thu   11.05   8.50     9.04\n",
       "Wed    8.24   8.05     7.72\n",
       "Tue    8.81   9.64     8.99\n",
       "Mon   10.79  12.44    11.29\n",
       "Sun   25.78  20.77    21.98\n",
       "Sat   24.72  30.63    29.46"
      ]
     },
     "execution_count": 36,
     "metadata": {},
     "output_type": "execute_result"
    }
   ],
   "source": [
    "x2 = round(pd.crosstab(customers['common_order_day'], customers['loyalty_flag'], normalize='columns')*100, 2)\n",
    "x2 = x2.sort_index(ascending=False)\n",
    "x2 = x2.merge(days, how='inner', left_index=True, right_index=True).set_index('days')\n",
    "x2"
   ]
  },
  {
   "cell_type": "code",
   "execution_count": 37,
   "id": "326046f3",
   "metadata": {},
   "outputs": [
    {
     "data": {
      "text/plain": [
       "Text(0, 0.5, '')"
      ]
     },
     "execution_count": 37,
     "metadata": {},
     "output_type": "execute_result"
    },
    {
     "data": {
      "image/png": "[encoded data removed]",
      "text/plain": [
       "<Figure size 432x288 with 1 Axes>"
      ]
     },
     "metadata": {
      "needs_background": "light"
     },
     "output_type": "display_data"
    }
   ],
   "source": [
    "bar_common_day_loyalty = x2.plot.barh(color = sns.color_palette(\"muted\")[1:4])\n",
    "plt.title('Common order day and loyalty status')\n",
    "plt.xlabel('Percentage of customers and their common order day')\n",
    "plt.ylabel('')"
   ]
  },
  {
   "cell_type": "markdown",
   "id": "a412259b",
   "metadata": {},
   "source": [
    "#### 07) common order day vs. income range"
   ]
  },
  {
   "cell_type": "code",
   "execution_count": 38,
   "id": "3b8a028f",
   "metadata": {},
   "outputs": [
    {
     "data": {
      "text/html": [
       "<div>\n",
       "<style scoped>\n",
       "    .dataframe tbody tr th:only-of-type {\n",
       "        vertical-align: middle;\n",
       "    }\n",
       "\n",
       "    .dataframe tbody tr th {\n",
       "        vertical-align: top;\n",
       "    }\n",
       "\n",
       "    .dataframe thead th {\n",
       "        text-align: right;\n",
       "    }\n",
       "</style>\n",
       "<table border=\"1\" class=\"dataframe\">\n",
       "  <thead>\n",
       "    <tr style=\"text-align: right;\">\n",
       "      <th></th>\n",
       "      <th>1</th>\n",
       "      <th>2</th>\n",
       "      <th>3</th>\n",
       "      <th>4</th>\n",
       "    </tr>\n",
       "    <tr>\n",
       "      <th>days</th>\n",
       "      <th></th>\n",
       "      <th></th>\n",
       "      <th></th>\n",
       "      <th></th>\n",
       "    </tr>\n",
       "  </thead>\n",
       "  <tbody>\n",
       "    <tr>\n",
       "      <th>Sat</th>\n",
       "      <td>20.36</td>\n",
       "      <td>27.06</td>\n",
       "      <td>25.73</td>\n",
       "      <td>26.85</td>\n",
       "    </tr>\n",
       "    <tr>\n",
       "      <th>Sun</th>\n",
       "      <td>25.93</td>\n",
       "      <td>25.34</td>\n",
       "      <td>23.99</td>\n",
       "      <td>24.74</td>\n",
       "    </tr>\n",
       "    <tr>\n",
       "      <th>Mon</th>\n",
       "      <td>26.30</td>\n",
       "      <td>24.99</td>\n",
       "      <td>24.02</td>\n",
       "      <td>24.69</td>\n",
       "    </tr>\n",
       "    <tr>\n",
       "      <th>Tue</th>\n",
       "      <td>26.26</td>\n",
       "      <td>24.86</td>\n",
       "      <td>24.30</td>\n",
       "      <td>24.58</td>\n",
       "    </tr>\n",
       "    <tr>\n",
       "      <th>Wed</th>\n",
       "      <td>26.36</td>\n",
       "      <td>24.56</td>\n",
       "      <td>23.92</td>\n",
       "      <td>25.15</td>\n",
       "    </tr>\n",
       "    <tr>\n",
       "      <th>Thu</th>\n",
       "      <td>25.34</td>\n",
       "      <td>25.72</td>\n",
       "      <td>23.90</td>\n",
       "      <td>25.04</td>\n",
       "    </tr>\n",
       "    <tr>\n",
       "      <th>Fri</th>\n",
       "      <td>21.43</td>\n",
       "      <td>25.91</td>\n",
       "      <td>25.74</td>\n",
       "      <td>26.92</td>\n",
       "    </tr>\n",
       "  </tbody>\n",
       "</table>\n",
       "</div>"
      ],
      "text/plain": [
       "          1      2      3      4\n",
       "days                            \n",
       "Sat   20.36  27.06  25.73  26.85\n",
       "Sun   25.93  25.34  23.99  24.74\n",
       "Mon   26.30  24.99  24.02  24.69\n",
       "Tue   26.26  24.86  24.30  24.58\n",
       "Wed   26.36  24.56  23.92  25.15\n",
       "Thu   25.34  25.72  23.90  25.04\n",
       "Fri   21.43  25.91  25.74  26.92"
      ]
     },
     "execution_count": 38,
     "metadata": {},
     "output_type": "execute_result"
    }
   ],
   "source": [
    "x3 = round(pd.crosstab(customers['common_order_day'], customers['income_range'], normalize='index')*100,2)\n",
    "x3 = x3.merge(days, how='inner', left_index=True, right_index=True).set_index('days')\n",
    "x3"
   ]
  },
  {
   "cell_type": "code",
   "execution_count": 39,
   "id": "cc9c9da9",
   "metadata": {
    "scrolled": true
   },
   "outputs": [
    {
     "data": {
      "text/plain": [
       "<matplotlib.legend.Legend at 0x7fdc0fe3b490>"
      ]
     },
     "execution_count": 39,
     "metadata": {},
     "output_type": "execute_result"
    },
    {
     "data": {
      "image/png": "[encoded data removed]",
      "text/plain": [
       "<Figure size 936x216 with 1 Axes>"
      ]
     },
     "metadata": {
      "needs_background": "light"
     },
     "output_type": "display_data"
    }
   ],
   "source": [
    "# lowest income folks (<$60k) are not purchasing at as high a rate on the busiest day, saturday\n",
    "bar_common_day_income = x3.loc[['Fri', 'Sat', 'Sun']].plot.barh(figsize=(13,3), color = sns.color_palette(\"muted\"))\n",
    "plt.xlabel(\"Percentage of customers' common order day\")\n",
    "plt.title('Common order day by income bracket')\n",
    "plt.ylabel('')\n",
    "plt.xlim([0,35])\n",
    "plt.legend(labels=['Up to $60k', 'Between \\$60k and \\$94k', 'Between \\$94k and \\$124k', 'Over $124k'])"
   ]
  },
  {
   "cell_type": "markdown",
   "id": "c812cb59",
   "metadata": {},
   "source": [
    "#### 08) pets and babies"
   ]
  },
  {
   "cell_type": "code",
   "execution_count": 40,
   "id": "ab5ce0f9",
   "metadata": {},
   "outputs": [
    {
     "data": {
      "text/html": [
       "<div>\n",
       "<style scoped>\n",
       "    .dataframe tbody tr th:only-of-type {\n",
       "        vertical-align: middle;\n",
       "    }\n",
       "\n",
       "    .dataframe tbody tr th {\n",
       "        vertical-align: top;\n",
       "    }\n",
       "\n",
       "    .dataframe thead th {\n",
       "        text-align: right;\n",
       "    }\n",
       "</style>\n",
       "<table border=\"1\" class=\"dataframe\">\n",
       "  <thead>\n",
       "    <tr style=\"text-align: right;\">\n",
       "      <th>pet_stuff</th>\n",
       "      <th>0</th>\n",
       "      <th>1</th>\n",
       "    </tr>\n",
       "    <tr>\n",
       "      <th>baby_stuff</th>\n",
       "      <th></th>\n",
       "      <th></th>\n",
       "    </tr>\n",
       "  </thead>\n",
       "  <tbody>\n",
       "    <tr>\n",
       "      <th>0</th>\n",
       "      <td>75.13</td>\n",
       "      <td>6.28</td>\n",
       "    </tr>\n",
       "    <tr>\n",
       "      <th>1</th>\n",
       "      <td>16.76</td>\n",
       "      <td>1.82</td>\n",
       "    </tr>\n",
       "  </tbody>\n",
       "</table>\n",
       "</div>"
      ],
      "text/plain": [
       "pet_stuff       0     1\n",
       "baby_stuff             \n",
       "0           75.13  6.28\n",
       "1           16.76  1.82"
      ]
     },
     "execution_count": 40,
     "metadata": {},
     "output_type": "execute_result"
    }
   ],
   "source": [
    "# less than 1% of all customers buy stuff for pets AND babies\n",
    "# vast majority don't buy pet stuff or baby stuff\n",
    "round(pd.crosstab(customers['baby_stuff'], customers['pet_stuff'], normalize=True)*100,2)"
   ]
  },
  {
   "cell_type": "markdown",
   "id": "394d0b39",
   "metadata": {},
   "source": [
    "#### 09) hours vs snacks/frozen"
   ]
  },
  {
   "cell_type": "code",
   "execution_count": 41,
   "id": "9238e29c",
   "metadata": {
    "scrolled": false
   },
   "outputs": [
    {
     "data": {
      "text/html": [
       "<div>\n",
       "<style scoped>\n",
       "    .dataframe tbody tr th:only-of-type {\n",
       "        vertical-align: middle;\n",
       "    }\n",
       "\n",
       "    .dataframe tbody tr th {\n",
       "        vertical-align: top;\n",
       "    }\n",
       "\n",
       "    .dataframe thead th {\n",
       "        text-align: right;\n",
       "    }\n",
       "</style>\n",
       "<table border=\"1\" class=\"dataframe\">\n",
       "  <thead>\n",
       "    <tr style=\"text-align: right;\">\n",
       "      <th>snacks</th>\n",
       "      <th>0</th>\n",
       "      <th>1</th>\n",
       "    </tr>\n",
       "    <tr>\n",
       "      <th>hour_range</th>\n",
       "      <th></th>\n",
       "      <th></th>\n",
       "    </tr>\n",
       "  </thead>\n",
       "  <tbody>\n",
       "    <tr>\n",
       "      <th>1</th>\n",
       "      <td>64.45</td>\n",
       "      <td>65.65</td>\n",
       "    </tr>\n",
       "    <tr>\n",
       "      <th>2</th>\n",
       "      <td>31.45</td>\n",
       "      <td>30.68</td>\n",
       "    </tr>\n",
       "    <tr>\n",
       "      <th>3</th>\n",
       "      <td>4.09</td>\n",
       "      <td>3.68</td>\n",
       "    </tr>\n",
       "  </tbody>\n",
       "</table>\n",
       "</div>"
      ],
      "text/plain": [
       "snacks          0      1\n",
       "hour_range              \n",
       "1           64.45  65.65\n",
       "2           31.45  30.68\n",
       "3            4.09   3.68"
      ]
     },
     "execution_count": 41,
     "metadata": {},
     "output_type": "execute_result"
    }
   ],
   "source": [
    "# snacks are bought during peak ordering hours more often than frozen stuff\n",
    "# frozen stuff is bought more often at off-peak times\n",
    "x_snacks = round(pd.crosstab(orders['hour_range'], orders['snacks'], normalize='columns')*100, 2)\n",
    "x_snacks"
   ]
  },
  {
   "cell_type": "code",
   "execution_count": 42,
   "id": "1df48dd0",
   "metadata": {},
   "outputs": [
    {
     "data": {
      "image/png": "[encoded data removed]",
      "text/plain": [
       "<Figure size 432x288 with 1 Axes>"
      ]
     },
     "metadata": {},
     "output_type": "display_data"
    }
   ],
   "source": [
    "pie_hours_snacks = x_snacks[1].plot.pie(labels=['peak', 'mid-busy', 'least busy'], autopct=('%1.0f%%'),\n",
    "                                        colors = sns.color_palette(\"muted\")[1:4], ylabel='',\n",
    "                                        wedgeprops={'linewidth': 2, 'edgecolor': 'white'}, \n",
    "                                        title='What times of day are snacks being purchased?')"
   ]
  },
  {
   "cell_type": "code",
   "execution_count": 43,
   "id": "e5f4e77f",
   "metadata": {},
   "outputs": [
    {
     "data": {
      "text/html": [
       "<div>\n",
       "<style scoped>\n",
       "    .dataframe tbody tr th:only-of-type {\n",
       "        vertical-align: middle;\n",
       "    }\n",
       "\n",
       "    .dataframe tbody tr th {\n",
       "        vertical-align: top;\n",
       "    }\n",
       "\n",
       "    .dataframe thead th {\n",
       "        text-align: right;\n",
       "    }\n",
       "</style>\n",
       "<table border=\"1\" class=\"dataframe\">\n",
       "  <thead>\n",
       "    <tr style=\"text-align: right;\">\n",
       "      <th>frozen_stuff</th>\n",
       "      <th>0</th>\n",
       "      <th>1</th>\n",
       "    </tr>\n",
       "    <tr>\n",
       "      <th>hour_range</th>\n",
       "      <th></th>\n",
       "      <th></th>\n",
       "    </tr>\n",
       "  </thead>\n",
       "  <tbody>\n",
       "    <tr>\n",
       "      <th>1</th>\n",
       "      <td>65.85</td>\n",
       "      <td>63.45</td>\n",
       "    </tr>\n",
       "    <tr>\n",
       "      <th>2</th>\n",
       "      <td>30.29</td>\n",
       "      <td>32.53</td>\n",
       "    </tr>\n",
       "    <tr>\n",
       "      <th>3</th>\n",
       "      <td>3.85</td>\n",
       "      <td>4.01</td>\n",
       "    </tr>\n",
       "  </tbody>\n",
       "</table>\n",
       "</div>"
      ],
      "text/plain": [
       "frozen_stuff      0      1\n",
       "hour_range                \n",
       "1             65.85  63.45\n",
       "2             30.29  32.53\n",
       "3              3.85   4.01"
      ]
     },
     "execution_count": 43,
     "metadata": {},
     "output_type": "execute_result"
    }
   ],
   "source": [
    "x_frozen = round(pd.crosstab(orders['hour_range'], orders['frozen_stuff'], normalize='columns')*100, 2)\n",
    "x_frozen"
   ]
  },
  {
   "cell_type": "code",
   "execution_count": 44,
   "id": "d83c5c77",
   "metadata": {},
   "outputs": [
    {
     "data": {
      "image/png": "[encoded data removed]",
      "text/plain": [
       "<Figure size 432x288 with 1 Axes>"
      ]
     },
     "metadata": {},
     "output_type": "display_data"
    }
   ],
   "source": [
    "#x_frozen[1].plot.pie(labels=['peak', 'mid-busy', 'least busy'], autopct=('%.2f'))\n",
    "\n",
    "pie_hours_frozen = x_frozen[1].plot.pie(labels=['peak', 'mid-busy', 'least busy'], autopct=('%1.0f%%'),\n",
    "                                        colors = sns.color_palette(\"muted\")[1:4], ylabel='',\n",
    "                                        wedgeprops={'linewidth': 2, 'edgecolor': 'white'}, \n",
    "                                        title='What times of day are frozen foods being purchased?')"
   ]
  },
  {
   "cell_type": "markdown",
   "id": "245e0e6f",
   "metadata": {},
   "source": [
    "#### 10) State vs. snacks"
   ]
  },
  {
   "cell_type": "code",
   "execution_count": 45,
   "id": "07184878",
   "metadata": {
    "scrolled": true
   },
   "outputs": [
    {
     "data": {
      "text/plain": [
       "Pennsylvania            0.020348\n",
       "New Mexico              0.020258\n",
       "Alabama                 0.020171\n",
       "Georgia                 0.020092\n",
       "California              0.020081\n",
       "North Carolina          0.020019\n",
       "Oklahoma                0.020013\n",
       "Minnesota               0.019991\n",
       "Colorado                0.019916\n",
       "Missouri                0.019913\n",
       "Washington              0.019858\n",
       "Texas                   0.019848\n",
       "Wyoming                 0.019841\n",
       "Alaska                  0.019833\n",
       "Maine                   0.019830\n",
       "Florida                 0.019811\n",
       "Massachusetts           0.019805\n",
       "Arizona                 0.019798\n",
       "Kansas                  0.019788\n",
       "Montana                 0.019749\n",
       "Delaware                0.019701\n",
       "South Dakota            0.019668\n",
       "Virginia                0.019626\n",
       "Oregon                  0.019592\n",
       "Rhode Island            0.019581\n",
       "Hawaii                  0.019563\n",
       "Connecticut             0.019557\n",
       "Wisconsin               0.019550\n",
       "North Dakota            0.019531\n",
       "Michigan                0.019499\n",
       "District of Columbia    0.019484\n",
       "Indiana                 0.019471\n",
       "Kentucky                0.019456\n",
       "South Carolina          0.019448\n",
       "Maryland                0.019436\n",
       "Arkansas                0.019421\n",
       "Nevada                  0.019380\n",
       "New York                0.019380\n",
       "Nebraska                0.019377\n",
       "Vermont                 0.019363\n",
       "Ohio                    0.019338\n",
       "Louisiana               0.019328\n",
       "Iowa                    0.019321\n",
       "Illinois                0.019283\n",
       "New Jersey              0.019278\n",
       "Tennessee               0.019258\n",
       "Mississippi             0.019221\n",
       "New Hampshire           0.019138\n",
       "Utah                    0.019132\n",
       "West Virginia           0.018978\n",
       "Idaho                   0.018677\n",
       "Name: state, dtype: float64"
      ]
     },
     "execution_count": 45,
     "metadata": {},
     "output_type": "execute_result"
    }
   ],
   "source": [
    "# orders are essentially evently split between all states (High: PA at 2.04%, Low: Idaho at 1.86%)\n",
    "orders['state'].value_counts(normalize=True).sort_values(ascending=False)"
   ]
  },
  {
   "cell_type": "code",
   "execution_count": 46,
   "id": "b15c5a0d",
   "metadata": {
    "scrolled": false
   },
   "outputs": [
    {
     "data": {
      "text/html": [
       "<div>\n",
       "<style scoped>\n",
       "    .dataframe tbody tr th:only-of-type {\n",
       "        vertical-align: middle;\n",
       "    }\n",
       "\n",
       "    .dataframe tbody tr th {\n",
       "        vertical-align: top;\n",
       "    }\n",
       "\n",
       "    .dataframe thead th {\n",
       "        text-align: right;\n",
       "    }\n",
       "</style>\n",
       "<table border=\"1\" class=\"dataframe\">\n",
       "  <thead>\n",
       "    <tr style=\"text-align: right;\">\n",
       "      <th>snacks</th>\n",
       "      <th>0</th>\n",
       "      <th>1</th>\n",
       "    </tr>\n",
       "    <tr>\n",
       "      <th>state</th>\n",
       "      <th></th>\n",
       "      <th></th>\n",
       "    </tr>\n",
       "  </thead>\n",
       "  <tbody>\n",
       "    <tr>\n",
       "      <th>Alabama</th>\n",
       "      <td>56.87</td>\n",
       "      <td>43.13</td>\n",
       "    </tr>\n",
       "    <tr>\n",
       "      <th>Alaska</th>\n",
       "      <td>56.63</td>\n",
       "      <td>43.37</td>\n",
       "    </tr>\n",
       "    <tr>\n",
       "      <th>Arizona</th>\n",
       "      <td>56.74</td>\n",
       "      <td>43.26</td>\n",
       "    </tr>\n",
       "    <tr>\n",
       "      <th>Arkansas</th>\n",
       "      <td>56.25</td>\n",
       "      <td>43.75</td>\n",
       "    </tr>\n",
       "    <tr>\n",
       "      <th>California</th>\n",
       "      <td>55.51</td>\n",
       "      <td>44.49</td>\n",
       "    </tr>\n",
       "  </tbody>\n",
       "</table>\n",
       "</div>"
      ],
      "text/plain": [
       "snacks          0      1\n",
       "state                   \n",
       "Alabama     56.87  43.13\n",
       "Alaska      56.63  43.37\n",
       "Arizona     56.74  43.26\n",
       "Arkansas    56.25  43.75\n",
       "California  55.51  44.49"
      ]
     },
     "execution_count": 46,
     "metadata": {},
     "output_type": "execute_result"
    }
   ],
   "source": [
    "x4 = round(pd.crosstab(orders['state'], orders['snacks'], normalize='index')*100, 2)\n",
    "x4.head()"
   ]
  },
  {
   "cell_type": "code",
   "execution_count": 47,
   "id": "597c19c4",
   "metadata": {},
   "outputs": [],
   "source": [
    "x4['difference'] = x4[0] - x4[1]"
   ]
  },
  {
   "cell_type": "code",
   "execution_count": 48,
   "id": "ba447b26",
   "metadata": {
    "scrolled": true
   },
   "outputs": [
    {
     "data": {
      "text/html": [
       "<div>\n",
       "<style scoped>\n",
       "    .dataframe tbody tr th:only-of-type {\n",
       "        vertical-align: middle;\n",
       "    }\n",
       "\n",
       "    .dataframe tbody tr th {\n",
       "        vertical-align: top;\n",
       "    }\n",
       "\n",
       "    .dataframe thead th {\n",
       "        text-align: right;\n",
       "    }\n",
       "</style>\n",
       "<table border=\"1\" class=\"dataframe\">\n",
       "  <thead>\n",
       "    <tr style=\"text-align: right;\">\n",
       "      <th>snacks</th>\n",
       "      <th>0</th>\n",
       "      <th>1</th>\n",
       "      <th>difference</th>\n",
       "    </tr>\n",
       "    <tr>\n",
       "      <th>state</th>\n",
       "      <th></th>\n",
       "      <th></th>\n",
       "      <th></th>\n",
       "    </tr>\n",
       "  </thead>\n",
       "  <tbody>\n",
       "    <tr>\n",
       "      <th>Rhode Island</th>\n",
       "      <td>55.09</td>\n",
       "      <td>44.91</td>\n",
       "      <td>10.18</td>\n",
       "    </tr>\n",
       "    <tr>\n",
       "      <th>New York</th>\n",
       "      <td>55.25</td>\n",
       "      <td>44.75</td>\n",
       "      <td>10.50</td>\n",
       "    </tr>\n",
       "    <tr>\n",
       "      <th>California</th>\n",
       "      <td>55.51</td>\n",
       "      <td>44.49</td>\n",
       "      <td>11.02</td>\n",
       "    </tr>\n",
       "    <tr>\n",
       "      <th>Oklahoma</th>\n",
       "      <td>55.52</td>\n",
       "      <td>44.48</td>\n",
       "      <td>11.04</td>\n",
       "    </tr>\n",
       "    <tr>\n",
       "      <th>Massachusetts</th>\n",
       "      <td>55.53</td>\n",
       "      <td>44.47</td>\n",
       "      <td>11.06</td>\n",
       "    </tr>\n",
       "  </tbody>\n",
       "</table>\n",
       "</div>"
      ],
      "text/plain": [
       "snacks             0      1  difference\n",
       "state                                  \n",
       "Rhode Island   55.09  44.91       10.18\n",
       "New York       55.25  44.75       10.50\n",
       "California     55.51  44.49       11.02\n",
       "Oklahoma       55.52  44.48       11.04\n",
       "Massachusetts  55.53  44.47       11.06"
      ]
     },
     "execution_count": 48,
     "metadata": {},
     "output_type": "execute_result"
    }
   ],
   "source": [
    "# more orders with snacks in Rhode Island!\n",
    "x4.sort_values(by='difference').head()"
   ]
  },
  {
   "cell_type": "code",
   "execution_count": 49,
   "id": "4f45b5fd",
   "metadata": {},
   "outputs": [
    {
     "data": {
      "text/html": [
       "<div>\n",
       "<style scoped>\n",
       "    .dataframe tbody tr th:only-of-type {\n",
       "        vertical-align: middle;\n",
       "    }\n",
       "\n",
       "    .dataframe tbody tr th {\n",
       "        vertical-align: top;\n",
       "    }\n",
       "\n",
       "    .dataframe thead th {\n",
       "        text-align: right;\n",
       "    }\n",
       "</style>\n",
       "<table border=\"1\" class=\"dataframe\">\n",
       "  <thead>\n",
       "    <tr style=\"text-align: right;\">\n",
       "      <th>snacks</th>\n",
       "      <th>0</th>\n",
       "      <th>1</th>\n",
       "      <th>difference</th>\n",
       "    </tr>\n",
       "    <tr>\n",
       "      <th>state</th>\n",
       "      <th></th>\n",
       "      <th></th>\n",
       "      <th></th>\n",
       "    </tr>\n",
       "  </thead>\n",
       "  <tbody>\n",
       "    <tr>\n",
       "      <th>Kentucky</th>\n",
       "      <td>57.48</td>\n",
       "      <td>42.52</td>\n",
       "      <td>14.96</td>\n",
       "    </tr>\n",
       "    <tr>\n",
       "      <th>Tennessee</th>\n",
       "      <td>57.54</td>\n",
       "      <td>42.46</td>\n",
       "      <td>15.08</td>\n",
       "    </tr>\n",
       "    <tr>\n",
       "      <th>Louisiana</th>\n",
       "      <td>57.66</td>\n",
       "      <td>42.34</td>\n",
       "      <td>15.32</td>\n",
       "    </tr>\n",
       "    <tr>\n",
       "      <th>Virginia</th>\n",
       "      <td>57.66</td>\n",
       "      <td>42.34</td>\n",
       "      <td>15.32</td>\n",
       "    </tr>\n",
       "    <tr>\n",
       "      <th>Wisconsin</th>\n",
       "      <td>57.66</td>\n",
       "      <td>42.34</td>\n",
       "      <td>15.32</td>\n",
       "    </tr>\n",
       "  </tbody>\n",
       "</table>\n",
       "</div>"
      ],
      "text/plain": [
       "snacks         0      1  difference\n",
       "state                              \n",
       "Kentucky   57.48  42.52       14.96\n",
       "Tennessee  57.54  42.46       15.08\n",
       "Louisiana  57.66  42.34       15.32\n",
       "Virginia   57.66  42.34       15.32\n",
       "Wisconsin  57.66  42.34       15.32"
      ]
     },
     "execution_count": 49,
     "metadata": {},
     "output_type": "execute_result"
    }
   ],
   "source": [
    "# less orders with snacks in Wisconsin!\n",
    "x4.sort_values(by='difference').tail()"
   ]
  },
  {
   "cell_type": "markdown",
   "id": "80ffaa68",
   "metadata": {},
   "source": [
    "#### 11) total spend and state average order cost"
   ]
  },
  {
   "cell_type": "code",
   "execution_count": 50,
   "id": "93793496",
   "metadata": {
    "scrolled": true
   },
   "outputs": [
    {
     "name": "stderr",
     "output_type": "stream",
     "text": [
      "/var/folders/k5/g_rc3lgx7x9d6wvbtl981b340000gn/T/ipykernel_2457/3460079298.py:1: SettingWithCopyWarning: \n",
      "A value is trying to be set on a copy of a slice from a DataFrame.\n",
      "Try using .loc[row_indexer,col_indexer] = value instead\n",
      "\n",
      "See the caveats in the documentation: https://pandas.pydata.org/pandas-docs/stable/user_guide/indexing.html#returning-a-view-versus-a-copy\n",
      "  customers['avg_order_cost'] = customers['avg_order_cost'].astype('float32')\n"
     ]
    }
   ],
   "source": [
    "customers['avg_order_cost'] = customers['avg_order_cost'].astype('float32')"
   ]
  },
  {
   "cell_type": "code",
   "execution_count": 51,
   "id": "38c4d40c",
   "metadata": {},
   "outputs": [
    {
     "name": "stderr",
     "output_type": "stream",
     "text": [
      "/var/folders/k5/g_rc3lgx7x9d6wvbtl981b340000gn/T/ipykernel_2457/3022431776.py:1: SettingWithCopyWarning: \n",
      "A value is trying to be set on a copy of a slice from a DataFrame.\n",
      "Try using .loc[row_indexer,col_indexer] = value instead\n",
      "\n",
      "See the caveats in the documentation: https://pandas.pydata.org/pandas-docs/stable/user_guide/indexing.html#returning-a-view-versus-a-copy\n",
      "  customers['lifetime_spend'] = customers['max_order']*customers['avg_order_cost']\n"
     ]
    }
   ],
   "source": [
    "customers['lifetime_spend'] = customers['max_order']*customers['avg_order_cost']"
   ]
  },
  {
   "cell_type": "code",
   "execution_count": 52,
   "id": "7dc3e35c",
   "metadata": {},
   "outputs": [
    {
     "data": {
      "text/html": [
       "<div>\n",
       "<style scoped>\n",
       "    .dataframe tbody tr th:only-of-type {\n",
       "        vertical-align: middle;\n",
       "    }\n",
       "\n",
       "    .dataframe tbody tr th {\n",
       "        vertical-align: top;\n",
       "    }\n",
       "\n",
       "    .dataframe thead th {\n",
       "        text-align: right;\n",
       "    }\n",
       "</style>\n",
       "<table border=\"1\" class=\"dataframe\">\n",
       "  <thead>\n",
       "    <tr style=\"text-align: right;\">\n",
       "      <th></th>\n",
       "      <th>lifetime_spend</th>\n",
       "      <th>max_order</th>\n",
       "    </tr>\n",
       "    <tr>\n",
       "      <th>state</th>\n",
       "      <th></th>\n",
       "      <th></th>\n",
       "    </tr>\n",
       "  </thead>\n",
       "  <tbody>\n",
       "    <tr>\n",
       "      <th>Pennsylvania</th>\n",
       "      <td>4980744.5</td>\n",
       "      <td>62357.0</td>\n",
       "    </tr>\n",
       "    <tr>\n",
       "      <th>New Mexico</th>\n",
       "      <td>4881723.0</td>\n",
       "      <td>62082.0</td>\n",
       "    </tr>\n",
       "    <tr>\n",
       "      <th>Alabama</th>\n",
       "      <td>4749059.5</td>\n",
       "      <td>61816.0</td>\n",
       "    </tr>\n",
       "    <tr>\n",
       "      <th>Georgia</th>\n",
       "      <td>4894275.5</td>\n",
       "      <td>61573.0</td>\n",
       "    </tr>\n",
       "    <tr>\n",
       "      <th>California</th>\n",
       "      <td>4901805.0</td>\n",
       "      <td>61538.0</td>\n",
       "    </tr>\n",
       "  </tbody>\n",
       "</table>\n",
       "</div>"
      ],
      "text/plain": [
       "              lifetime_spend  max_order\n",
       "state                                  \n",
       "Pennsylvania       4980744.5    62357.0\n",
       "New Mexico         4881723.0    62082.0\n",
       "Alabama            4749059.5    61816.0\n",
       "Georgia            4894275.5    61573.0\n",
       "California         4901805.0    61538.0"
      ]
     },
     "execution_count": 52,
     "metadata": {},
     "output_type": "execute_result"
    }
   ],
   "source": [
    "x5 = (customers.groupby(['state']).agg({'lifetime_spend': 'sum', 'max_order': 'sum'}).sort_values(by='max_order', ascending=False))\n",
    "x5.head()"
   ]
  },
  {
   "cell_type": "code",
   "execution_count": 53,
   "id": "2b2c8e11",
   "metadata": {},
   "outputs": [],
   "source": [
    "x5['state_order_avg'] = x5['lifetime_spend'] / x5['max_order']"
   ]
  },
  {
   "cell_type": "code",
   "execution_count": 54,
   "id": "d9d4a480",
   "metadata": {},
   "outputs": [
    {
     "data": {
      "text/html": [
       "<div>\n",
       "<style scoped>\n",
       "    .dataframe tbody tr th:only-of-type {\n",
       "        vertical-align: middle;\n",
       "    }\n",
       "\n",
       "    .dataframe tbody tr th {\n",
       "        vertical-align: top;\n",
       "    }\n",
       "\n",
       "    .dataframe thead th {\n",
       "        text-align: right;\n",
       "    }\n",
       "</style>\n",
       "<table border=\"1\" class=\"dataframe\">\n",
       "  <thead>\n",
       "    <tr style=\"text-align: right;\">\n",
       "      <th></th>\n",
       "      <th>lifetime_spend</th>\n",
       "      <th>max_order</th>\n",
       "      <th>state_order_avg</th>\n",
       "    </tr>\n",
       "    <tr>\n",
       "      <th>state</th>\n",
       "      <th></th>\n",
       "      <th></th>\n",
       "      <th></th>\n",
       "    </tr>\n",
       "  </thead>\n",
       "  <tbody>\n",
       "    <tr>\n",
       "      <th>Rhode Island</th>\n",
       "      <td>4888073.0</td>\n",
       "      <td>60008.0</td>\n",
       "      <td>81.457022</td>\n",
       "    </tr>\n",
       "    <tr>\n",
       "      <th>Arizona</th>\n",
       "      <td>4876975.5</td>\n",
       "      <td>60672.0</td>\n",
       "      <td>80.382639</td>\n",
       "    </tr>\n",
       "    <tr>\n",
       "      <th>Louisiana</th>\n",
       "      <td>4754881.0</td>\n",
       "      <td>59231.0</td>\n",
       "      <td>80.276899</td>\n",
       "    </tr>\n",
       "    <tr>\n",
       "      <th>South Carolina</th>\n",
       "      <td>4763091.0</td>\n",
       "      <td>59600.0</td>\n",
       "      <td>79.917634</td>\n",
       "    </tr>\n",
       "    <tr>\n",
       "      <th>Mississippi</th>\n",
       "      <td>4707366.5</td>\n",
       "      <td>58905.0</td>\n",
       "      <td>79.914549</td>\n",
       "    </tr>\n",
       "  </tbody>\n",
       "</table>\n",
       "</div>"
      ],
      "text/plain": [
       "                lifetime_spend  max_order  state_order_avg\n",
       "state                                                     \n",
       "Rhode Island         4888073.0    60008.0        81.457022\n",
       "Arizona              4876975.5    60672.0        80.382639\n",
       "Louisiana            4754881.0    59231.0        80.276899\n",
       "South Carolina       4763091.0    59600.0        79.917634\n",
       "Mississippi          4707366.5    58905.0        79.914549"
      ]
     },
     "execution_count": 54,
     "metadata": {},
     "output_type": "execute_result"
    }
   ],
   "source": [
    "# Rhode Island has the highest order average\n",
    "x5.sort_values(by='state_order_avg', ascending=False).head()"
   ]
  },
  {
   "cell_type": "code",
   "execution_count": 55,
   "id": "3b4a4256",
   "metadata": {},
   "outputs": [
    {
     "data": {
      "text/html": [
       "<div>\n",
       "<style scoped>\n",
       "    .dataframe tbody tr th:only-of-type {\n",
       "        vertical-align: middle;\n",
       "    }\n",
       "\n",
       "    .dataframe tbody tr th {\n",
       "        vertical-align: top;\n",
       "    }\n",
       "\n",
       "    .dataframe thead th {\n",
       "        text-align: right;\n",
       "    }\n",
       "</style>\n",
       "<table border=\"1\" class=\"dataframe\">\n",
       "  <thead>\n",
       "    <tr style=\"text-align: right;\">\n",
       "      <th></th>\n",
       "      <th>lifetime_spend</th>\n",
       "      <th>max_order</th>\n",
       "      <th>state_order_avg</th>\n",
       "    </tr>\n",
       "    <tr>\n",
       "      <th>state</th>\n",
       "      <th></th>\n",
       "      <th></th>\n",
       "      <th></th>\n",
       "    </tr>\n",
       "  </thead>\n",
       "  <tbody>\n",
       "    <tr>\n",
       "      <th>Florida</th>\n",
       "      <td>4699054.5</td>\n",
       "      <td>60711.0</td>\n",
       "      <td>77.400380</td>\n",
       "    </tr>\n",
       "    <tr>\n",
       "      <th>Washington</th>\n",
       "      <td>4701139.0</td>\n",
       "      <td>60855.0</td>\n",
       "      <td>77.251483</td>\n",
       "    </tr>\n",
       "    <tr>\n",
       "      <th>Alabama</th>\n",
       "      <td>4749059.5</td>\n",
       "      <td>61816.0</td>\n",
       "      <td>76.825733</td>\n",
       "    </tr>\n",
       "    <tr>\n",
       "      <th>Vermont</th>\n",
       "      <td>4544969.0</td>\n",
       "      <td>59340.0</td>\n",
       "      <td>76.591995</td>\n",
       "    </tr>\n",
       "    <tr>\n",
       "      <th>District of Columbia</th>\n",
       "      <td>4571436.0</td>\n",
       "      <td>59711.0</td>\n",
       "      <td>76.559361</td>\n",
       "    </tr>\n",
       "  </tbody>\n",
       "</table>\n",
       "</div>"
      ],
      "text/plain": [
       "                      lifetime_spend  max_order  state_order_avg\n",
       "state                                                           \n",
       "Florida                    4699054.5    60711.0        77.400380\n",
       "Washington                 4701139.0    60855.0        77.251483\n",
       "Alabama                    4749059.5    61816.0        76.825733\n",
       "Vermont                    4544969.0    59340.0        76.591995\n",
       "District of Columbia       4571436.0    59711.0        76.559361"
      ]
     },
     "execution_count": 55,
     "metadata": {},
     "output_type": "execute_result"
    }
   ],
   "source": [
    "# Alabama has the lowest order average\n",
    "x5.sort_values(by='state_order_avg', ascending=False).tail()"
   ]
  },
  {
   "cell_type": "markdown",
   "id": "f4ee4f41",
   "metadata": {},
   "source": [
    "#### 12) Age range vs income_range"
   ]
  },
  {
   "cell_type": "code",
   "execution_count": 56,
   "id": "9406d2ca",
   "metadata": {},
   "outputs": [
    {
     "data": {
      "text/html": [
       "<div>\n",
       "<style scoped>\n",
       "    .dataframe tbody tr th:only-of-type {\n",
       "        vertical-align: middle;\n",
       "    }\n",
       "\n",
       "    .dataframe tbody tr th {\n",
       "        vertical-align: top;\n",
       "    }\n",
       "\n",
       "    .dataframe thead th {\n",
       "        text-align: right;\n",
       "    }\n",
       "</style>\n",
       "<table border=\"1\" class=\"dataframe\">\n",
       "  <thead>\n",
       "    <tr style=\"text-align: right;\">\n",
       "      <th>age_range</th>\n",
       "      <th>1</th>\n",
       "      <th>2</th>\n",
       "      <th>3</th>\n",
       "      <th>4</th>\n",
       "    </tr>\n",
       "    <tr>\n",
       "      <th>income_range</th>\n",
       "      <th></th>\n",
       "      <th></th>\n",
       "      <th></th>\n",
       "      <th></th>\n",
       "    </tr>\n",
       "  </thead>\n",
       "  <tbody>\n",
       "    <tr>\n",
       "      <th>1</th>\n",
       "      <td>40.77</td>\n",
       "      <td>24.24</td>\n",
       "      <td>16.53</td>\n",
       "      <td>18.46</td>\n",
       "    </tr>\n",
       "    <tr>\n",
       "      <th>2</th>\n",
       "      <td>53.91</td>\n",
       "      <td>24.79</td>\n",
       "      <td>9.97</td>\n",
       "      <td>11.32</td>\n",
       "    </tr>\n",
       "    <tr>\n",
       "      <th>3</th>\n",
       "      <td>10.86</td>\n",
       "      <td>22.58</td>\n",
       "      <td>31.04</td>\n",
       "      <td>35.52</td>\n",
       "    </tr>\n",
       "    <tr>\n",
       "      <th>4</th>\n",
       "      <td>0.83</td>\n",
       "      <td>22.37</td>\n",
       "      <td>35.87</td>\n",
       "      <td>40.92</td>\n",
       "    </tr>\n",
       "  </tbody>\n",
       "</table>\n",
       "</div>"
      ],
      "text/plain": [
       "age_range         1      2      3      4\n",
       "income_range                            \n",
       "1             40.77  24.24  16.53  18.46\n",
       "2             53.91  24.79   9.97  11.32\n",
       "3             10.86  22.58  31.04  35.52\n",
       "4              0.83  22.37  35.87  40.92"
      ]
     },
     "execution_count": 56,
     "metadata": {},
     "output_type": "execute_result"
    }
   ],
   "source": [
    "data = round(pd.crosstab(customers['income_range'], customers['age_range'], normalize='index')*100, 2)\n",
    "data"
   ]
  },
  {
   "cell_type": "code",
   "execution_count": 57,
   "id": "f0b2bd2e",
   "metadata": {},
   "outputs": [
    {
     "data": {
      "text/plain": [
       "<matplotlib.legend.Legend at 0x7fdc110daf40>"
      ]
     },
     "execution_count": 57,
     "metadata": {},
     "output_type": "execute_result"
    },
    {
     "data": {
      "image/png": "[encoded data removed]",
      "text/plain": [
       "<Figure size 720x216 with 1 Axes>"
      ]
     },
     "metadata": {
      "needs_background": "light"
     },
     "output_type": "display_data"
    }
   ],
   "source": [
    "# older people make more money\n",
    "data = round(pd.crosstab(customers['income_range'], customers['age_range'], normalize='index')*100, 2)\n",
    "bar_age_income = data.plot.barh(color = sns.color_palette(\"muted\"), figsize=(10,3),\n",
    "                                title='Comparing age and income bracket of Instacart customers')\n",
    "plt.yticks([0,1,2,3], labels=['Up to $60k', 'Between \\$60k and \\$94k', 'Between \\$94k and \\$124k', 'Over $124k'])\n",
    "plt.ylabel('')\n",
    "plt.legend(['Under 35','Between 35 and 50','Between 50 and 65','Over 65'])"
   ]
  },
  {
   "cell_type": "code",
   "execution_count": 58,
   "id": "11ea561c",
   "metadata": {},
   "outputs": [
    {
     "data": {
      "text/plain": [
       "([<matplotlib.axis.YTick at 0x7fdc111e2dc0>,\n",
       "  <matplotlib.axis.YTick at 0x7fdc111e2640>,\n",
       "  <matplotlib.axis.YTick at 0x7fdc111e2910>],\n",
       " [Text(0, 0, 'Over 40 orders'),\n",
       "  Text(0, 1, 'Less than 10 orders'),\n",
       "  Text(0, 2, 'Between 10 and 40 orders')])"
      ]
     },
     "execution_count": 58,
     "metadata": {},
     "output_type": "execute_result"
    },
    {
     "data": {
      "image/png": "[encoded data removed]",
      "text/plain": [
       "<Figure size 432x288 with 1 Axes>"
      ]
     },
     "metadata": {
      "needs_background": "light"
     },
     "output_type": "display_data"
    }
   ],
   "source": [
    "# but the loyalty is spread out evenly among age ranges\n",
    "data = round(pd.crosstab(customers['loyalty_flag'], customers['age_range'], normalize='columns')*100, 2)\n",
    "bar_age_loyalty = data.plot.barh(color = sns.color_palette(\"muted\"), \n",
    "                                 title='Comparing age and loyalty status of Instacart customers')\n",
    "plt.legend(['Under 35','Between 35 and 50','Between 50 and 65','Over 65'])\n",
    "plt.ylabel('')\n",
    "plt.xlabel('Percentage of customers within each loyalty status')\n",
    "plt.yticks([0,1,2],labels =['Over 40 orders', 'Less than 10 orders', 'Between 10 and 40 orders'])"
   ]
  },
  {
   "cell_type": "markdown",
   "id": "a6461139",
   "metadata": {},
   "source": [
    "## Export all the figures!"
   ]
  },
  {
   "cell_type": "code",
   "execution_count": 59,
   "id": "09c03169",
   "metadata": {},
   "outputs": [],
   "source": [
    "bar_dow.figure.savefig(os.path.join(path, '04 Analysis', 'Visualizations', 'bar_dow.png'))"
   ]
  },
  {
   "cell_type": "code",
   "execution_count": 60,
   "id": "dcd0c933",
   "metadata": {},
   "outputs": [],
   "source": [
    "bar_orders_hour.figure.savefig(os.path.join(path, '04 Analysis', 'Visualizations', 'bar_orders_hour.png'))"
   ]
  },
  {
   "cell_type": "code",
   "execution_count": 77,
   "id": "d1db5d45",
   "metadata": {},
   "outputs": [],
   "source": [
    "bar_cost_hours.figure.savefig(os.path.join(path, '04 Analysis', 'Visualizations', 'bar_cost_hours.png'))"
   ]
  },
  {
   "cell_type": "code",
   "execution_count": 62,
   "id": "b7994f7a",
   "metadata": {
    "scrolled": true
   },
   "outputs": [],
   "source": [
    "pie_loyalty_customers.figure.savefig(os.path.join(path, '04 Analysis', 'Visualizations', 'pie_loyalty_customers.png'))"
   ]
  },
  {
   "cell_type": "code",
   "execution_count": 63,
   "id": "d7f4b604",
   "metadata": {},
   "outputs": [],
   "source": [
    "hist_prices.figure.savefig(os.path.join(path, '04 Analysis', 'Visualizations', 'hist_prices.png'))"
   ]
  },
  {
   "cell_type": "code",
   "execution_count": 64,
   "id": "18cafea6",
   "metadata": {
    "scrolled": true
   },
   "outputs": [],
   "source": [
    "pie_price_1.figure.savefig(os.path.join(path, '04 Analysis', 'Visualizations', 'pie_price_1.png'))"
   ]
  },
  {
   "cell_type": "code",
   "execution_count": 81,
   "id": "947e7812",
   "metadata": {
    "scrolled": true
   },
   "outputs": [],
   "source": [
    "pie_price_2.figure.savefig(os.path.join(path, '04 Analysis', 'Visualizations', 'pie_price_2.png'))"
   ]
  },
  {
   "cell_type": "code",
   "execution_count": 66,
   "id": "016bd571",
   "metadata": {},
   "outputs": [],
   "source": [
    "bar_products_1.figure.savefig(os.path.join(path, '04 Analysis', 'Visualizations', 'bar_products_1.png'))"
   ]
  },
  {
   "cell_type": "code",
   "execution_count": 67,
   "id": "0037e507",
   "metadata": {},
   "outputs": [],
   "source": [
    "bar_products_2.figure.savefig(os.path.join(path, '04 Analysis', 'Visualizations', 'bar_products_2.png'))"
   ]
  },
  {
   "cell_type": "code",
   "execution_count": 68,
   "id": "618d4aa5",
   "metadata": {},
   "outputs": [],
   "source": [
    "hist_common_day.figure.savefig(os.path.join(path, '04 Analysis', 'Visualizations', 'hist_common_day.png'))"
   ]
  },
  {
   "cell_type": "code",
   "execution_count": 69,
   "id": "9fb5f752",
   "metadata": {},
   "outputs": [],
   "source": [
    "pie_loyalty_orders.figure.savefig(os.path.join(path, '04 Analysis', 'Visualizations', 'pie_loyalty_orders.png'))"
   ]
  },
  {
   "cell_type": "code",
   "execution_count": 70,
   "id": "4d49b338",
   "metadata": {},
   "outputs": [],
   "source": [
    "hist_median_days.figure.savefig(os.path.join(path, '04 Analysis', 'Visualizations', 'hist_median_days.png'))"
   ]
  },
  {
   "cell_type": "code",
   "execution_count": 71,
   "id": "7d6346c7",
   "metadata": {
    "scrolled": true
   },
   "outputs": [],
   "source": [
    "pie_days_loyal.figure.savefig(os.path.join(path, '04 Analysis', 'Visualizations', 'pie_days_loyal.png'))"
   ]
  },
  {
   "cell_type": "code",
   "execution_count": 72,
   "id": "c16dece1",
   "metadata": {},
   "outputs": [],
   "source": [
    "pie_days_regular.figure.savefig(os.path.join(path, '04 Analysis', 'Visualizations', 'pie_days_regular.png'))"
   ]
  },
  {
   "cell_type": "code",
   "execution_count": 73,
   "id": "dfb18cc6",
   "metadata": {},
   "outputs": [],
   "source": [
    "pie_days_new.figure.savefig(os.path.join(path, '04 Analysis', 'Visualizations', 'pie_days_new.png'))"
   ]
  },
  {
   "cell_type": "code",
   "execution_count": 74,
   "id": "ba7bc22b",
   "metadata": {},
   "outputs": [
    {
     "name": "stdout",
     "output_type": "stream",
     "text": [
      "CPU times: user 419 ms, sys: 34.1 ms, total: 454 ms\n",
      "Wall time: 535 ms\n"
     ]
    }
   ],
   "source": [
    "%%time\n",
    "bar_common_day_loyalty.figure.savefig(os.path.join(path, '04 Analysis', 'Visualizations', 'bar_common_day_loyalty.png'))\n",
    "pie_hours_snacks.figure.savefig(os.path.join(path, '04 Analysis', 'Visualizations', 'pie_hours_snacks.png'))\n",
    "pie_hours_frozen.figure.savefig(os.path.join(path, '04 Analysis', 'Visualizations', 'pie_hours_frozen.png'))\n",
    "bar_age_income.figure.savefig(os.path.join(path, '04 Analysis', 'Visualizations', 'bar_age_income.png'))\n",
    "bar_age_loyalty.figure.savefig(os.path.join(path, '04 Analysis', 'Visualizations', 'bar_age_loyalty.png'))"
   ]
  },
  {
   "cell_type": "code",
   "execution_count": 75,
   "id": "2da28316",
   "metadata": {},
   "outputs": [],
   "source": [
    "bar_common_day_income.figure.savefig(os.path.join(path, '04 Analysis', 'Visualizations', 'bar_common_day_income.png'))"
   ]
  }
 ],
 "metadata": {
  "kernelspec": {
   "display_name": "Python 3 (ipykernel)",
   "language": "python",
   "name": "python3"
  },
  "language_info": {
   "codemirror_mode": {
    "name": "ipython",
    "version": 3
   },
   "file_extension": ".py",
   "mimetype": "text/x-python",
   "name": "python",
   "nbconvert_exporter": "python",
   "pygments_lexer": "ipython3",
   "version": "3.9.12"
  },
  "varInspector": {
   "cols": {
    "lenName": 16,
    "lenType": 16,
    "lenVar": 40
   },
   "kernels_config": {
    "python": {
     "delete_cmd_postfix": "",
     "delete_cmd_prefix": "del ",
     "library": "var_list.py",
     "varRefreshCmd": "print(var_dic_list())"
    },
    "r": {
     "delete_cmd_postfix": ") ",
     "delete_cmd_prefix": "rm(",
     "library": "var_list.r",
     "varRefreshCmd": "cat(var_dic_list()) "
    }
   },
   "types_to_exclude": [
    "module",
    "function",
    "builtin_function_or_method",
    "instance",
    "_Feature"
   ],
   "window_display": false
  }
 },
 "nbformat": 4,
 "nbformat_minor": 5
}
