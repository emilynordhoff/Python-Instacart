{
 "cells": [
  {
   "cell_type": "markdown",
   "id": "64dd8b41",
   "metadata": {},
   "source": [
    "### Contents:\n",
    "    01 Importing libraries and data\n",
    "    02 Define df and functions\n",
    "    03 Derive new variables\n",
    "        a practice with a subset\n",
    "        b using whole dataframe\n",
    "    04 Deriving more variables\n",
    "        a derive using a function\n",
    "        b value_counts from derivation\n",
    "        c derive again\n",
    "        d value_counts post derivation\n",
    "    05 Exporting"
   ]
  },
  {
   "cell_type": "markdown",
   "id": "958bfa18",
   "metadata": {},
   "source": [
    "# Exercise 4.7"
   ]
  },
  {
   "cell_type": "markdown",
   "id": "89c2db67",
   "metadata": {},
   "source": [
    "## 01 Importing libraries and data"
   ]
  },
  {
   "cell_type": "code",
   "execution_count": 1,
   "id": "083dfd0d",
   "metadata": {},
   "outputs": [],
   "source": [
    "import pandas as pd\n",
    "import numpy as np\n",
    "import os"
   ]
  },
  {
   "cell_type": "code",
   "execution_count": 2,
   "id": "492aaeea",
   "metadata": {},
   "outputs": [],
   "source": [
    "path = r'/Users/Emily/Documents/CF Data Analysis Program/Immersion 4/Instacart Basket Analysis'"
   ]
  },
  {
   "cell_type": "code",
   "execution_count": 3,
   "id": "7aeba3c9",
   "metadata": {},
   "outputs": [],
   "source": [
    "ords_prods = pd.read_pickle(os.path.join(path, '02 Data', 'prepared data', 'orders_products_merged.pkl'))"
   ]
  },
  {
   "cell_type": "markdown",
   "id": "65d8a263",
   "metadata": {},
   "source": [
    "## 02 Define dfs and functions"
   ]
  },
  {
   "cell_type": "code",
   "execution_count": 5,
   "id": "ded79a43",
   "metadata": {},
   "outputs": [],
   "source": [
    "df = ords_prods[:1000000]"
   ]
  },
  {
   "cell_type": "code",
   "execution_count": 6,
   "id": "541be59b",
   "metadata": {},
   "outputs": [],
   "source": [
    "# user-defined function to identify ranges of prices per product\n",
    "\n",
    "def price_label(row):\n",
    "\n",
    "  if row['prices'] <= 5:\n",
    "    return 'Low-range'\n",
    "  elif (row['prices'] > 5) and (row['prices'] <= 15):\n",
    "    return 'Mid-range'\n",
    "  elif row['prices'] > 15:\n",
    "    return 'High range'\n",
    "  else: return 'Not enough data'"
   ]
  },
  {
   "cell_type": "markdown",
   "id": "26075202",
   "metadata": {},
   "source": [
    "## 03 Derive new variables!"
   ]
  },
  {
   "cell_type": "markdown",
   "id": "4ce614d4",
   "metadata": {},
   "source": [
    "### a) first, with the subset of 1M rows"
   ]
  },
  {
   "cell_type": "code",
   "execution_count": 7,
   "id": "ce0a2c86",
   "metadata": {},
   "outputs": [
    {
     "name": "stderr",
     "output_type": "stream",
     "text": [
      "/var/folders/k5/g_rc3lgx7x9d6wvbtl981b340000gn/T/ipykernel_57864/1771493965.py:2: SettingWithCopyWarning: \n",
      "A value is trying to be set on a copy of a slice from a DataFrame.\n",
      "Try using .loc[row_indexer,col_indexer] = value instead\n",
      "\n",
      "See the caveats in the documentation: https://pandas.pydata.org/pandas-docs/stable/user_guide/indexing.html#returning-a-view-versus-a-copy\n",
      "  df['price_range'] = df.apply(price_label, axis=1)\n"
     ]
    }
   ],
   "source": [
    "# apply the user-defined function across all rows (axis = 1)\n",
    "df['price_range'] = df.apply(price_label, axis=1)"
   ]
  },
  {
   "cell_type": "code",
   "execution_count": 8,
   "id": "d1c7ef15",
   "metadata": {},
   "outputs": [
    {
     "data": {
      "text/plain": [
       "Mid-range    756450\n",
       "Low-range    243550\n",
       "Name: price_range, dtype: int64"
      ]
     },
     "execution_count": 8,
     "metadata": {},
     "output_type": "execute_result"
    }
   ],
   "source": [
    "# check to see what values it added to the new column\n",
    "df['price_range'].value_counts(dropna = False)"
   ]
  },
  {
   "cell_type": "code",
   "execution_count": 9,
   "id": "45149849",
   "metadata": {},
   "outputs": [
    {
     "data": {
      "text/plain": [
       "14.8"
      ]
     },
     "execution_count": 9,
     "metadata": {},
     "output_type": "execute_result"
    }
   ],
   "source": [
    "# no high-range priced products in the subset\n",
    "df['prices'].max()"
   ]
  },
  {
   "cell_type": "code",
   "execution_count": 10,
   "id": "747feab7",
   "metadata": {},
   "outputs": [
    {
     "data": {
      "text/html": [
       "<div>\n",
       "<style scoped>\n",
       "    .dataframe tbody tr th:only-of-type {\n",
       "        vertical-align: middle;\n",
       "    }\n",
       "\n",
       "    .dataframe tbody tr th {\n",
       "        vertical-align: top;\n",
       "    }\n",
       "\n",
       "    .dataframe thead th {\n",
       "        text-align: right;\n",
       "    }\n",
       "</style>\n",
       "<table border=\"1\" class=\"dataframe\">\n",
       "  <thead>\n",
       "    <tr style=\"text-align: right;\">\n",
       "      <th></th>\n",
       "      <th>prices</th>\n",
       "    </tr>\n",
       "  </thead>\n",
       "  <tbody>\n",
       "    <tr>\n",
       "      <th>0</th>\n",
       "      <td>9.0</td>\n",
       "    </tr>\n",
       "    <tr>\n",
       "      <th>1</th>\n",
       "      <td>9.0</td>\n",
       "    </tr>\n",
       "    <tr>\n",
       "      <th>2</th>\n",
       "      <td>9.0</td>\n",
       "    </tr>\n",
       "    <tr>\n",
       "      <th>3</th>\n",
       "      <td>9.0</td>\n",
       "    </tr>\n",
       "    <tr>\n",
       "      <th>4</th>\n",
       "      <td>9.0</td>\n",
       "    </tr>\n",
       "    <tr>\n",
       "      <th>...</th>\n",
       "      <td>...</td>\n",
       "    </tr>\n",
       "    <tr>\n",
       "      <th>999995</th>\n",
       "      <td>7.5</td>\n",
       "    </tr>\n",
       "    <tr>\n",
       "      <th>999996</th>\n",
       "      <td>7.5</td>\n",
       "    </tr>\n",
       "    <tr>\n",
       "      <th>999997</th>\n",
       "      <td>7.5</td>\n",
       "    </tr>\n",
       "    <tr>\n",
       "      <th>999998</th>\n",
       "      <td>7.5</td>\n",
       "    </tr>\n",
       "    <tr>\n",
       "      <th>999999</th>\n",
       "      <td>7.5</td>\n",
       "    </tr>\n",
       "  </tbody>\n",
       "</table>\n",
       "<p>756450 rows × 1 columns</p>\n",
       "</div>"
      ],
      "text/plain": [
       "        prices\n",
       "0          9.0\n",
       "1          9.0\n",
       "2          9.0\n",
       "3          9.0\n",
       "4          9.0\n",
       "...        ...\n",
       "999995     7.5\n",
       "999996     7.5\n",
       "999997     7.5\n",
       "999998     7.5\n",
       "999999     7.5\n",
       "\n",
       "[756450 rows x 1 columns]"
      ]
     },
     "execution_count": 10,
     "metadata": {},
     "output_type": "execute_result"
    }
   ],
   "source": [
    "# messing around with .loc function\n",
    "df.loc[df['price_range'] == 'Mid-range',['prices']]"
   ]
  },
  {
   "cell_type": "code",
   "execution_count": 11,
   "id": "731e255e",
   "metadata": {},
   "outputs": [
    {
     "name": "stderr",
     "output_type": "stream",
     "text": [
      "/var/folders/k5/g_rc3lgx7x9d6wvbtl981b340000gn/T/ipykernel_57864/1918128149.py:1: SettingWithCopyWarning: \n",
      "A value is trying to be set on a copy of a slice from a DataFrame.\n",
      "Try using .loc[row_indexer,col_indexer] = value instead\n",
      "\n",
      "See the caveats in the documentation: https://pandas.pydata.org/pandas-docs/stable/user_guide/indexing.html#returning-a-view-versus-a-copy\n",
      "  df.loc[df['prices'] > 15, 'price_range_loc'] = 'High-range'\n"
     ]
    }
   ],
   "source": [
    "# still getting an error message because this condition doesn't exist?\n",
    "df.loc[df['prices'] > 15, 'price_range_loc'] = 'High-range'"
   ]
  },
  {
   "cell_type": "code",
   "execution_count": 12,
   "id": "1a08b31a",
   "metadata": {},
   "outputs": [],
   "source": [
    "df.loc[(df['prices'] <= 15) & (df['prices'] > 5), 'price_range_loc'] = 'Mid-range' "
   ]
  },
  {
   "cell_type": "code",
   "execution_count": 13,
   "id": "c9604fed",
   "metadata": {},
   "outputs": [],
   "source": [
    "df.loc[df['prices'] <= 5, 'price_range_loc'] = 'Low-range'"
   ]
  },
  {
   "cell_type": "markdown",
   "id": "495a32ed",
   "metadata": {},
   "source": [
    "### b) now, with the whole dataframe"
   ]
  },
  {
   "cell_type": "code",
   "execution_count": 14,
   "id": "69330560",
   "metadata": {},
   "outputs": [],
   "source": [
    "# no error this time, which means there should be some products with $15+ prices\n",
    "ords_prods.loc[ords_prods['prices'] > 15, 'price_range_loc'] = 'High-range'"
   ]
  },
  {
   "cell_type": "code",
   "execution_count": 16,
   "id": "64d1e26a",
   "metadata": {},
   "outputs": [],
   "source": [
    "ords_prods.loc[(ords_prods['prices'] <= 15) & (ords_prods['prices'] > 5), 'price_range_loc'] = 'Mid-range'"
   ]
  },
  {
   "cell_type": "code",
   "execution_count": 17,
   "id": "64fb9f3f",
   "metadata": {},
   "outputs": [],
   "source": [
    "ords_prods.loc[ords_prods['prices'] <= 5, 'price_range_loc'] = 'Lo-range'"
   ]
  },
  {
   "cell_type": "code",
   "execution_count": 18,
   "id": "823ba641",
   "metadata": {},
   "outputs": [
    {
     "data": {
      "text/plain": [
       "Mid-range     21860868\n",
       "Lo-range      10126324\n",
       "High-range      417678\n",
       "NaN              30200\n",
       "Name: price_range_loc, dtype: int64"
      ]
     },
     "execution_count": 18,
     "metadata": {},
     "output_type": "execute_result"
    }
   ],
   "source": [
    "# check for frequencies\n",
    "ords_prods['price_range_loc'].value_counts(dropna = False)"
   ]
  },
  {
   "cell_type": "code",
   "execution_count": 22,
   "id": "2e2ae336",
   "metadata": {},
   "outputs": [],
   "source": [
    "# create an empty list, then step through the orders_day_of_week column to identify saturday (0) and wednesday (4)\n",
    "result = []\n",
    "\n",
    "for value in ords_prods[\"order_day_of_week\"]:\n",
    "  if value == 0:\n",
    "    result.append(\"Busiest day\")\n",
    "  elif value == 4:\n",
    "    result.append(\"Least busy\")\n",
    "  else:\n",
    "    result.append(\"Regularly busy\")"
   ]
  },
  {
   "cell_type": "code",
   "execution_count": 23,
   "id": "399535b5",
   "metadata": {},
   "outputs": [],
   "source": [
    "# set the result equal to a new column\n",
    "ords_prods['busiest_day'] = result"
   ]
  },
  {
   "cell_type": "code",
   "execution_count": 24,
   "id": "f957d9e6",
   "metadata": {},
   "outputs": [
    {
     "data": {
      "text/plain": [
       "Regularly busy    22437999\n",
       "Busiest day        6209808\n",
       "Least busy         3787263\n",
       "Name: busiest_day, dtype: int64"
      ]
     },
     "execution_count": 24,
     "metadata": {},
     "output_type": "execute_result"
    }
   ],
   "source": [
    "# check to see if the value counts match the order_day_of_week column\n",
    "ords_prods['busiest_day'].value_counts(dropna = False)"
   ]
  },
  {
   "cell_type": "code",
   "execution_count": 25,
   "id": "fddac545",
   "metadata": {},
   "outputs": [
    {
     "data": {
      "text/plain": [
       "0.0    6209808\n",
       "1.0    5665951\n",
       "6.0    4500391\n",
       "2.0    4217868\n",
       "5.0    4209603\n",
       "3.0    3844175\n",
       "4.0    3787263\n",
       "NaN         11\n",
       "Name: order_day_of_week, dtype: int64"
      ]
     },
     "execution_count": 25,
     "metadata": {},
     "output_type": "execute_result"
    }
   ],
   "source": [
    "ords_prods['order_day_of_week'].value_counts(dropna = False)"
   ]
  },
  {
   "cell_type": "code",
   "execution_count": 49,
   "id": "8a5d2cd9",
   "metadata": {},
   "outputs": [],
   "source": [
    "# rename price_range column\n",
    "ords_prods.rename(columns={'price_range_loc':'price_range'}, inplace = True)"
   ]
  },
  {
   "cell_type": "markdown",
   "id": "3e91e9a4",
   "metadata": {},
   "source": [
    "## 04 Task 4.7 - Deriving more variables"
   ]
  },
  {
   "cell_type": "markdown",
   "id": "81982229",
   "metadata": {},
   "source": [
    "### a) Step 2 - using a function"
   ]
  },
  {
   "cell_type": "code",
   "execution_count": 27,
   "id": "a8ad0163",
   "metadata": {},
   "outputs": [],
   "source": [
    "# redefine result as an empty list, step through order_day_of_week and identify 2 busiest and least busy days\n",
    "result = []\n",
    "\n",
    "for value in ords_prods[\"order_day_of_week\"]:\n",
    "  if value == 0 or value == 1:\n",
    "    result.append(\"Busiest days\")\n",
    "  elif value == 4 or value == 3:\n",
    "    result.append(\"Least busy days\")\n",
    "  else:\n",
    "    result.append(\"Regularly busy\")"
   ]
  },
  {
   "cell_type": "code",
   "execution_count": 28,
   "id": "c6a430c7",
   "metadata": {},
   "outputs": [],
   "source": [
    "ords_prods['busiest_days'] = result"
   ]
  },
  {
   "cell_type": "markdown",
   "id": "015dd6dc",
   "metadata": {},
   "source": [
    "### b) Step 3 - value counts from derivation"
   ]
  },
  {
   "cell_type": "code",
   "execution_count": 29,
   "id": "da315d07",
   "metadata": {},
   "outputs": [
    {
     "data": {
      "text/plain": [
       "Regularly busy     12927873\n",
       "Busiest days       11875759\n",
       "Least busy days     7631438\n",
       "Name: busiest_days, dtype: int64"
      ]
     },
     "execution_count": 29,
     "metadata": {},
     "output_type": "execute_result"
    }
   ],
   "source": [
    "# values check\n",
    "ords_prods['busiest_days'].value_counts(dropna = False)"
   ]
  },
  {
   "cell_type": "code",
   "execution_count": 30,
   "id": "e43b6d9c",
   "metadata": {},
   "outputs": [
    {
     "data": {
      "text/plain": [
       "11875759"
      ]
     },
     "execution_count": 30,
     "metadata": {},
     "output_type": "execute_result"
    }
   ],
   "source": [
    "# busiest days should be Saturday + Monday\n",
    "6209808 + 5665951"
   ]
  },
  {
   "cell_type": "code",
   "execution_count": 31,
   "id": "5c59a890",
   "metadata": {},
   "outputs": [
    {
     "data": {
      "text/plain": [
       "7631438"
      ]
     },
     "execution_count": 31,
     "metadata": {},
     "output_type": "execute_result"
    }
   ],
   "source": [
    "# least busy days should be Tuesday + Wednesday\n",
    "3844175 + 3787263"
   ]
  },
  {
   "cell_type": "markdown",
   "id": "0141e9af",
   "metadata": {},
   "source": [
    "### c) Step 4 - More variable derivation"
   ]
  },
  {
   "cell_type": "code",
   "execution_count": 32,
   "id": "4d84bb38",
   "metadata": {},
   "outputs": [
    {
     "data": {
      "text/plain": [
       "Index(['order_id', 'user_id', 'order_number', 'order_day_of_week',\n",
       "       'order_hour_of_day', 'days_since_prior_order', 'first_order',\n",
       "       'product_id', 'add_to_cart_order', 'reordered', 'product_name',\n",
       "       'aisle_id', 'department_id', 'prices', '_merge', 'price_range_loc',\n",
       "       'busiest_day', 'busiest_days'],\n",
       "      dtype='object')"
      ]
     },
     "execution_count": 32,
     "metadata": {},
     "output_type": "execute_result"
    }
   ],
   "source": [
    "ords_prods.columns"
   ]
  },
  {
   "cell_type": "code",
   "execution_count": 33,
   "id": "8ad11cd2",
   "metadata": {},
   "outputs": [
    {
     "data": {
      "text/plain": [
       "10.0    2764476\n",
       "11.0    2738647\n",
       "14.0    2691598\n",
       "15.0    2664583\n",
       "13.0    2663346\n",
       "12.0    2620898\n",
       "16.0    2537506\n",
       "9.0     2456751\n",
       "17.0    2089510\n",
       "8.0     1719991\n",
       "18.0    1637956\n",
       "19.0    1259416\n",
       "20.0     977049\n",
       "7.0      891951\n",
       "21.0     796379\n",
       "22.0     634743\n",
       "23.0     402621\n",
       "6.0      290796\n",
       "0.0      218951\n",
       "1.0      115787\n",
       "5.0       88064\n",
       "2.0       69435\n",
       "4.0       53284\n",
       "3.0       51321\n",
       "NaN          11\n",
       "Name: order_hour_of_day, dtype: int64"
      ]
     },
     "execution_count": 33,
     "metadata": {},
     "output_type": "execute_result"
    }
   ],
   "source": [
    "# frequency check of orders during all hours of the day\n",
    "ords_prods['order_hour_of_day'].value_counts(dropna = False)"
   ]
  },
  {
   "cell_type": "code",
   "execution_count": 42,
   "id": "3f8faec4",
   "metadata": {},
   "outputs": [],
   "source": [
    "# reset result to empty list, step through order_hour_of_day and estabish periods of busy-ness\n",
    "result = []\n",
    "\n",
    "for value in ords_prods[\"order_hour_of_day\"]:\n",
    "  if value >= 10 and value < 16:\n",
    "    result.append(\"most orders\")\n",
    "  elif value >= 16 and value < 21:\n",
    "    result.append(\"average orders\")\n",
    "  elif value >= 7 and value < 10:\n",
    "    result.append(\"average orders\")\n",
    "  elif value >= 0 and value < 7:\n",
    "    result.append(\"fewest orders\")\n",
    "  elif value >= 21 and value < 24:\n",
    "    result.append(\"fewest orders\")  \n",
    "  elif pd.isna(value):\n",
    "    result.append(np.nan)  \n",
    "  else:\n",
    "    result.append('huh')"
   ]
  },
  {
   "cell_type": "code",
   "execution_count": 43,
   "id": "79003d8d",
   "metadata": {},
   "outputs": [],
   "source": [
    "ords_prods['busiest_period_of_day'] = result"
   ]
  },
  {
   "cell_type": "markdown",
   "id": "2b701917",
   "metadata": {},
   "source": [
    "### d) Step 5 - value counts from derivation"
   ]
  },
  {
   "cell_type": "code",
   "execution_count": 45,
   "id": "bdcadb4e",
   "metadata": {},
   "outputs": [
    {
     "data": {
      "text/plain": [
       "most orders       16143548\n",
       "average orders    13570130\n",
       "fewest orders      2721381\n",
       "NaN                     11\n",
       "Name: busiest_period_of_day, dtype: int64"
      ]
     },
     "execution_count": 45,
     "metadata": {},
     "output_type": "execute_result"
    }
   ],
   "source": [
    "# check frequency\n",
    "ords_prods['busiest_period_of_day'].value_counts(dropna = False)"
   ]
  },
  {
   "cell_type": "code",
   "execution_count": 46,
   "id": "758dc39f",
   "metadata": {},
   "outputs": [
    {
     "data": {
      "text/plain": [
       "16143548"
      ]
     },
     "execution_count": 46,
     "metadata": {},
     "output_type": "execute_result"
    }
   ],
   "source": [
    "# most orders should be the summation of hours 10 through 15\n",
    "2764476 + 2738647 + 2691598 + 2664583 + 2663346 + 2620898"
   ]
  },
  {
   "cell_type": "code",
   "execution_count": 47,
   "id": "51565b27",
   "metadata": {},
   "outputs": [
    {
     "data": {
      "text/plain": [
       "(32435070, 19)"
      ]
     },
     "execution_count": 47,
     "metadata": {},
     "output_type": "execute_result"
    }
   ],
   "source": [
    "ords_prods.shape"
   ]
  },
  {
   "cell_type": "code",
   "execution_count": 50,
   "id": "51b489e3",
   "metadata": {},
   "outputs": [
    {
     "data": {
      "text/html": [
       "<div>\n",
       "<style scoped>\n",
       "    .dataframe tbody tr th:only-of-type {\n",
       "        vertical-align: middle;\n",
       "    }\n",
       "\n",
       "    .dataframe tbody tr th {\n",
       "        vertical-align: top;\n",
       "    }\n",
       "\n",
       "    .dataframe thead th {\n",
       "        text-align: right;\n",
       "    }\n",
       "</style>\n",
       "<table border=\"1\" class=\"dataframe\">\n",
       "  <thead>\n",
       "    <tr style=\"text-align: right;\">\n",
       "      <th></th>\n",
       "      <th>order_id</th>\n",
       "      <th>user_id</th>\n",
       "      <th>order_number</th>\n",
       "      <th>order_day_of_week</th>\n",
       "      <th>order_hour_of_day</th>\n",
       "      <th>days_since_prior_order</th>\n",
       "      <th>first_order</th>\n",
       "      <th>product_id</th>\n",
       "      <th>add_to_cart_order</th>\n",
       "      <th>reordered</th>\n",
       "      <th>product_name</th>\n",
       "      <th>aisle_id</th>\n",
       "      <th>department_id</th>\n",
       "      <th>prices</th>\n",
       "      <th>_merge</th>\n",
       "      <th>price_range</th>\n",
       "      <th>busiest_day</th>\n",
       "      <th>busiest_days</th>\n",
       "      <th>busiest_period_of_day</th>\n",
       "    </tr>\n",
       "  </thead>\n",
       "  <tbody>\n",
       "    <tr>\n",
       "      <th>0</th>\n",
       "      <td>2539329.0</td>\n",
       "      <td>1.0</td>\n",
       "      <td>1.0</td>\n",
       "      <td>2.0</td>\n",
       "      <td>8.0</td>\n",
       "      <td>NaN</td>\n",
       "      <td>True</td>\n",
       "      <td>196</td>\n",
       "      <td>1.0</td>\n",
       "      <td>0.0</td>\n",
       "      <td>Soda</td>\n",
       "      <td>77.0</td>\n",
       "      <td>7.0</td>\n",
       "      <td>9.0</td>\n",
       "      <td>both</td>\n",
       "      <td>Mid-range</td>\n",
       "      <td>Regularly busy</td>\n",
       "      <td>Regularly busy</td>\n",
       "      <td>average orders</td>\n",
       "    </tr>\n",
       "    <tr>\n",
       "      <th>1</th>\n",
       "      <td>2398795.0</td>\n",
       "      <td>1.0</td>\n",
       "      <td>2.0</td>\n",
       "      <td>3.0</td>\n",
       "      <td>7.0</td>\n",
       "      <td>15.0</td>\n",
       "      <td>False</td>\n",
       "      <td>196</td>\n",
       "      <td>1.0</td>\n",
       "      <td>1.0</td>\n",
       "      <td>Soda</td>\n",
       "      <td>77.0</td>\n",
       "      <td>7.0</td>\n",
       "      <td>9.0</td>\n",
       "      <td>both</td>\n",
       "      <td>Mid-range</td>\n",
       "      <td>Regularly busy</td>\n",
       "      <td>Least busy days</td>\n",
       "      <td>average orders</td>\n",
       "    </tr>\n",
       "    <tr>\n",
       "      <th>2</th>\n",
       "      <td>473747.0</td>\n",
       "      <td>1.0</td>\n",
       "      <td>3.0</td>\n",
       "      <td>3.0</td>\n",
       "      <td>12.0</td>\n",
       "      <td>21.0</td>\n",
       "      <td>False</td>\n",
       "      <td>196</td>\n",
       "      <td>1.0</td>\n",
       "      <td>1.0</td>\n",
       "      <td>Soda</td>\n",
       "      <td>77.0</td>\n",
       "      <td>7.0</td>\n",
       "      <td>9.0</td>\n",
       "      <td>both</td>\n",
       "      <td>Mid-range</td>\n",
       "      <td>Regularly busy</td>\n",
       "      <td>Least busy days</td>\n",
       "      <td>most orders</td>\n",
       "    </tr>\n",
       "    <tr>\n",
       "      <th>3</th>\n",
       "      <td>2254736.0</td>\n",
       "      <td>1.0</td>\n",
       "      <td>4.0</td>\n",
       "      <td>4.0</td>\n",
       "      <td>7.0</td>\n",
       "      <td>29.0</td>\n",
       "      <td>False</td>\n",
       "      <td>196</td>\n",
       "      <td>1.0</td>\n",
       "      <td>1.0</td>\n",
       "      <td>Soda</td>\n",
       "      <td>77.0</td>\n",
       "      <td>7.0</td>\n",
       "      <td>9.0</td>\n",
       "      <td>both</td>\n",
       "      <td>Mid-range</td>\n",
       "      <td>Least busy</td>\n",
       "      <td>Least busy days</td>\n",
       "      <td>average orders</td>\n",
       "    </tr>\n",
       "    <tr>\n",
       "      <th>4</th>\n",
       "      <td>431534.0</td>\n",
       "      <td>1.0</td>\n",
       "      <td>5.0</td>\n",
       "      <td>4.0</td>\n",
       "      <td>15.0</td>\n",
       "      <td>28.0</td>\n",
       "      <td>False</td>\n",
       "      <td>196</td>\n",
       "      <td>1.0</td>\n",
       "      <td>1.0</td>\n",
       "      <td>Soda</td>\n",
       "      <td>77.0</td>\n",
       "      <td>7.0</td>\n",
       "      <td>9.0</td>\n",
       "      <td>both</td>\n",
       "      <td>Mid-range</td>\n",
       "      <td>Least busy</td>\n",
       "      <td>Least busy days</td>\n",
       "      <td>most orders</td>\n",
       "    </tr>\n",
       "  </tbody>\n",
       "</table>\n",
       "</div>"
      ],
      "text/plain": [
       "    order_id  user_id  order_number  order_day_of_week  order_hour_of_day  \\\n",
       "0  2539329.0      1.0           1.0                2.0                8.0   \n",
       "1  2398795.0      1.0           2.0                3.0                7.0   \n",
       "2   473747.0      1.0           3.0                3.0               12.0   \n",
       "3  2254736.0      1.0           4.0                4.0                7.0   \n",
       "4   431534.0      1.0           5.0                4.0               15.0   \n",
       "\n",
       "   days_since_prior_order first_order  product_id  add_to_cart_order  \\\n",
       "0                     NaN        True         196                1.0   \n",
       "1                    15.0       False         196                1.0   \n",
       "2                    21.0       False         196                1.0   \n",
       "3                    29.0       False         196                1.0   \n",
       "4                    28.0       False         196                1.0   \n",
       "\n",
       "   reordered product_name  aisle_id  department_id  prices _merge price_range  \\\n",
       "0        0.0         Soda      77.0            7.0     9.0   both   Mid-range   \n",
       "1        1.0         Soda      77.0            7.0     9.0   both   Mid-range   \n",
       "2        1.0         Soda      77.0            7.0     9.0   both   Mid-range   \n",
       "3        1.0         Soda      77.0            7.0     9.0   both   Mid-range   \n",
       "4        1.0         Soda      77.0            7.0     9.0   both   Mid-range   \n",
       "\n",
       "      busiest_day     busiest_days busiest_period_of_day  \n",
       "0  Regularly busy   Regularly busy        average orders  \n",
       "1  Regularly busy  Least busy days        average orders  \n",
       "2  Regularly busy  Least busy days           most orders  \n",
       "3      Least busy  Least busy days        average orders  \n",
       "4      Least busy  Least busy days           most orders  "
      ]
     },
     "execution_count": 50,
     "metadata": {},
     "output_type": "execute_result"
    }
   ],
   "source": [
    "ords_prods.head()"
   ]
  },
  {
   "cell_type": "markdown",
   "id": "9c902cb5",
   "metadata": {},
   "source": [
    "## 05 Exporting "
   ]
  },
  {
   "cell_type": "code",
   "execution_count": 51,
   "id": "11e84cdc",
   "metadata": {},
   "outputs": [],
   "source": [
    "ords_prods.to_pickle(os.path.join(path, '02 Data', 'prepared data', 'orders_products_merged_2.pkl'))"
   ]
  }
 ],
 "metadata": {
  "kernelspec": {
   "display_name": "Python 3 (ipykernel)",
   "language": "python",
   "name": "python3"
  },
  "language_info": {
   "codemirror_mode": {
    "name": "ipython",
    "version": 3
   },
   "file_extension": ".py",
   "mimetype": "text/x-python",
   "name": "python",
   "nbconvert_exporter": "python",
   "pygments_lexer": "ipython3",
   "version": "3.9.12"
  },
  "varInspector": {
   "cols": {
    "lenName": 16,
    "lenType": 16,
    "lenVar": 40
   },
   "kernels_config": {
    "python": {
     "delete_cmd_postfix": "",
     "delete_cmd_prefix": "del ",
     "library": "var_list.py",
     "varRefreshCmd": "print(var_dic_list())"
    },
    "r": {
     "delete_cmd_postfix": ") ",
     "delete_cmd_prefix": "rm(",
     "library": "var_list.r",
     "varRefreshCmd": "cat(var_dic_list()) "
    }
   },
   "oldHeight": 122.852,
   "position": {
    "height": "40px",
    "left": "1010px",
    "right": "20px",
    "top": "120px",
    "width": "250px"
   },
   "types_to_exclude": [
    "module",
    "function",
    "builtin_function_or_method",
    "instance",
    "_Feature"
   ],
   "varInspector_section_display": "none",
   "window_display": false
  }
 },
 "nbformat": 4,
 "nbformat_minor": 5
}
